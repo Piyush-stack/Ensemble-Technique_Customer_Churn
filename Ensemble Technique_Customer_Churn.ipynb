{
 "cells": [
  {
   "cell_type": "code",
   "execution_count": 1,
   "metadata": {
    "executionInfo": {
     "elapsed": 2086,
     "status": "ok",
     "timestamp": 1624095536078,
     "user": {
      "displayName": "Saurabh Singh",
      "photoUrl": "",
      "userId": "17828593908952867657"
     },
     "user_tz": -330
    },
    "id": "Vc1RTILVIwhY"
   },
   "outputs": [],
   "source": [
    "import numpy as np\n",
    "import pandas as pd\n",
    "import seaborn as sns\n",
    "import matplotlib.pyplot as plt\n",
    "%matplotlib inline\n",
    "from sklearn.utils import resample\n",
    "from sklearn.model_selection import train_test_split"
   ]
  },
  {
   "cell_type": "code",
   "execution_count": 2,
   "metadata": {
    "colab": {
     "base_uri": "https://localhost:8080/"
    },
    "executionInfo": {
     "elapsed": 28,
     "status": "ok",
     "timestamp": 1624095539651,
     "user": {
      "displayName": "Saurabh Singh",
      "photoUrl": "",
      "userId": "17828593908952867657"
     },
     "user_tz": -330
    },
    "id": "QhC0L1zcKb6I",
    "outputId": "b9a5f394-4625-4936-d842-2b15140a3a93"
   },
   "outputs": [
    {
     "name": "stdout",
     "output_type": "stream",
     "text": [
      "Drive already mounted at /content/drive; to attempt to forcibly remount, call drive.mount(\"/content/drive\", force_remount=True).\n"
     ]
    }
   ],
   "source": [
    "from google.colab import drive\n",
    "drive.mount('/content/drive')"
   ]
  },
  {
   "cell_type": "code",
   "execution_count": 4,
   "metadata": {
    "executionInfo": {
     "elapsed": 1710,
     "status": "ok",
     "timestamp": 1624095574764,
     "user": {
      "displayName": "Saurabh Singh",
      "photoUrl": "",
      "userId": "17828593908952867657"
     },
     "user_tz": -330
    },
    "id": "vH986kmJKqHb"
   },
   "outputs": [],
   "source": [
    "path = 'drive/MyDrive/dataset'"
   ]
  },
  {
   "cell_type": "markdown",
   "metadata": {
    "id": "9SEX8sNPNSGz"
   },
   "source": [
    "**1. Import and warehouse data:**\n",
    "* Import all the given datasets from MYSQL server. Explore shape and size.\n",
    "* Merge all datasets onto one and explore final shape and size."
   ]
  },
  {
   "cell_type": "code",
   "execution_count": 5,
   "metadata": {
    "executionInfo": {
     "elapsed": 554,
     "status": "ok",
     "timestamp": 1624095580781,
     "user": {
      "displayName": "Saurabh Singh",
      "photoUrl": "",
      "userId": "17828593908952867657"
     },
     "user_tz": -330
    },
    "id": "gMRWj_7oNMsY"
   },
   "outputs": [],
   "source": [
    "data = pd.read_csv(path+'/TelcomCustomer-Churn.csv')"
   ]
  },
  {
   "cell_type": "code",
   "execution_count": null,
   "metadata": {
    "id": "u6qUsGcwZnCY"
   },
   "outputs": [],
   "source": [
    "data.head()"
   ]
  },
  {
   "cell_type": "code",
   "execution_count": null,
   "metadata": {
    "colab": {
     "base_uri": "https://localhost:8080/"
    },
    "executionInfo": {
     "elapsed": 398,
     "status": "ok",
     "timestamp": 1623833494553,
     "user": {
      "displayName": "Saurabh Singh",
      "photoUrl": "",
      "userId": "17828593908952867657"
     },
     "user_tz": -330
    },
    "id": "1owklY-ZZ-lV",
    "outputId": "ba77d0dc-9196-4ad8-d173-68401dd55e15"
   },
   "outputs": [
    {
     "data": {
      "text/plain": [
       "(7043, 21)"
      ]
     },
     "execution_count": 73,
     "metadata": {
      "tags": []
     },
     "output_type": "execute_result"
    }
   ],
   "source": [
    "data.shape"
   ]
  },
  {
   "cell_type": "code",
   "execution_count": null,
   "metadata": {
    "colab": {
     "base_uri": "https://localhost:8080/"
    },
    "executionInfo": {
     "elapsed": 14,
     "status": "ok",
     "timestamp": 1623830747982,
     "user": {
      "displayName": "Saurabh Singh",
      "photoUrl": "",
      "userId": "17828593908952867657"
     },
     "user_tz": -330
    },
    "id": "taN7oEykiZxH",
    "outputId": "6ce15821-0077-4067-fd7d-7134af0a3a0e"
   },
   "outputs": [
    {
     "data": {
      "text/plain": [
       "147903"
      ]
     },
     "execution_count": 45,
     "metadata": {
      "tags": []
     },
     "output_type": "execute_result"
    }
   ],
   "source": [
    "data.size"
   ]
  },
  {
   "cell_type": "code",
   "execution_count": null,
   "metadata": {
    "id": "AnayPwInkPp1"
   },
   "outputs": [],
   "source": [
    "data.tail()"
   ]
  },
  {
   "cell_type": "code",
   "execution_count": null,
   "metadata": {
    "id": "tMtmuOgPZ0lu"
   },
   "outputs": [],
   "source": [
    "data.info()"
   ]
  },
  {
   "cell_type": "markdown",
   "metadata": {
    "id": "dpCnx5rv2BYr"
   },
   "source": [
    "**2. Data cleansing:**\n",
    "* Missing value treatment\n",
    "* Convert categorical attributes to continuous using relevant functional knowledge\n",
    "* Drop attribute/s if required using relevant functional knowledge\n",
    "* Automate all the above steps"
   ]
  },
  {
   "cell_type": "code",
   "execution_count": 12,
   "metadata": {
    "colab": {
     "base_uri": "https://localhost:8080/"
    },
    "executionInfo": {
     "elapsed": 678,
     "status": "ok",
     "timestamp": 1624095681643,
     "user": {
      "displayName": "Saurabh Singh",
      "photoUrl": "",
      "userId": "17828593908952867657"
     },
     "user_tz": -330
    },
    "id": "-c3tDb0r2POW",
    "outputId": "f69c222a-0d27-41da-af64-b17616a6693e"
   },
   "outputs": [
    {
     "data": {
      "text/plain": [
       "customerID          0\n",
       "gender              0\n",
       "SeniorCitizen       0\n",
       "Partner             0\n",
       "Dependents          0\n",
       "tenure              0\n",
       "PhoneService        0\n",
       "MultipleLines       0\n",
       "InternetService     0\n",
       "OnlineSecurity      0\n",
       "OnlineBackup        0\n",
       "DeviceProtection    0\n",
       "TechSupport         0\n",
       "StreamingTV         0\n",
       "StreamingMovies     0\n",
       "Contract            0\n",
       "PaperlessBilling    0\n",
       "PaymentMethod       0\n",
       "MonthlyCharges      0\n",
       "TotalCharges        0\n",
       "Churn               0\n",
       "dtype: int64"
      ]
     },
     "execution_count": 12,
     "metadata": {
      "tags": []
     },
     "output_type": "execute_result"
    }
   ],
   "source": [
    "data.isna().sum()"
   ]
  },
  {
   "cell_type": "markdown",
   "metadata": {
    "id": "M2nue1oop6cR"
   },
   "source": [
    "**converting the object dtype to category**"
   ]
  },
  {
   "cell_type": "code",
   "execution_count": 13,
   "metadata": {
    "colab": {
     "base_uri": "https://localhost:8080/"
    },
    "executionInfo": {
     "elapsed": 408,
     "status": "ok",
     "timestamp": 1624095690478,
     "user": {
      "displayName": "Saurabh Singh",
      "photoUrl": "",
      "userId": "17828593908952867657"
     },
     "user_tz": -330
    },
    "id": "DP8EL8kp73-k",
    "outputId": "5b26de12-cda3-487b-ab74-aa38f5ff86c5"
   },
   "outputs": [
    {
     "data": {
      "text/plain": [
       "0         29.85\n",
       "1       1889.50\n",
       "2        108.15\n",
       "3       1840.75\n",
       "4        151.65\n",
       "         ...   \n",
       "7038    1990.50\n",
       "7039    7362.90\n",
       "7040     346.45\n",
       "7041     306.60\n",
       "7042    6844.50\n",
       "Name: TotalCharges, Length: 7043, dtype: float64"
      ]
     },
     "execution_count": 13,
     "metadata": {
      "tags": []
     },
     "output_type": "execute_result"
    }
   ],
   "source": [
    "data.TotalCharges = pd.to_numeric(data.TotalCharges, errors=\"coerce\")\n",
    "data.TotalCharges.astype(float)"
   ]
  },
  {
   "cell_type": "code",
   "execution_count": 14,
   "metadata": {
    "colab": {
     "base_uri": "https://localhost:8080/"
    },
    "executionInfo": {
     "elapsed": 402,
     "status": "ok",
     "timestamp": 1624095700393,
     "user": {
      "displayName": "Saurabh Singh",
      "photoUrl": "",
      "userId": "17828593908952867657"
     },
     "user_tz": -330
    },
    "id": "JRK2Lenj28Cp",
    "outputId": "33ad9202-be80-450b-a705-c6aa3cd23a15"
   },
   "outputs": [
    {
     "data": {
      "text/plain": [
       "customerID           0\n",
       "gender               0\n",
       "SeniorCitizen        0\n",
       "Partner              0\n",
       "Dependents           0\n",
       "tenure               0\n",
       "PhoneService         0\n",
       "MultipleLines        0\n",
       "InternetService      0\n",
       "OnlineSecurity       0\n",
       "OnlineBackup         0\n",
       "DeviceProtection     0\n",
       "TechSupport          0\n",
       "StreamingTV          0\n",
       "StreamingMovies      0\n",
       "Contract             0\n",
       "PaperlessBilling     0\n",
       "PaymentMethod        0\n",
       "MonthlyCharges       0\n",
       "TotalCharges        11\n",
       "Churn                0\n",
       "dtype: int64"
      ]
     },
     "execution_count": 14,
     "metadata": {
      "tags": []
     },
     "output_type": "execute_result"
    }
   ],
   "source": [
    "data.isna().sum()"
   ]
  },
  {
   "cell_type": "code",
   "execution_count": 15,
   "metadata": {
    "colab": {
     "base_uri": "https://localhost:8080/"
    },
    "executionInfo": {
     "elapsed": 404,
     "status": "ok",
     "timestamp": 1624095708575,
     "user": {
      "displayName": "Saurabh Singh",
      "photoUrl": "",
      "userId": "17828593908952867657"
     },
     "user_tz": -330
    },
    "id": "h16v4i8TEF2f",
    "outputId": "03febc42-e747-441d-d980-bcdd81b83eee"
   },
   "outputs": [
    {
     "data": {
      "text/plain": [
       "[488, 753, 936, 1082, 1340, 3331, 3826, 4380, 5218, 6670, 6754]"
      ]
     },
     "execution_count": 15,
     "metadata": {
      "tags": []
     },
     "output_type": "execute_result"
    }
   ],
   "source": [
    "b = data[data['TotalCharges'].isnull()].index.tolist()\n",
    "b"
   ]
  },
  {
   "cell_type": "code",
   "execution_count": null,
   "metadata": {
    "id": "SudbdbNwA_W7"
   },
   "outputs": [],
   "source": [
    "bool_series = pd.isnull(data[\"TotalCharges\"])\n",
    "data[bool_series]"
   ]
  },
  {
   "cell_type": "code",
   "execution_count": 17,
   "metadata": {
    "executionInfo": {
     "elapsed": 420,
     "status": "ok",
     "timestamp": 1624095778809,
     "user": {
      "displayName": "Saurabh Singh",
      "photoUrl": "",
      "userId": "17828593908952867657"
     },
     "user_tz": -330
    },
    "id": "EuEjS343_62u"
   },
   "outputs": [],
   "source": [
    "data = data.dropna()"
   ]
  },
  {
   "cell_type": "code",
   "execution_count": 18,
   "metadata": {
    "colab": {
     "base_uri": "https://localhost:8080/"
    },
    "executionInfo": {
     "elapsed": 20,
     "status": "ok",
     "timestamp": 1624095782028,
     "user": {
      "displayName": "Saurabh Singh",
      "photoUrl": "",
      "userId": "17828593908952867657"
     },
     "user_tz": -330
    },
    "id": "wO3lKw7MAHI7",
    "outputId": "4e724760-d038-4d12-dac0-56c3ae2af1a5"
   },
   "outputs": [
    {
     "data": {
      "text/plain": [
       "(7032, 21)"
      ]
     },
     "execution_count": 18,
     "metadata": {
      "tags": []
     },
     "output_type": "execute_result"
    }
   ],
   "source": [
    "data.shape"
   ]
  },
  {
   "cell_type": "code",
   "execution_count": 19,
   "metadata": {
    "executionInfo": {
     "elapsed": 10,
     "status": "ok",
     "timestamp": 1624095785002,
     "user": {
      "displayName": "Saurabh Singh",
      "photoUrl": "",
      "userId": "17828593908952867657"
     },
     "user_tz": -330
    },
    "id": "NhxoI1PKqMZZ"
   },
   "outputs": [],
   "source": [
    "for i in data.columns:\n",
    "  if data[i].dtype == 'object':\n",
    "    data[i] = pd.Categorical(data[i])\n"
   ]
  },
  {
   "cell_type": "code",
   "execution_count": 20,
   "metadata": {
    "executionInfo": {
     "elapsed": 493,
     "status": "ok",
     "timestamp": 1624095788715,
     "user": {
      "displayName": "Saurabh Singh",
      "photoUrl": "",
      "userId": "17828593908952867657"
     },
     "user_tz": -330
    },
    "id": "8eyGHeSZgAdO"
   },
   "outputs": [],
   "source": [
    "data1 = data"
   ]
  },
  {
   "cell_type": "code",
   "execution_count": 22,
   "metadata": {
    "colab": {
     "base_uri": "https://localhost:8080/",
     "height": 305
    },
    "executionInfo": {
     "elapsed": 881,
     "status": "ok",
     "timestamp": 1624095819772,
     "user": {
      "displayName": "Saurabh Singh",
      "photoUrl": "",
      "userId": "17828593908952867657"
     },
     "user_tz": -330
    },
    "id": "AFpgmrLtxKmT",
    "outputId": "9990980b-0631-4ec3-bd73-542d44b81961"
   },
   "outputs": [
    {
     "data": {
      "text/html": [
       "<div>\n",
       "<style scoped>\n",
       "    .dataframe tbody tr th:only-of-type {\n",
       "        vertical-align: middle;\n",
       "    }\n",
       "\n",
       "    .dataframe tbody tr th {\n",
       "        vertical-align: top;\n",
       "    }\n",
       "\n",
       "    .dataframe thead th {\n",
       "        text-align: right;\n",
       "    }\n",
       "</style>\n",
       "<table border=\"1\" class=\"dataframe\">\n",
       "  <thead>\n",
       "    <tr style=\"text-align: right;\">\n",
       "      <th></th>\n",
       "      <th>customerID</th>\n",
       "      <th>gender</th>\n",
       "      <th>SeniorCitizen</th>\n",
       "      <th>Partner</th>\n",
       "      <th>Dependents</th>\n",
       "      <th>tenure</th>\n",
       "      <th>PhoneService</th>\n",
       "      <th>MultipleLines</th>\n",
       "      <th>InternetService</th>\n",
       "      <th>OnlineSecurity</th>\n",
       "      <th>OnlineBackup</th>\n",
       "      <th>DeviceProtection</th>\n",
       "      <th>TechSupport</th>\n",
       "      <th>StreamingTV</th>\n",
       "      <th>StreamingMovies</th>\n",
       "      <th>Contract</th>\n",
       "      <th>PaperlessBilling</th>\n",
       "      <th>PaymentMethod</th>\n",
       "      <th>MonthlyCharges</th>\n",
       "      <th>TotalCharges</th>\n",
       "      <th>Churn</th>\n",
       "    </tr>\n",
       "  </thead>\n",
       "  <tbody>\n",
       "    <tr>\n",
       "      <th>0</th>\n",
       "      <td>7590-VHVEG</td>\n",
       "      <td>Female</td>\n",
       "      <td>0</td>\n",
       "      <td>Yes</td>\n",
       "      <td>No</td>\n",
       "      <td>1</td>\n",
       "      <td>No</td>\n",
       "      <td>No phone service</td>\n",
       "      <td>DSL</td>\n",
       "      <td>No</td>\n",
       "      <td>Yes</td>\n",
       "      <td>No</td>\n",
       "      <td>No</td>\n",
       "      <td>No</td>\n",
       "      <td>No</td>\n",
       "      <td>Month-to-month</td>\n",
       "      <td>Yes</td>\n",
       "      <td>Electronic check</td>\n",
       "      <td>29.85</td>\n",
       "      <td>29.85</td>\n",
       "      <td>No</td>\n",
       "    </tr>\n",
       "    <tr>\n",
       "      <th>1</th>\n",
       "      <td>5575-GNVDE</td>\n",
       "      <td>Male</td>\n",
       "      <td>0</td>\n",
       "      <td>No</td>\n",
       "      <td>No</td>\n",
       "      <td>34</td>\n",
       "      <td>Yes</td>\n",
       "      <td>No</td>\n",
       "      <td>DSL</td>\n",
       "      <td>Yes</td>\n",
       "      <td>No</td>\n",
       "      <td>Yes</td>\n",
       "      <td>No</td>\n",
       "      <td>No</td>\n",
       "      <td>No</td>\n",
       "      <td>One year</td>\n",
       "      <td>No</td>\n",
       "      <td>Mailed check</td>\n",
       "      <td>56.95</td>\n",
       "      <td>1889.50</td>\n",
       "      <td>No</td>\n",
       "    </tr>\n",
       "    <tr>\n",
       "      <th>2</th>\n",
       "      <td>3668-QPYBK</td>\n",
       "      <td>Male</td>\n",
       "      <td>0</td>\n",
       "      <td>No</td>\n",
       "      <td>No</td>\n",
       "      <td>2</td>\n",
       "      <td>Yes</td>\n",
       "      <td>No</td>\n",
       "      <td>DSL</td>\n",
       "      <td>Yes</td>\n",
       "      <td>Yes</td>\n",
       "      <td>No</td>\n",
       "      <td>No</td>\n",
       "      <td>No</td>\n",
       "      <td>No</td>\n",
       "      <td>Month-to-month</td>\n",
       "      <td>Yes</td>\n",
       "      <td>Mailed check</td>\n",
       "      <td>53.85</td>\n",
       "      <td>108.15</td>\n",
       "      <td>Yes</td>\n",
       "    </tr>\n",
       "    <tr>\n",
       "      <th>3</th>\n",
       "      <td>7795-CFOCW</td>\n",
       "      <td>Male</td>\n",
       "      <td>0</td>\n",
       "      <td>No</td>\n",
       "      <td>No</td>\n",
       "      <td>45</td>\n",
       "      <td>No</td>\n",
       "      <td>No phone service</td>\n",
       "      <td>DSL</td>\n",
       "      <td>Yes</td>\n",
       "      <td>No</td>\n",
       "      <td>Yes</td>\n",
       "      <td>Yes</td>\n",
       "      <td>No</td>\n",
       "      <td>No</td>\n",
       "      <td>One year</td>\n",
       "      <td>No</td>\n",
       "      <td>Bank transfer (automatic)</td>\n",
       "      <td>42.30</td>\n",
       "      <td>1840.75</td>\n",
       "      <td>No</td>\n",
       "    </tr>\n",
       "    <tr>\n",
       "      <th>4</th>\n",
       "      <td>9237-HQITU</td>\n",
       "      <td>Female</td>\n",
       "      <td>0</td>\n",
       "      <td>No</td>\n",
       "      <td>No</td>\n",
       "      <td>2</td>\n",
       "      <td>Yes</td>\n",
       "      <td>No</td>\n",
       "      <td>Fiber optic</td>\n",
       "      <td>No</td>\n",
       "      <td>No</td>\n",
       "      <td>No</td>\n",
       "      <td>No</td>\n",
       "      <td>No</td>\n",
       "      <td>No</td>\n",
       "      <td>Month-to-month</td>\n",
       "      <td>Yes</td>\n",
       "      <td>Electronic check</td>\n",
       "      <td>70.70</td>\n",
       "      <td>151.65</td>\n",
       "      <td>Yes</td>\n",
       "    </tr>\n",
       "  </tbody>\n",
       "</table>\n",
       "</div>"
      ],
      "text/plain": [
       "   customerID  gender  SeniorCitizen  ... MonthlyCharges TotalCharges  Churn\n",
       "0  7590-VHVEG  Female              0  ...          29.85        29.85     No\n",
       "1  5575-GNVDE    Male              0  ...          56.95      1889.50     No\n",
       "2  3668-QPYBK    Male              0  ...          53.85       108.15    Yes\n",
       "3  7795-CFOCW    Male              0  ...          42.30      1840.75     No\n",
       "4  9237-HQITU  Female              0  ...          70.70       151.65    Yes\n",
       "\n",
       "[5 rows x 21 columns]"
      ]
     },
     "execution_count": 22,
     "metadata": {
      "tags": []
     },
     "output_type": "execute_result"
    }
   ],
   "source": [
    "data1.head()"
   ]
  },
  {
   "cell_type": "code",
   "execution_count": 23,
   "metadata": {
    "colab": {
     "base_uri": "https://localhost:8080/",
     "height": 305
    },
    "executionInfo": {
     "elapsed": 20,
     "status": "ok",
     "timestamp": 1624095822179,
     "user": {
      "displayName": "Saurabh Singh",
      "photoUrl": "",
      "userId": "17828593908952867657"
     },
     "user_tz": -330
    },
    "id": "MunxcFG_xTLn",
    "outputId": "c26463d6-045d-4d21-f3fc-77f1a1640e15"
   },
   "outputs": [
    {
     "data": {
      "text/html": [
       "<div>\n",
       "<style scoped>\n",
       "    .dataframe tbody tr th:only-of-type {\n",
       "        vertical-align: middle;\n",
       "    }\n",
       "\n",
       "    .dataframe tbody tr th {\n",
       "        vertical-align: top;\n",
       "    }\n",
       "\n",
       "    .dataframe thead th {\n",
       "        text-align: right;\n",
       "    }\n",
       "</style>\n",
       "<table border=\"1\" class=\"dataframe\">\n",
       "  <thead>\n",
       "    <tr style=\"text-align: right;\">\n",
       "      <th></th>\n",
       "      <th>customerID</th>\n",
       "      <th>gender</th>\n",
       "      <th>SeniorCitizen</th>\n",
       "      <th>Partner</th>\n",
       "      <th>Dependents</th>\n",
       "      <th>tenure</th>\n",
       "      <th>PhoneService</th>\n",
       "      <th>MultipleLines</th>\n",
       "      <th>InternetService</th>\n",
       "      <th>OnlineSecurity</th>\n",
       "      <th>OnlineBackup</th>\n",
       "      <th>DeviceProtection</th>\n",
       "      <th>TechSupport</th>\n",
       "      <th>StreamingTV</th>\n",
       "      <th>StreamingMovies</th>\n",
       "      <th>Contract</th>\n",
       "      <th>PaperlessBilling</th>\n",
       "      <th>PaymentMethod</th>\n",
       "      <th>MonthlyCharges</th>\n",
       "      <th>TotalCharges</th>\n",
       "      <th>Churn</th>\n",
       "    </tr>\n",
       "  </thead>\n",
       "  <tbody>\n",
       "    <tr>\n",
       "      <th>0</th>\n",
       "      <td>7590-VHVEG</td>\n",
       "      <td>Female</td>\n",
       "      <td>0</td>\n",
       "      <td>Yes</td>\n",
       "      <td>No</td>\n",
       "      <td>1</td>\n",
       "      <td>No</td>\n",
       "      <td>No phone service</td>\n",
       "      <td>DSL</td>\n",
       "      <td>No</td>\n",
       "      <td>Yes</td>\n",
       "      <td>No</td>\n",
       "      <td>No</td>\n",
       "      <td>No</td>\n",
       "      <td>No</td>\n",
       "      <td>Month-to-month</td>\n",
       "      <td>Yes</td>\n",
       "      <td>Electronic check</td>\n",
       "      <td>29.85</td>\n",
       "      <td>29.85</td>\n",
       "      <td>No</td>\n",
       "    </tr>\n",
       "    <tr>\n",
       "      <th>1</th>\n",
       "      <td>5575-GNVDE</td>\n",
       "      <td>Male</td>\n",
       "      <td>0</td>\n",
       "      <td>No</td>\n",
       "      <td>No</td>\n",
       "      <td>34</td>\n",
       "      <td>Yes</td>\n",
       "      <td>No</td>\n",
       "      <td>DSL</td>\n",
       "      <td>Yes</td>\n",
       "      <td>No</td>\n",
       "      <td>Yes</td>\n",
       "      <td>No</td>\n",
       "      <td>No</td>\n",
       "      <td>No</td>\n",
       "      <td>One year</td>\n",
       "      <td>No</td>\n",
       "      <td>Mailed check</td>\n",
       "      <td>56.95</td>\n",
       "      <td>1889.50</td>\n",
       "      <td>No</td>\n",
       "    </tr>\n",
       "    <tr>\n",
       "      <th>2</th>\n",
       "      <td>3668-QPYBK</td>\n",
       "      <td>Male</td>\n",
       "      <td>0</td>\n",
       "      <td>No</td>\n",
       "      <td>No</td>\n",
       "      <td>2</td>\n",
       "      <td>Yes</td>\n",
       "      <td>No</td>\n",
       "      <td>DSL</td>\n",
       "      <td>Yes</td>\n",
       "      <td>Yes</td>\n",
       "      <td>No</td>\n",
       "      <td>No</td>\n",
       "      <td>No</td>\n",
       "      <td>No</td>\n",
       "      <td>Month-to-month</td>\n",
       "      <td>Yes</td>\n",
       "      <td>Mailed check</td>\n",
       "      <td>53.85</td>\n",
       "      <td>108.15</td>\n",
       "      <td>Yes</td>\n",
       "    </tr>\n",
       "    <tr>\n",
       "      <th>3</th>\n",
       "      <td>7795-CFOCW</td>\n",
       "      <td>Male</td>\n",
       "      <td>0</td>\n",
       "      <td>No</td>\n",
       "      <td>No</td>\n",
       "      <td>45</td>\n",
       "      <td>No</td>\n",
       "      <td>No phone service</td>\n",
       "      <td>DSL</td>\n",
       "      <td>Yes</td>\n",
       "      <td>No</td>\n",
       "      <td>Yes</td>\n",
       "      <td>Yes</td>\n",
       "      <td>No</td>\n",
       "      <td>No</td>\n",
       "      <td>One year</td>\n",
       "      <td>No</td>\n",
       "      <td>Bank transfer (automatic)</td>\n",
       "      <td>42.30</td>\n",
       "      <td>1840.75</td>\n",
       "      <td>No</td>\n",
       "    </tr>\n",
       "    <tr>\n",
       "      <th>4</th>\n",
       "      <td>9237-HQITU</td>\n",
       "      <td>Female</td>\n",
       "      <td>0</td>\n",
       "      <td>No</td>\n",
       "      <td>No</td>\n",
       "      <td>2</td>\n",
       "      <td>Yes</td>\n",
       "      <td>No</td>\n",
       "      <td>Fiber optic</td>\n",
       "      <td>No</td>\n",
       "      <td>No</td>\n",
       "      <td>No</td>\n",
       "      <td>No</td>\n",
       "      <td>No</td>\n",
       "      <td>No</td>\n",
       "      <td>Month-to-month</td>\n",
       "      <td>Yes</td>\n",
       "      <td>Electronic check</td>\n",
       "      <td>70.70</td>\n",
       "      <td>151.65</td>\n",
       "      <td>Yes</td>\n",
       "    </tr>\n",
       "  </tbody>\n",
       "</table>\n",
       "</div>"
      ],
      "text/plain": [
       "   customerID  gender  SeniorCitizen  ... MonthlyCharges TotalCharges  Churn\n",
       "0  7590-VHVEG  Female              0  ...          29.85        29.85     No\n",
       "1  5575-GNVDE    Male              0  ...          56.95      1889.50     No\n",
       "2  3668-QPYBK    Male              0  ...          53.85       108.15    Yes\n",
       "3  7795-CFOCW    Male              0  ...          42.30      1840.75     No\n",
       "4  9237-HQITU  Female              0  ...          70.70       151.65    Yes\n",
       "\n",
       "[5 rows x 21 columns]"
      ]
     },
     "execution_count": 23,
     "metadata": {
      "tags": []
     },
     "output_type": "execute_result"
    }
   ],
   "source": [
    "data.head()"
   ]
  },
  {
   "cell_type": "code",
   "execution_count": 24,
   "metadata": {
    "colab": {
     "base_uri": "https://localhost:8080/"
    },
    "executionInfo": {
     "elapsed": 409,
     "status": "ok",
     "timestamp": 1624095837495,
     "user": {
      "displayName": "Saurabh Singh",
      "photoUrl": "",
      "userId": "17828593908952867657"
     },
     "user_tz": -330
    },
    "id": "_rM6itgSrjlS",
    "outputId": "80e86887-bd3a-4d2b-9d89-ad9e10c0d202"
   },
   "outputs": [
    {
     "name": "stdout",
     "output_type": "stream",
     "text": [
      "<class 'pandas.core.frame.DataFrame'>\n",
      "Int64Index: 7032 entries, 0 to 7042\n",
      "Data columns (total 21 columns):\n",
      " #   Column            Non-Null Count  Dtype   \n",
      "---  ------            --------------  -----   \n",
      " 0   customerID        7032 non-null   category\n",
      " 1   gender            7032 non-null   category\n",
      " 2   SeniorCitizen     7032 non-null   int64   \n",
      " 3   Partner           7032 non-null   category\n",
      " 4   Dependents        7032 non-null   category\n",
      " 5   tenure            7032 non-null   int64   \n",
      " 6   PhoneService      7032 non-null   category\n",
      " 7   MultipleLines     7032 non-null   category\n",
      " 8   InternetService   7032 non-null   category\n",
      " 9   OnlineSecurity    7032 non-null   category\n",
      " 10  OnlineBackup      7032 non-null   category\n",
      " 11  DeviceProtection  7032 non-null   category\n",
      " 12  TechSupport       7032 non-null   category\n",
      " 13  StreamingTV       7032 non-null   category\n",
      " 14  StreamingMovies   7032 non-null   category\n",
      " 15  Contract          7032 non-null   category\n",
      " 16  PaperlessBilling  7032 non-null   category\n",
      " 17  PaymentMethod     7032 non-null   category\n",
      " 18  MonthlyCharges    7032 non-null   float64 \n",
      " 19  TotalCharges      7032 non-null   float64 \n",
      " 20  Churn             7032 non-null   category\n",
      "dtypes: category(17), float64(2), int64(2)\n",
      "memory usage: 774.9 KB\n"
     ]
    }
   ],
   "source": [
    "data.info()"
   ]
  },
  {
   "cell_type": "code",
   "execution_count": 25,
   "metadata": {
    "colab": {
     "base_uri": "https://localhost:8080/"
    },
    "executionInfo": {
     "elapsed": 526,
     "status": "ok",
     "timestamp": 1624095845978,
     "user": {
      "displayName": "Saurabh Singh",
      "photoUrl": "",
      "userId": "17828593908952867657"
     },
     "user_tz": -330
    },
    "id": "rbnFkBDlr0MI",
    "outputId": "f906c991-7d79-45c6-cd16-118a5ae77319"
   },
   "outputs": [
    {
     "name": "stdout",
     "output_type": "stream",
     "text": [
      "9995-HOTOH    1\n",
      "3372-KWFBM    1\n",
      "3351-NQLDI    1\n",
      "3352-ALMCK    1\n",
      "3352-RICWQ    1\n",
      "             ..\n",
      "6625-IUTTT    1\n",
      "6625-UTXEW    1\n",
      "6627-CFOSN    1\n",
      "6629-CZTTH    1\n",
      "0002-ORFBO    1\n",
      "Name: customerID, Length: 7032, dtype: int64\n",
      "Male      3549\n",
      "Female    3483\n",
      "Name: gender, dtype: int64\n",
      "No     3639\n",
      "Yes    3393\n",
      "Name: Partner, dtype: int64\n",
      "No     4933\n",
      "Yes    2099\n",
      "Name: Dependents, dtype: int64\n",
      "Yes    6352\n",
      "No      680\n",
      "Name: PhoneService, dtype: int64\n",
      "No                  3385\n",
      "Yes                 2967\n",
      "No phone service     680\n",
      "Name: MultipleLines, dtype: int64\n",
      "Fiber optic    3096\n",
      "DSL            2416\n",
      "No             1520\n",
      "Name: InternetService, dtype: int64\n",
      "No                     3497\n",
      "Yes                    2015\n",
      "No internet service    1520\n",
      "Name: OnlineSecurity, dtype: int64\n",
      "No                     3087\n",
      "Yes                    2425\n",
      "No internet service    1520\n",
      "Name: OnlineBackup, dtype: int64\n",
      "No                     3094\n",
      "Yes                    2418\n",
      "No internet service    1520\n",
      "Name: DeviceProtection, dtype: int64\n",
      "No                     3472\n",
      "Yes                    2040\n",
      "No internet service    1520\n",
      "Name: TechSupport, dtype: int64\n",
      "No                     2809\n",
      "Yes                    2703\n",
      "No internet service    1520\n",
      "Name: StreamingTV, dtype: int64\n",
      "No                     2781\n",
      "Yes                    2731\n",
      "No internet service    1520\n",
      "Name: StreamingMovies, dtype: int64\n",
      "Month-to-month    3875\n",
      "Two year          1685\n",
      "One year          1472\n",
      "Name: Contract, dtype: int64\n",
      "Yes    4168\n",
      "No     2864\n",
      "Name: PaperlessBilling, dtype: int64\n",
      "Electronic check             2365\n",
      "Mailed check                 1604\n",
      "Bank transfer (automatic)    1542\n",
      "Credit card (automatic)      1521\n",
      "Name: PaymentMethod, dtype: int64\n",
      "No     5163\n",
      "Yes    1869\n",
      "Name: Churn, dtype: int64\n"
     ]
    }
   ],
   "source": [
    "for i in data.columns:\n",
    "  if data[i].dtype.name ==  'category':\n",
    "    print(data[i].value_counts())"
   ]
  },
  {
   "cell_type": "code",
   "execution_count": 26,
   "metadata": {
    "executionInfo": {
     "elapsed": 463,
     "status": "ok",
     "timestamp": 1624095856935,
     "user": {
      "displayName": "Saurabh Singh",
      "photoUrl": "",
      "userId": "17828593908952867657"
     },
     "user_tz": -330
    },
    "id": "r5jki-oVz6-k"
   },
   "outputs": [],
   "source": [
    "replaceStruct = { 'gender':{'Male':1,'Female':0},\n",
    "                  'PaperlessBilling':{'Yes':1,'No':0},\n",
    "                  'Contract':{'Month-to-month':0,'One year':1,'Two year':2},\n",
    "                  'StreamingMovies':{'No':0,'Yes':1,'No internet service':2},\n",
    "                  'StreamingTV':{'No':0,'Yes':1,'No internet service':2},\n",
    "                  'TechSupport':{'No':0,'Yes':1,'No internet service':2},\n",
    "                  'DeviceProtection':{'No':0,'Yes':1,'No internet service':2},\n",
    "                  'OnlineBackup':{'No':0,'Yes':1,'No internet service':2},\n",
    "                  'OnlineSecurity':{'No':0,'Yes':1,'No internet service':2},\n",
    "                  'InternetService':{'No':0,'DSL':1,'Fiber optic':2},\n",
    "                  'MultipleLines':{'No phone service':0,'Yes':1,'No':2},\n",
    "                  'PhoneService':{'No':0,'Yes':1},\n",
    "                  'Dependents':{'Yes':1,'No':0},\n",
    "                  'Partner':{'Yes':1,'No':0},\n",
    "                  'Churn': {'Yes':1,'No':0}\n",
    "                 }\n"
   ]
  },
  {
   "cell_type": "code",
   "execution_count": 27,
   "metadata": {
    "executionInfo": {
     "elapsed": 37,
     "status": "ok",
     "timestamp": 1624095859941,
     "user": {
      "displayName": "Saurabh Singh",
      "photoUrl": "",
      "userId": "17828593908952867657"
     },
     "user_tz": -330
    },
    "id": "nyJcvEskfVjc"
   },
   "outputs": [],
   "source": [
    "data = data.replace(replaceStruct)"
   ]
  },
  {
   "cell_type": "code",
   "execution_count": null,
   "metadata": {
    "id": "hI8PLNYQlQHQ"
   },
   "outputs": [],
   "source": [
    "data"
   ]
  },
  {
   "cell_type": "code",
   "execution_count": 29,
   "metadata": {
    "executionInfo": {
     "elapsed": 422,
     "status": "ok",
     "timestamp": 1624095875152,
     "user": {
      "displayName": "Saurabh Singh",
      "photoUrl": "",
      "userId": "17828593908952867657"
     },
     "user_tz": -330
    },
    "id": "eNsp5hrniaEL"
   },
   "outputs": [],
   "source": [
    "one_hot_col = ['PaymentMethod']"
   ]
  },
  {
   "cell_type": "code",
   "execution_count": 30,
   "metadata": {
    "colab": {
     "base_uri": "https://localhost:8080/"
    },
    "executionInfo": {
     "elapsed": 11,
     "status": "ok",
     "timestamp": 1624095877707,
     "user": {
      "displayName": "Saurabh Singh",
      "photoUrl": "",
      "userId": "17828593908952867657"
     },
     "user_tz": -330
    },
    "id": "PRKwRmdvkFVJ",
    "outputId": "9ce58a6f-076c-4e07-af73-196036db2030"
   },
   "outputs": [
    {
     "name": "stdout",
     "output_type": "stream",
     "text": [
      "<class 'pandas.core.frame.DataFrame'>\n",
      "Int64Index: 7032 entries, 0 to 7042\n",
      "Data columns (total 21 columns):\n",
      " #   Column            Non-Null Count  Dtype   \n",
      "---  ------            --------------  -----   \n",
      " 0   customerID        7032 non-null   category\n",
      " 1   gender            7032 non-null   int64   \n",
      " 2   SeniorCitizen     7032 non-null   int64   \n",
      " 3   Partner           7032 non-null   int64   \n",
      " 4   Dependents        7032 non-null   int64   \n",
      " 5   tenure            7032 non-null   int64   \n",
      " 6   PhoneService      7032 non-null   int64   \n",
      " 7   MultipleLines     7032 non-null   int64   \n",
      " 8   InternetService   7032 non-null   int64   \n",
      " 9   OnlineSecurity    7032 non-null   int64   \n",
      " 10  OnlineBackup      7032 non-null   int64   \n",
      " 11  DeviceProtection  7032 non-null   int64   \n",
      " 12  TechSupport       7032 non-null   int64   \n",
      " 13  StreamingTV       7032 non-null   int64   \n",
      " 14  StreamingMovies   7032 non-null   int64   \n",
      " 15  Contract          7032 non-null   int64   \n",
      " 16  PaperlessBilling  7032 non-null   int64   \n",
      " 17  PaymentMethod     7032 non-null   category\n",
      " 18  MonthlyCharges    7032 non-null   float64 \n",
      " 19  TotalCharges      7032 non-null   float64 \n",
      " 20  Churn             7032 non-null   int64   \n",
      "dtypes: category(2), float64(2), int64(17)\n",
      "memory usage: 1.5 MB\n"
     ]
    }
   ],
   "source": [
    "data.info()"
   ]
  },
  {
   "cell_type": "code",
   "execution_count": 32,
   "metadata": {
    "executionInfo": {
     "elapsed": 397,
     "status": "ok",
     "timestamp": 1624095916829,
     "user": {
      "displayName": "Saurabh Singh",
      "photoUrl": "",
      "userId": "17828593908952867657"
     },
     "user_tz": -330
    },
    "id": "wfRjMtrYipAA"
   },
   "outputs": [],
   "source": [
    "data = pd.get_dummies(data,columns = one_hot_col)"
   ]
  },
  {
   "cell_type": "code",
   "execution_count": 33,
   "metadata": {
    "colab": {
     "base_uri": "https://localhost:8080/"
    },
    "executionInfo": {
     "elapsed": 462,
     "status": "ok",
     "timestamp": 1624095925964,
     "user": {
      "displayName": "Saurabh Singh",
      "photoUrl": "",
      "userId": "17828593908952867657"
     },
     "user_tz": -330
    },
    "id": "ML1mqbpujmkY",
    "outputId": "45c85c98-65eb-4709-9f12-47e0c4fd7dab"
   },
   "outputs": [
    {
     "name": "stdout",
     "output_type": "stream",
     "text": [
      "<class 'pandas.core.frame.DataFrame'>\n",
      "Int64Index: 7032 entries, 0 to 7042\n",
      "Data columns (total 24 columns):\n",
      " #   Column                                   Non-Null Count  Dtype   \n",
      "---  ------                                   --------------  -----   \n",
      " 0   customerID                               7032 non-null   category\n",
      " 1   gender                                   7032 non-null   int64   \n",
      " 2   SeniorCitizen                            7032 non-null   int64   \n",
      " 3   Partner                                  7032 non-null   int64   \n",
      " 4   Dependents                               7032 non-null   int64   \n",
      " 5   tenure                                   7032 non-null   int64   \n",
      " 6   PhoneService                             7032 non-null   int64   \n",
      " 7   MultipleLines                            7032 non-null   int64   \n",
      " 8   InternetService                          7032 non-null   int64   \n",
      " 9   OnlineSecurity                           7032 non-null   int64   \n",
      " 10  OnlineBackup                             7032 non-null   int64   \n",
      " 11  DeviceProtection                         7032 non-null   int64   \n",
      " 12  TechSupport                              7032 non-null   int64   \n",
      " 13  StreamingTV                              7032 non-null   int64   \n",
      " 14  StreamingMovies                          7032 non-null   int64   \n",
      " 15  Contract                                 7032 non-null   int64   \n",
      " 16  PaperlessBilling                         7032 non-null   int64   \n",
      " 17  MonthlyCharges                           7032 non-null   float64 \n",
      " 18  TotalCharges                             7032 non-null   float64 \n",
      " 19  Churn                                    7032 non-null   int64   \n",
      " 20  PaymentMethod_Bank transfer (automatic)  7032 non-null   uint8   \n",
      " 21  PaymentMethod_Credit card (automatic)    7032 non-null   uint8   \n",
      " 22  PaymentMethod_Electronic check           7032 non-null   uint8   \n",
      " 23  PaymentMethod_Mailed check               7032 non-null   uint8   \n",
      "dtypes: category(1), float64(2), int64(17), uint8(4)\n",
      "memory usage: 1.5 MB\n"
     ]
    }
   ],
   "source": [
    "data.info()"
   ]
  },
  {
   "cell_type": "code",
   "execution_count": 34,
   "metadata": {
    "executionInfo": {
     "elapsed": 400,
     "status": "ok",
     "timestamp": 1624095947109,
     "user": {
      "displayName": "Saurabh Singh",
      "photoUrl": "",
      "userId": "17828593908952867657"
     },
     "user_tz": -330
    },
    "id": "iV2JNXtBvy5p"
   },
   "outputs": [],
   "source": [
    "data.drop('customerID',axis=1, inplace=True)"
   ]
  },
  {
   "cell_type": "code",
   "execution_count": 35,
   "metadata": {
    "colab": {
     "base_uri": "https://localhost:8080/"
    },
    "executionInfo": {
     "elapsed": 992,
     "status": "ok",
     "timestamp": 1624095953678,
     "user": {
      "displayName": "Saurabh Singh",
      "photoUrl": "",
      "userId": "17828593908952867657"
     },
     "user_tz": -330
    },
    "id": "5VtrfsamasZZ",
    "outputId": "b31538ab-b6ec-4aaf-f3ca-8c6295e48e99"
   },
   "outputs": [
    {
     "name": "stdout",
     "output_type": "stream",
     "text": [
      "<class 'pandas.core.frame.DataFrame'>\n",
      "Int64Index: 7032 entries, 0 to 7042\n",
      "Data columns (total 23 columns):\n",
      " #   Column                                   Non-Null Count  Dtype  \n",
      "---  ------                                   --------------  -----  \n",
      " 0   gender                                   7032 non-null   int64  \n",
      " 1   SeniorCitizen                            7032 non-null   int64  \n",
      " 2   Partner                                  7032 non-null   int64  \n",
      " 3   Dependents                               7032 non-null   int64  \n",
      " 4   tenure                                   7032 non-null   int64  \n",
      " 5   PhoneService                             7032 non-null   int64  \n",
      " 6   MultipleLines                            7032 non-null   int64  \n",
      " 7   InternetService                          7032 non-null   int64  \n",
      " 8   OnlineSecurity                           7032 non-null   int64  \n",
      " 9   OnlineBackup                             7032 non-null   int64  \n",
      " 10  DeviceProtection                         7032 non-null   int64  \n",
      " 11  TechSupport                              7032 non-null   int64  \n",
      " 12  StreamingTV                              7032 non-null   int64  \n",
      " 13  StreamingMovies                          7032 non-null   int64  \n",
      " 14  Contract                                 7032 non-null   int64  \n",
      " 15  PaperlessBilling                         7032 non-null   int64  \n",
      " 16  MonthlyCharges                           7032 non-null   float64\n",
      " 17  TotalCharges                             7032 non-null   float64\n",
      " 18  Churn                                    7032 non-null   int64  \n",
      " 19  PaymentMethod_Bank transfer (automatic)  7032 non-null   uint8  \n",
      " 20  PaymentMethod_Credit card (automatic)    7032 non-null   uint8  \n",
      " 21  PaymentMethod_Electronic check           7032 non-null   uint8  \n",
      " 22  PaymentMethod_Mailed check               7032 non-null   uint8  \n",
      "dtypes: float64(2), int64(17), uint8(4)\n",
      "memory usage: 1.1 MB\n"
     ]
    }
   ],
   "source": [
    "data.info()"
   ]
  },
  {
   "cell_type": "markdown",
   "metadata": {
    "id": "LYvmbuiwaVW8"
   },
   "source": [
    "**3. Data analysis & visualisation:**\n",
    "* Perform detailed statistical analysis on the data.\n",
    "* Perform a detailed univariate, bivariate and multivariate analysis with appropriate detailed comments after each analysis."
   ]
  },
  {
   "cell_type": "code",
   "execution_count": 36,
   "metadata": {
    "colab": {
     "base_uri": "https://localhost:8080/",
     "height": 754
    },
    "executionInfo": {
     "elapsed": 429,
     "status": "ok",
     "timestamp": 1624095967007,
     "user": {
      "displayName": "Saurabh Singh",
      "photoUrl": "",
      "userId": "17828593908952867657"
     },
     "user_tz": -330
    },
    "id": "Nh7jT6mBazF9",
    "outputId": "38608579-b33b-4957-dd17-ddb1a9e39cd0"
   },
   "outputs": [
    {
     "data": {
      "text/html": [
       "<div>\n",
       "<style scoped>\n",
       "    .dataframe tbody tr th:only-of-type {\n",
       "        vertical-align: middle;\n",
       "    }\n",
       "\n",
       "    .dataframe tbody tr th {\n",
       "        vertical-align: top;\n",
       "    }\n",
       "\n",
       "    .dataframe thead th {\n",
       "        text-align: right;\n",
       "    }\n",
       "</style>\n",
       "<table border=\"1\" class=\"dataframe\">\n",
       "  <thead>\n",
       "    <tr style=\"text-align: right;\">\n",
       "      <th></th>\n",
       "      <th>count</th>\n",
       "      <th>mean</th>\n",
       "      <th>std</th>\n",
       "      <th>min</th>\n",
       "      <th>25%</th>\n",
       "      <th>50%</th>\n",
       "      <th>75%</th>\n",
       "      <th>max</th>\n",
       "    </tr>\n",
       "  </thead>\n",
       "  <tbody>\n",
       "    <tr>\n",
       "      <th>gender</th>\n",
       "      <td>7032.0</td>\n",
       "      <td>0.504693</td>\n",
       "      <td>0.500014</td>\n",
       "      <td>0.00</td>\n",
       "      <td>0.0000</td>\n",
       "      <td>1.000</td>\n",
       "      <td>1.0000</td>\n",
       "      <td>1.00</td>\n",
       "    </tr>\n",
       "    <tr>\n",
       "      <th>SeniorCitizen</th>\n",
       "      <td>7032.0</td>\n",
       "      <td>0.162400</td>\n",
       "      <td>0.368844</td>\n",
       "      <td>0.00</td>\n",
       "      <td>0.0000</td>\n",
       "      <td>0.000</td>\n",
       "      <td>0.0000</td>\n",
       "      <td>1.00</td>\n",
       "    </tr>\n",
       "    <tr>\n",
       "      <th>Partner</th>\n",
       "      <td>7032.0</td>\n",
       "      <td>0.482509</td>\n",
       "      <td>0.499729</td>\n",
       "      <td>0.00</td>\n",
       "      <td>0.0000</td>\n",
       "      <td>0.000</td>\n",
       "      <td>1.0000</td>\n",
       "      <td>1.00</td>\n",
       "    </tr>\n",
       "    <tr>\n",
       "      <th>Dependents</th>\n",
       "      <td>7032.0</td>\n",
       "      <td>0.298493</td>\n",
       "      <td>0.457629</td>\n",
       "      <td>0.00</td>\n",
       "      <td>0.0000</td>\n",
       "      <td>0.000</td>\n",
       "      <td>1.0000</td>\n",
       "      <td>1.00</td>\n",
       "    </tr>\n",
       "    <tr>\n",
       "      <th>tenure</th>\n",
       "      <td>7032.0</td>\n",
       "      <td>32.421786</td>\n",
       "      <td>24.545260</td>\n",
       "      <td>1.00</td>\n",
       "      <td>9.0000</td>\n",
       "      <td>29.000</td>\n",
       "      <td>55.0000</td>\n",
       "      <td>72.00</td>\n",
       "    </tr>\n",
       "    <tr>\n",
       "      <th>PhoneService</th>\n",
       "      <td>7032.0</td>\n",
       "      <td>0.903299</td>\n",
       "      <td>0.295571</td>\n",
       "      <td>0.00</td>\n",
       "      <td>1.0000</td>\n",
       "      <td>1.000</td>\n",
       "      <td>1.0000</td>\n",
       "      <td>1.00</td>\n",
       "    </tr>\n",
       "    <tr>\n",
       "      <th>MultipleLines</th>\n",
       "      <td>7032.0</td>\n",
       "      <td>1.384670</td>\n",
       "      <td>0.655867</td>\n",
       "      <td>0.00</td>\n",
       "      <td>1.0000</td>\n",
       "      <td>1.000</td>\n",
       "      <td>2.0000</td>\n",
       "      <td>2.00</td>\n",
       "    </tr>\n",
       "    <tr>\n",
       "      <th>InternetService</th>\n",
       "      <td>7032.0</td>\n",
       "      <td>1.224118</td>\n",
       "      <td>0.778643</td>\n",
       "      <td>0.00</td>\n",
       "      <td>1.0000</td>\n",
       "      <td>1.000</td>\n",
       "      <td>2.0000</td>\n",
       "      <td>2.00</td>\n",
       "    </tr>\n",
       "    <tr>\n",
       "      <th>OnlineSecurity</th>\n",
       "      <td>7032.0</td>\n",
       "      <td>0.718857</td>\n",
       "      <td>0.796556</td>\n",
       "      <td>0.00</td>\n",
       "      <td>0.0000</td>\n",
       "      <td>1.000</td>\n",
       "      <td>1.0000</td>\n",
       "      <td>2.00</td>\n",
       "    </tr>\n",
       "    <tr>\n",
       "      <th>OnlineBackup</th>\n",
       "      <td>7032.0</td>\n",
       "      <td>0.777162</td>\n",
       "      <td>0.778188</td>\n",
       "      <td>0.00</td>\n",
       "      <td>0.0000</td>\n",
       "      <td>1.000</td>\n",
       "      <td>1.0000</td>\n",
       "      <td>2.00</td>\n",
       "    </tr>\n",
       "    <tr>\n",
       "      <th>DeviceProtection</th>\n",
       "      <td>7032.0</td>\n",
       "      <td>0.776166</td>\n",
       "      <td>0.778542</td>\n",
       "      <td>0.00</td>\n",
       "      <td>0.0000</td>\n",
       "      <td>1.000</td>\n",
       "      <td>1.0000</td>\n",
       "      <td>2.00</td>\n",
       "    </tr>\n",
       "    <tr>\n",
       "      <th>TechSupport</th>\n",
       "      <td>7032.0</td>\n",
       "      <td>0.722412</td>\n",
       "      <td>0.795571</td>\n",
       "      <td>0.00</td>\n",
       "      <td>0.0000</td>\n",
       "      <td>1.000</td>\n",
       "      <td>1.0000</td>\n",
       "      <td>2.00</td>\n",
       "    </tr>\n",
       "    <tr>\n",
       "      <th>StreamingTV</th>\n",
       "      <td>7032.0</td>\n",
       "      <td>0.816695</td>\n",
       "      <td>0.762952</td>\n",
       "      <td>0.00</td>\n",
       "      <td>0.0000</td>\n",
       "      <td>1.000</td>\n",
       "      <td>1.0000</td>\n",
       "      <td>2.00</td>\n",
       "    </tr>\n",
       "    <tr>\n",
       "      <th>StreamingMovies</th>\n",
       "      <td>7032.0</td>\n",
       "      <td>0.820677</td>\n",
       "      <td>0.761287</td>\n",
       "      <td>0.00</td>\n",
       "      <td>0.0000</td>\n",
       "      <td>1.000</td>\n",
       "      <td>1.0000</td>\n",
       "      <td>2.00</td>\n",
       "    </tr>\n",
       "    <tr>\n",
       "      <th>Contract</th>\n",
       "      <td>7032.0</td>\n",
       "      <td>0.688567</td>\n",
       "      <td>0.832934</td>\n",
       "      <td>0.00</td>\n",
       "      <td>0.0000</td>\n",
       "      <td>0.000</td>\n",
       "      <td>1.0000</td>\n",
       "      <td>2.00</td>\n",
       "    </tr>\n",
       "    <tr>\n",
       "      <th>PaperlessBilling</th>\n",
       "      <td>7032.0</td>\n",
       "      <td>0.592719</td>\n",
       "      <td>0.491363</td>\n",
       "      <td>0.00</td>\n",
       "      <td>0.0000</td>\n",
       "      <td>1.000</td>\n",
       "      <td>1.0000</td>\n",
       "      <td>1.00</td>\n",
       "    </tr>\n",
       "    <tr>\n",
       "      <th>MonthlyCharges</th>\n",
       "      <td>7032.0</td>\n",
       "      <td>64.798208</td>\n",
       "      <td>30.085974</td>\n",
       "      <td>18.25</td>\n",
       "      <td>35.5875</td>\n",
       "      <td>70.350</td>\n",
       "      <td>89.8625</td>\n",
       "      <td>118.75</td>\n",
       "    </tr>\n",
       "    <tr>\n",
       "      <th>TotalCharges</th>\n",
       "      <td>7032.0</td>\n",
       "      <td>2283.300441</td>\n",
       "      <td>2266.771362</td>\n",
       "      <td>18.80</td>\n",
       "      <td>401.4500</td>\n",
       "      <td>1397.475</td>\n",
       "      <td>3794.7375</td>\n",
       "      <td>8684.80</td>\n",
       "    </tr>\n",
       "    <tr>\n",
       "      <th>Churn</th>\n",
       "      <td>7032.0</td>\n",
       "      <td>0.265785</td>\n",
       "      <td>0.441782</td>\n",
       "      <td>0.00</td>\n",
       "      <td>0.0000</td>\n",
       "      <td>0.000</td>\n",
       "      <td>1.0000</td>\n",
       "      <td>1.00</td>\n",
       "    </tr>\n",
       "    <tr>\n",
       "      <th>PaymentMethod_Bank transfer (automatic)</th>\n",
       "      <td>7032.0</td>\n",
       "      <td>0.219283</td>\n",
       "      <td>0.413790</td>\n",
       "      <td>0.00</td>\n",
       "      <td>0.0000</td>\n",
       "      <td>0.000</td>\n",
       "      <td>0.0000</td>\n",
       "      <td>1.00</td>\n",
       "    </tr>\n",
       "    <tr>\n",
       "      <th>PaymentMethod_Credit card (automatic)</th>\n",
       "      <td>7032.0</td>\n",
       "      <td>0.216297</td>\n",
       "      <td>0.411748</td>\n",
       "      <td>0.00</td>\n",
       "      <td>0.0000</td>\n",
       "      <td>0.000</td>\n",
       "      <td>0.0000</td>\n",
       "      <td>1.00</td>\n",
       "    </tr>\n",
       "    <tr>\n",
       "      <th>PaymentMethod_Electronic check</th>\n",
       "      <td>7032.0</td>\n",
       "      <td>0.336320</td>\n",
       "      <td>0.472483</td>\n",
       "      <td>0.00</td>\n",
       "      <td>0.0000</td>\n",
       "      <td>0.000</td>\n",
       "      <td>1.0000</td>\n",
       "      <td>1.00</td>\n",
       "    </tr>\n",
       "    <tr>\n",
       "      <th>PaymentMethod_Mailed check</th>\n",
       "      <td>7032.0</td>\n",
       "      <td>0.228100</td>\n",
       "      <td>0.419637</td>\n",
       "      <td>0.00</td>\n",
       "      <td>0.0000</td>\n",
       "      <td>0.000</td>\n",
       "      <td>0.0000</td>\n",
       "      <td>1.00</td>\n",
       "    </tr>\n",
       "  </tbody>\n",
       "</table>\n",
       "</div>"
      ],
      "text/plain": [
       "                                          count  ...      max\n",
       "gender                                   7032.0  ...     1.00\n",
       "SeniorCitizen                            7032.0  ...     1.00\n",
       "Partner                                  7032.0  ...     1.00\n",
       "Dependents                               7032.0  ...     1.00\n",
       "tenure                                   7032.0  ...    72.00\n",
       "PhoneService                             7032.0  ...     1.00\n",
       "MultipleLines                            7032.0  ...     2.00\n",
       "InternetService                          7032.0  ...     2.00\n",
       "OnlineSecurity                           7032.0  ...     2.00\n",
       "OnlineBackup                             7032.0  ...     2.00\n",
       "DeviceProtection                         7032.0  ...     2.00\n",
       "TechSupport                              7032.0  ...     2.00\n",
       "StreamingTV                              7032.0  ...     2.00\n",
       "StreamingMovies                          7032.0  ...     2.00\n",
       "Contract                                 7032.0  ...     2.00\n",
       "PaperlessBilling                         7032.0  ...     1.00\n",
       "MonthlyCharges                           7032.0  ...   118.75\n",
       "TotalCharges                             7032.0  ...  8684.80\n",
       "Churn                                    7032.0  ...     1.00\n",
       "PaymentMethod_Bank transfer (automatic)  7032.0  ...     1.00\n",
       "PaymentMethod_Credit card (automatic)    7032.0  ...     1.00\n",
       "PaymentMethod_Electronic check           7032.0  ...     1.00\n",
       "PaymentMethod_Mailed check               7032.0  ...     1.00\n",
       "\n",
       "[23 rows x 8 columns]"
      ]
     },
     "execution_count": 36,
     "metadata": {
      "tags": []
     },
     "output_type": "execute_result"
    }
   ],
   "source": [
    "data.describe().transpose()"
   ]
  },
  {
   "cell_type": "markdown",
   "metadata": {
    "id": "ZtBZlkBkgkrt"
   },
   "source": [
    "**Univariate Analysis**\n",
    "* Below analysis is by using copied dataframe data to data1"
   ]
  },
  {
   "cell_type": "code",
   "execution_count": null,
   "metadata": {
    "colab": {
     "base_uri": "https://localhost:8080/",
     "height": 352
    },
    "executionInfo": {
     "elapsed": 429,
     "status": "ok",
     "timestamp": 1623841942066,
     "user": {
      "displayName": "Saurabh Singh",
      "photoUrl": "",
      "userId": "17828593908952867657"
     },
     "user_tz": -330
    },
    "id": "RP8itC0GeDT_",
    "outputId": "30a6fa3d-b982-4d5d-8f39-ad4f5983b095"
   },
   "outputs": [
    {
     "name": "stderr",
     "output_type": "stream",
     "text": [
      "/usr/local/lib/python3.7/dist-packages/seaborn/_decorators.py:43: FutureWarning: Pass the following variable as a keyword arg: x. From version 0.12, the only valid positional argument will be `data`, and passing other arguments without an explicit keyword will result in an error or misinterpretation.\n",
      "  FutureWarning\n"
     ]
    },
    {
     "data": {
      "text/plain": [
       "<matplotlib.axes._subplots.AxesSubplot at 0x7f20f929e490>"
      ]
     },
     "execution_count": 151,
     "metadata": {
      "tags": []
     },
     "output_type": "execute_result"
    },
    {
     "data": {
      "image/png": "[encoded data removed]",
      "text/plain": [
       "<Figure size 432x288 with 1 Axes>"
      ]
     },
     "metadata": {
      "needs_background": "light",
      "tags": []
     },
     "output_type": "display_data"
    }
   ],
   "source": [
    "sns.countplot(data1['Churn'])"
   ]
  },
  {
   "cell_type": "code",
   "execution_count": 28,
   "metadata": {
    "colab": {
     "base_uri": "https://localhost:8080/"
    },
    "executionInfo": {
     "elapsed": 460,
     "status": "ok",
     "timestamp": 1624000540842,
     "user": {
      "displayName": "Saurabh Singh",
      "photoUrl": "",
      "userId": "17828593908952867657"
     },
     "user_tz": -330
    },
    "id": "5J2cT4VQ1B-w",
    "outputId": "9af9273e-114e-4494-e8dc-6293d9403dc7"
   },
   "outputs": [
    {
     "name": "stdout",
     "output_type": "stream",
     "text": [
      "Churn Percentage = 26.578498293515356\n"
     ]
    }
   ],
   "source": [
    "Churn_True = data1[\"Churn\"][data1[\"Churn\"] == 'Yes']\n",
    "print (\"Churn Percentage = \"+str( (Churn_True.shape[0] / data1[\"Churn\"].shape[0]) * 100 ))"
   ]
  },
  {
   "cell_type": "markdown",
   "metadata": {
    "id": "45beNjrY1uKy"
   },
   "source": [
    "**Conclusion:**\n",
    "* Data is imbalanced\n",
    "* Churn Yes category is 26%"
   ]
  },
  {
   "cell_type": "code",
   "execution_count": null,
   "metadata": {
    "colab": {
     "base_uri": "https://localhost:8080/",
     "height": 352
    },
    "executionInfo": {
     "elapsed": 451,
     "status": "ok",
     "timestamp": 1623842310768,
     "user": {
      "displayName": "Saurabh Singh",
      "photoUrl": "",
      "userId": "17828593908952867657"
     },
     "user_tz": -330
    },
    "id": "prR1arwlhinc",
    "outputId": "0e79fc5d-6b11-44dc-b09d-99a4f878d3c2"
   },
   "outputs": [
    {
     "name": "stderr",
     "output_type": "stream",
     "text": [
      "/usr/local/lib/python3.7/dist-packages/seaborn/_decorators.py:43: FutureWarning: Pass the following variable as a keyword arg: x. From version 0.12, the only valid positional argument will be `data`, and passing other arguments without an explicit keyword will result in an error or misinterpretation.\n",
      "  FutureWarning\n"
     ]
    },
    {
     "data": {
      "text/plain": [
       "<matplotlib.axes._subplots.AxesSubplot at 0x7f20f9600a90>"
      ]
     },
     "execution_count": 152,
     "metadata": {
      "tags": []
     },
     "output_type": "execute_result"
    },
    {
     "data": {
      "image/png": "[encoded data removed]",
      "text/plain": [
       "<Figure size 432x288 with 1 Axes>"
      ]
     },
     "metadata": {
      "needs_background": "light",
      "tags": []
     },
     "output_type": "display_data"
    }
   ],
   "source": [
    " sns.countplot(data1['PaperlessBilling'])"
   ]
  },
  {
   "cell_type": "code",
   "execution_count": null,
   "metadata": {
    "colab": {
     "base_uri": "https://localhost:8080/",
     "height": 352
    },
    "executionInfo": {
     "elapsed": 2795,
     "status": "ok",
     "timestamp": 1623843099166,
     "user": {
      "displayName": "Saurabh Singh",
      "photoUrl": "",
      "userId": "17828593908952867657"
     },
     "user_tz": -330
    },
    "id": "LSoNT9e6i_rj",
    "outputId": "bc6b4c99-8d22-484a-c60e-646f08dda674"
   },
   "outputs": [
    {
     "name": "stderr",
     "output_type": "stream",
     "text": [
      "/usr/local/lib/python3.7/dist-packages/seaborn/distributions.py:2557: FutureWarning: `distplot` is a deprecated function and will be removed in a future version. Please adapt your code to use either `displot` (a figure-level function with similar flexibility) or `histplot` (an axes-level function for histograms).\n",
      "  warnings.warn(msg, FutureWarning)\n"
     ]
    },
    {
     "data": {
      "text/plain": [
       "<matplotlib.axes._subplots.AxesSubplot at 0x7f20f96cbb50>"
      ]
     },
     "execution_count": 158,
     "metadata": {
      "tags": []
     },
     "output_type": "execute_result"
    },
    {
     "data": {
      "image/png": "[encoded data removed]",
      "text/plain": [
       "<Figure size 432x288 with 1 Axes>"
      ]
     },
     "metadata": {
      "needs_background": "light",
      "tags": []
     },
     "output_type": "display_data"
    }
   ],
   "source": [
    "sns.distplot(data1['MonthlyCharges'])"
   ]
  },
  {
   "cell_type": "markdown",
   "metadata": {
    "id": "qYEkmEHbjnTV"
   },
   "source": [
    "Above histogram is bimodal in nature."
   ]
  },
  {
   "cell_type": "code",
   "execution_count": null,
   "metadata": {
    "colab": {
     "base_uri": "https://localhost:8080/",
     "height": 352
    },
    "executionInfo": {
     "elapsed": 503,
     "status": "ok",
     "timestamp": 1623842706653,
     "user": {
      "displayName": "Saurabh Singh",
      "photoUrl": "",
      "userId": "17828593908952867657"
     },
     "user_tz": -330
    },
    "id": "2f6ScLUHkKAF",
    "outputId": "b3a01338-cc3b-4724-d5d6-4c5346361b10"
   },
   "outputs": [
    {
     "name": "stderr",
     "output_type": "stream",
     "text": [
      "/usr/local/lib/python3.7/dist-packages/seaborn/distributions.py:2557: FutureWarning: `distplot` is a deprecated function and will be removed in a future version. Please adapt your code to use either `displot` (a figure-level function with similar flexibility) or `histplot` (an axes-level function for histograms).\n",
      "  warnings.warn(msg, FutureWarning)\n"
     ]
    },
    {
     "data": {
      "text/plain": [
       "<matplotlib.axes._subplots.AxesSubplot at 0x7f20f128e650>"
      ]
     },
     "execution_count": 154,
     "metadata": {
      "tags": []
     },
     "output_type": "execute_result"
    },
    {
     "data": {
      "image/png": "[encoded data removed]",
      "text/plain": [
       "<Figure size 432x288 with 1 Axes>"
      ]
     },
     "metadata": {
      "needs_background": "light",
      "tags": []
     },
     "output_type": "display_data"
    }
   ],
   "source": [
    "sns.distplot(data1['TotalCharges'])"
   ]
  },
  {
   "cell_type": "markdown",
   "metadata": {
    "id": "iRM6I0SkzKeA"
   },
   "source": [
    "**Bivariate Analysis**"
   ]
  },
  {
   "cell_type": "code",
   "execution_count": null,
   "metadata": {
    "colab": {
     "base_uri": "https://localhost:8080/",
     "height": 296
    },
    "executionInfo": {
     "elapsed": 467,
     "status": "ok",
     "timestamp": 1623846775337,
     "user": {
      "displayName": "Saurabh Singh",
      "photoUrl": "",
      "userId": "17828593908952867657"
     },
     "user_tz": -330
    },
    "id": "ID9v8v8alAwS",
    "outputId": "a7b6644c-6598-40d1-81eb-41648012a147"
   },
   "outputs": [
    {
     "data": {
      "text/plain": [
       "<matplotlib.axes._subplots.AxesSubplot at 0x7f20d05fdf90>"
      ]
     },
     "execution_count": 189,
     "metadata": {
      "tags": []
     },
     "output_type": "execute_result"
    },
    {
     "data": {
      "image/png": "[encoded data removed]",
      "text/plain": [
       "<Figure size 432x288 with 1 Axes>"
      ]
     },
     "metadata": {
      "needs_background": "light",
      "tags": []
     },
     "output_type": "display_data"
    }
   ],
   "source": [
    "sns.boxplot(x ='gender', y ='MonthlyCharges', data = data1)"
   ]
  },
  {
   "cell_type": "code",
   "execution_count": null,
   "metadata": {
    "colab": {
     "base_uri": "https://localhost:8080/",
     "height": 141
    },
    "executionInfo": {
     "elapsed": 691,
     "status": "ok",
     "timestamp": 1623847638769,
     "user": {
      "displayName": "Saurabh Singh",
      "photoUrl": "",
      "userId": "17828593908952867657"
     },
     "user_tz": -330
    },
    "id": "UMG-QNCNz3Ot",
    "outputId": "b9af1218-1400-4f7d-9b02-12c60860b838"
   },
   "outputs": [
    {
     "data": {
      "text/html": [
       "<div>\n",
       "<style scoped>\n",
       "    .dataframe tbody tr th:only-of-type {\n",
       "        vertical-align: middle;\n",
       "    }\n",
       "\n",
       "    .dataframe tbody tr th {\n",
       "        vertical-align: top;\n",
       "    }\n",
       "\n",
       "    .dataframe thead th {\n",
       "        text-align: right;\n",
       "    }\n",
       "</style>\n",
       "<table border=\"1\" class=\"dataframe\">\n",
       "  <thead>\n",
       "    <tr style=\"text-align: right;\">\n",
       "      <th>Churn</th>\n",
       "      <th>No</th>\n",
       "      <th>Yes</th>\n",
       "    </tr>\n",
       "    <tr>\n",
       "      <th>gender</th>\n",
       "      <th></th>\n",
       "      <th></th>\n",
       "    </tr>\n",
       "  </thead>\n",
       "  <tbody>\n",
       "    <tr>\n",
       "      <th>Female</th>\n",
       "      <td>2544</td>\n",
       "      <td>939</td>\n",
       "    </tr>\n",
       "    <tr>\n",
       "      <th>Male</th>\n",
       "      <td>2619</td>\n",
       "      <td>930</td>\n",
       "    </tr>\n",
       "  </tbody>\n",
       "</table>\n",
       "</div>"
      ],
      "text/plain": [
       "Churn     No  Yes\n",
       "gender           \n",
       "Female  2544  939\n",
       "Male    2619  930"
      ]
     },
     "execution_count": 192,
     "metadata": {
      "tags": []
     },
     "output_type": "execute_result"
    }
   ],
   "source": [
    "pd.crosstab(data1['gender'], data1['Churn'])"
   ]
  },
  {
   "cell_type": "code",
   "execution_count": null,
   "metadata": {
    "colab": {
     "base_uri": "https://localhost:8080/",
     "height": 202
    },
    "executionInfo": {
     "elapsed": 478,
     "status": "ok",
     "timestamp": 1623847984984,
     "user": {
      "displayName": "Saurabh Singh",
      "photoUrl": "",
      "userId": "17828593908952867657"
     },
     "user_tz": -330
    },
    "id": "h8SUJCEG3dCn",
    "outputId": "dbc32561-09b4-4fd1-c74d-59ae2ad74a50"
   },
   "outputs": [
    {
     "data": {
      "text/html": [
       "<div>\n",
       "<style scoped>\n",
       "    .dataframe tbody tr th:only-of-type {\n",
       "        vertical-align: middle;\n",
       "    }\n",
       "\n",
       "    .dataframe tbody tr th {\n",
       "        vertical-align: top;\n",
       "    }\n",
       "\n",
       "    .dataframe thead th {\n",
       "        text-align: right;\n",
       "    }\n",
       "</style>\n",
       "<table border=\"1\" class=\"dataframe\">\n",
       "  <thead>\n",
       "    <tr style=\"text-align: right;\">\n",
       "      <th>Churn</th>\n",
       "      <th>No</th>\n",
       "      <th>Yes</th>\n",
       "    </tr>\n",
       "    <tr>\n",
       "      <th>PaymentMethod</th>\n",
       "      <th></th>\n",
       "      <th></th>\n",
       "    </tr>\n",
       "  </thead>\n",
       "  <tbody>\n",
       "    <tr>\n",
       "      <th>Bank transfer (automatic)</th>\n",
       "      <td>1284</td>\n",
       "      <td>258</td>\n",
       "    </tr>\n",
       "    <tr>\n",
       "      <th>Credit card (automatic)</th>\n",
       "      <td>1289</td>\n",
       "      <td>232</td>\n",
       "    </tr>\n",
       "    <tr>\n",
       "      <th>Electronic check</th>\n",
       "      <td>1294</td>\n",
       "      <td>1071</td>\n",
       "    </tr>\n",
       "    <tr>\n",
       "      <th>Mailed check</th>\n",
       "      <td>1296</td>\n",
       "      <td>308</td>\n",
       "    </tr>\n",
       "  </tbody>\n",
       "</table>\n",
       "</div>"
      ],
      "text/plain": [
       "Churn                        No   Yes\n",
       "PaymentMethod                        \n",
       "Bank transfer (automatic)  1284   258\n",
       "Credit card (automatic)    1289   232\n",
       "Electronic check           1294  1071\n",
       "Mailed check               1296   308"
      ]
     },
     "execution_count": 194,
     "metadata": {
      "tags": []
     },
     "output_type": "execute_result"
    }
   ],
   "source": [
    "pd.crosstab(data1['PaymentMethod'], data1['Churn'])"
   ]
  },
  {
   "cell_type": "code",
   "execution_count": null,
   "metadata": {
    "colab": {
     "base_uri": "https://localhost:8080/",
     "height": 141
    },
    "executionInfo": {
     "elapsed": 480,
     "status": "ok",
     "timestamp": 1623847793351,
     "user": {
      "displayName": "Saurabh Singh",
      "photoUrl": "",
      "userId": "17828593908952867657"
     },
     "user_tz": -330
    },
    "id": "VioLmWiE3rer",
    "outputId": "5b3ff3a1-9ddc-4f16-8b8e-e402aeb305be"
   },
   "outputs": [
    {
     "data": {
      "text/html": [
       "<div>\n",
       "<style scoped>\n",
       "    .dataframe tbody tr th:only-of-type {\n",
       "        vertical-align: middle;\n",
       "    }\n",
       "\n",
       "    .dataframe tbody tr th {\n",
       "        vertical-align: top;\n",
       "    }\n",
       "\n",
       "    .dataframe thead th {\n",
       "        text-align: right;\n",
       "    }\n",
       "</style>\n",
       "<table border=\"1\" class=\"dataframe\">\n",
       "  <thead>\n",
       "    <tr style=\"text-align: right;\">\n",
       "      <th>Churn</th>\n",
       "      <th>No</th>\n",
       "      <th>Yes</th>\n",
       "    </tr>\n",
       "    <tr>\n",
       "      <th>Partner</th>\n",
       "      <th></th>\n",
       "      <th></th>\n",
       "    </tr>\n",
       "  </thead>\n",
       "  <tbody>\n",
       "    <tr>\n",
       "      <th>No</th>\n",
       "      <td>2439</td>\n",
       "      <td>1200</td>\n",
       "    </tr>\n",
       "    <tr>\n",
       "      <th>Yes</th>\n",
       "      <td>2724</td>\n",
       "      <td>669</td>\n",
       "    </tr>\n",
       "  </tbody>\n",
       "</table>\n",
       "</div>"
      ],
      "text/plain": [
       "Churn      No   Yes\n",
       "Partner            \n",
       "No       2439  1200\n",
       "Yes      2724   669"
      ]
     },
     "execution_count": 193,
     "metadata": {
      "tags": []
     },
     "output_type": "execute_result"
    }
   ],
   "source": [
    "pd.crosstab(data1['Partner'], data1['Churn'])"
   ]
  },
  {
   "cell_type": "code",
   "execution_count": null,
   "metadata": {
    "id": "rCHeyxcX4uBu"
   },
   "outputs": [],
   "source": [
    "pd.crosstab(data1['PaymentMethod'], data1['Churn'])"
   ]
  },
  {
   "cell_type": "code",
   "execution_count": null,
   "metadata": {
    "colab": {
     "base_uri": "https://localhost:8080/",
     "height": 357
    },
    "executionInfo": {
     "elapsed": 446,
     "status": "ok",
     "timestamp": 1623848433717,
     "user": {
      "displayName": "Saurabh Singh",
      "photoUrl": "",
      "userId": "17828593908952867657"
     },
     "user_tz": -330
    },
    "id": "hSlEMolH5Irf",
    "outputId": "764da76a-743e-44a4-9ee1-95e017838800"
   },
   "outputs": [
    {
     "data": {
      "text/plain": [
       "<matplotlib.axes._subplots.AxesSubplot at 0x7f20f7d76a90>"
      ]
     },
     "execution_count": 197,
     "metadata": {
      "tags": []
     },
     "output_type": "execute_result"
    },
    {
     "data": {
      "image/png": "[encoded data removed]",
      "text/plain": [
       "<Figure size 360x360 with 1 Axes>"
      ]
     },
     "metadata": {
      "needs_background": "light",
      "tags": []
     },
     "output_type": "display_data"
    }
   ],
   "source": [
    "data1.groupby([\"Dependents\", \"Churn\"]).size().unstack().plot(kind='bar', stacked=True, figsize=(5,5)) "
   ]
  },
  {
   "cell_type": "code",
   "execution_count": null,
   "metadata": {
    "colab": {
     "base_uri": "https://localhost:8080/",
     "height": 393
    },
    "executionInfo": {
     "elapsed": 452,
     "status": "ok",
     "timestamp": 1623848765838,
     "user": {
      "displayName": "Saurabh Singh",
      "photoUrl": "",
      "userId": "17828593908952867657"
     },
     "user_tz": -330
    },
    "id": "Vwolan-g7UKb",
    "outputId": "59b5421d-43b3-4a5a-fd7e-a2a8e21cf54a"
   },
   "outputs": [
    {
     "data": {
      "text/plain": [
       "<matplotlib.axes._subplots.AxesSubplot at 0x7f20ee2dec50>"
      ]
     },
     "execution_count": 198,
     "metadata": {
      "tags": []
     },
     "output_type": "execute_result"
    },
    {
     "data": {
      "image/png": "[encoded data removed]",
      "text/plain": [
       "<Figure size 360x360 with 1 Axes>"
      ]
     },
     "metadata": {
      "needs_background": "light",
      "tags": []
     },
     "output_type": "display_data"
    }
   ],
   "source": [
    "data1.groupby([\"InternetService\", \"Churn\"]).size().unstack().plot(kind='bar', stacked=True, figsize=(5,5)) "
   ]
  },
  {
   "cell_type": "code",
   "execution_count": null,
   "metadata": {
    "colab": {
     "base_uri": "https://localhost:8080/",
     "height": 436
    },
    "executionInfo": {
     "elapsed": 458,
     "status": "ok",
     "timestamp": 1623848844888,
     "user": {
      "displayName": "Saurabh Singh",
      "photoUrl": "",
      "userId": "17828593908952867657"
     },
     "user_tz": -330
    },
    "id": "dRqqMHVJ7k6Z",
    "outputId": "1db9be5e-c9c7-4a6b-c8da-fca5030e6aff"
   },
   "outputs": [
    {
     "data": {
      "text/plain": [
       "<matplotlib.axes._subplots.AxesSubplot at 0x7f20f78bcb50>"
      ]
     },
     "execution_count": 199,
     "metadata": {
      "tags": []
     },
     "output_type": "execute_result"
    },
    {
     "data": {
      "image/png": "[encoded data removed]",
      "text/plain": [
       "<Figure size 360x360 with 1 Axes>"
      ]
     },
     "metadata": {
      "needs_background": "light",
      "tags": []
     },
     "output_type": "display_data"
    }
   ],
   "source": [
    "data1.groupby([\"DeviceProtection\", \"Churn\"]).size().unstack().plot(kind='bar', stacked=True, figsize=(5,5)) "
   ]
  },
  {
   "cell_type": "code",
   "execution_count": null,
   "metadata": {
    "colab": {
     "base_uri": "https://localhost:8080/",
     "height": 278
    },
    "executionInfo": {
     "elapsed": 514,
     "status": "ok",
     "timestamp": 1623849777753,
     "user": {
      "displayName": "Saurabh Singh",
      "photoUrl": "",
      "userId": "17828593908952867657"
     },
     "user_tz": -330
    },
    "id": "m2Brxmp__IWn",
    "outputId": "3adc5315-105c-4ec9-8ec1-815aeaf76b69"
   },
   "outputs": [
    {
     "data": {
      "image/png": "[encoded data removed]",
      "text/plain": [
       "<Figure size 432x288 with 1 Axes>"
      ]
     },
     "metadata": {
      "needs_background": "light",
      "tags": []
     },
     "output_type": "display_data"
    }
   ],
   "source": [
    "sns.boxplot(x='Churn',y = 'MonthlyCharges', data = data1)\n",
    "plt.show()"
   ]
  },
  {
   "cell_type": "code",
   "execution_count": null,
   "metadata": {
    "colab": {
     "base_uri": "https://localhost:8080/",
     "height": 278
    },
    "executionInfo": {
     "elapsed": 456,
     "status": "ok",
     "timestamp": 1623849818125,
     "user": {
      "displayName": "Saurabh Singh",
      "photoUrl": "",
      "userId": "17828593908952867657"
     },
     "user_tz": -330
    },
    "id": "l-CcUey7_WlT",
    "outputId": "d3a8974a-ac9a-4df7-870c-2273c2b4f4a2"
   },
   "outputs": [
    {
     "data": {
      "image/png": "[encoded data removed]",
      "text/plain": [
       "<Figure size 432x288 with 1 Axes>"
      ]
     },
     "metadata": {
      "needs_background": "light",
      "tags": []
     },
     "output_type": "display_data"
    }
   ],
   "source": [
    "sns.boxplot(x='Churn',y = 'TotalCharges', data = data1)\n",
    "plt.show()"
   ]
  },
  {
   "cell_type": "code",
   "execution_count": null,
   "metadata": {
    "colab": {
     "base_uri": "https://localhost:8080/",
     "height": 278
    },
    "executionInfo": {
     "elapsed": 433,
     "status": "ok",
     "timestamp": 1623849950443,
     "user": {
      "displayName": "Saurabh Singh",
      "photoUrl": "",
      "userId": "17828593908952867657"
     },
     "user_tz": -330
    },
    "id": "PqGBYLUN_uqe",
    "outputId": "201c6ff7-ba7f-4f10-f73e-078a31144f3f"
   },
   "outputs": [
    {
     "data": {
      "image/png": "[encoded data removed]",
      "text/plain": [
       "<Figure size 432x288 with 1 Axes>"
      ]
     },
     "metadata": {
      "needs_background": "light",
      "tags": []
     },
     "output_type": "display_data"
    }
   ],
   "source": [
    "sns.boxplot(x='Churn',y = 'tenure', data = data1)\n",
    "plt.show()"
   ]
  },
  {
   "cell_type": "markdown",
   "metadata": {
    "id": "WZGpz3M68nzt"
   },
   "source": [
    "**Multivariate Analysis**"
   ]
  },
  {
   "cell_type": "code",
   "execution_count": null,
   "metadata": {
    "colab": {
     "base_uri": "https://localhost:8080/",
     "height": 743
    },
    "executionInfo": {
     "elapsed": 8305,
     "status": "ok",
     "timestamp": 1623848914388,
     "user": {
      "displayName": "Saurabh Singh",
      "photoUrl": "",
      "userId": "17828593908952867657"
     },
     "user_tz": -330
    },
    "id": "BLbgues975Bf",
    "outputId": "2a032020-1b60-4dd0-c091-a24d578174d6"
   },
   "outputs": [
    {
     "data": {
      "text/plain": [
       "<seaborn.axisgrid.PairGrid at 0x7f20ec138d90>"
      ]
     },
     "execution_count": 200,
     "metadata": {
      "tags": []
     },
     "output_type": "execute_result"
    },
    {
     "data": {
      "image/png": "[encoded data removed]",
      "text/plain": [
       "<Figure size 720x720 with 20 Axes>"
      ]
     },
     "metadata": {
      "needs_background": "light",
      "tags": []
     },
     "output_type": "display_data"
    }
   ],
   "source": [
    "sns.pairplot(data1)"
   ]
  },
  {
   "cell_type": "code",
   "execution_count": 29,
   "metadata": {
    "colab": {
     "base_uri": "https://localhost:8080/"
    },
    "executionInfo": {
     "elapsed": 440,
     "status": "ok",
     "timestamp": 1624000564831,
     "user": {
      "displayName": "Saurabh Singh",
      "photoUrl": "",
      "userId": "17828593908952867657"
     },
     "user_tz": -330
    },
    "id": "IDGSzXCzmrlT",
    "outputId": "63c0e98c-ab08-43bf-e461-e07df522d85b"
   },
   "outputs": [
    {
     "name": "stdout",
     "output_type": "stream",
     "text": [
      "<class 'pandas.core.frame.DataFrame'>\n",
      "Int64Index: 7032 entries, 0 to 7042\n",
      "Data columns (total 21 columns):\n",
      " #   Column            Non-Null Count  Dtype   \n",
      "---  ------            --------------  -----   \n",
      " 0   customerID        7032 non-null   category\n",
      " 1   gender            7032 non-null   category\n",
      " 2   SeniorCitizen     7032 non-null   int64   \n",
      " 3   Partner           7032 non-null   category\n",
      " 4   Dependents        7032 non-null   category\n",
      " 5   tenure            7032 non-null   int64   \n",
      " 6   PhoneService      7032 non-null   category\n",
      " 7   MultipleLines     7032 non-null   category\n",
      " 8   InternetService   7032 non-null   category\n",
      " 9   OnlineSecurity    7032 non-null   category\n",
      " 10  OnlineBackup      7032 non-null   category\n",
      " 11  DeviceProtection  7032 non-null   category\n",
      " 12  TechSupport       7032 non-null   category\n",
      " 13  StreamingTV       7032 non-null   category\n",
      " 14  StreamingMovies   7032 non-null   category\n",
      " 15  Contract          7032 non-null   category\n",
      " 16  PaperlessBilling  7032 non-null   category\n",
      " 17  PaymentMethod     7032 non-null   category\n",
      " 18  MonthlyCharges    7032 non-null   float64 \n",
      " 19  TotalCharges      7032 non-null   float64 \n",
      " 20  Churn             7032 non-null   category\n",
      "dtypes: category(17), float64(2), int64(2)\n",
      "memory usage: 774.9 KB\n"
     ]
    }
   ],
   "source": [
    "data1.info()"
   ]
  },
  {
   "cell_type": "code",
   "execution_count": null,
   "metadata": {
    "colab": {
     "base_uri": "https://localhost:8080/"
    },
    "executionInfo": {
     "elapsed": 484,
     "status": "ok",
     "timestamp": 1623912783599,
     "user": {
      "displayName": "Saurabh Singh",
      "photoUrl": "",
      "userId": "17828593908952867657"
     },
     "user_tz": -330
    },
    "id": "nPzGEHhd08Yd",
    "outputId": "f8bff9b5-e472-4938-a1b6-8df55cb759ff"
   },
   "outputs": [
    {
     "data": {
      "text/plain": [
       "(7032, 21)"
      ]
     },
     "execution_count": 29,
     "metadata": {
      "tags": []
     },
     "output_type": "execute_result"
    }
   ],
   "source": [
    "data1.shape"
   ]
  },
  {
   "cell_type": "code",
   "execution_count": null,
   "metadata": {
    "colab": {
     "base_uri": "https://localhost:8080/"
    },
    "executionInfo": {
     "elapsed": 420,
     "status": "ok",
     "timestamp": 1623912785559,
     "user": {
      "displayName": "Saurabh Singh",
      "photoUrl": "",
      "userId": "17828593908952867657"
     },
     "user_tz": -330
    },
    "id": "Z72nvbRk827o",
    "outputId": "4684e2c5-f003-47fe-8755-649bcd4e9271"
   },
   "outputs": [
    {
     "data": {
      "text/plain": [
       "(7032, 23)"
      ]
     },
     "execution_count": 30,
     "metadata": {
      "tags": []
     },
     "output_type": "execute_result"
    }
   ],
   "source": [
    "data.shape"
   ]
  },
  {
   "cell_type": "markdown",
   "metadata": {
    "id": "_FJx1-BMvtDU"
   },
   "source": [
    "* Dataframe with name data contains the one hot encoding dummy columns"
   ]
  },
  {
   "cell_type": "code",
   "execution_count": 30,
   "metadata": {
    "colab": {
     "base_uri": "https://localhost:8080/",
     "height": 868
    },
    "executionInfo": {
     "elapsed": 3831,
     "status": "ok",
     "timestamp": 1624000579372,
     "user": {
      "displayName": "Saurabh Singh",
      "photoUrl": "",
      "userId": "17828593908952867657"
     },
     "user_tz": -330
    },
    "id": "DIcPClXUcD7Y",
    "outputId": "945f74bb-6a27-49de-d5c4-af681e793c66"
   },
   "outputs": [
    {
     "data": {
      "image/png": "[encoded data removed]",
      "text/plain": [
       "<Figure size 1440x1080 with 1 Axes>"
      ]
     },
     "metadata": {
      "needs_background": "light",
      "tags": []
     },
     "output_type": "display_data"
    }
   ],
   "source": [
    "plt.figure(figsize=(20,15))\n",
    "sns.heatmap(data.corr(),\n",
    "            annot=True,\n",
    "            linewidths=.5,\n",
    "            center=0,\n",
    "            cbar=False,\n",
    "            cmap=\"YlGnBu\")\n",
    "plt.show()"
   ]
  },
  {
   "cell_type": "code",
   "execution_count": 31,
   "metadata": {
    "colab": {
     "base_uri": "https://localhost:8080/",
     "height": 255
    },
    "executionInfo": {
     "elapsed": 457,
     "status": "ok",
     "timestamp": 1624000590639,
     "user": {
      "displayName": "Saurabh Singh",
      "photoUrl": "",
      "userId": "17828593908952867657"
     },
     "user_tz": -330
    },
    "id": "lik01tBOwRe5",
    "outputId": "fe18ef35-38e8-48f3-cd12-1077bec632e7"
   },
   "outputs": [
    {
     "data": {
      "text/html": [
       "<div>\n",
       "<style scoped>\n",
       "    .dataframe tbody tr th:only-of-type {\n",
       "        vertical-align: middle;\n",
       "    }\n",
       "\n",
       "    .dataframe tbody tr th {\n",
       "        vertical-align: top;\n",
       "    }\n",
       "\n",
       "    .dataframe thead th {\n",
       "        text-align: right;\n",
       "    }\n",
       "</style>\n",
       "<table border=\"1\" class=\"dataframe\">\n",
       "  <thead>\n",
       "    <tr style=\"text-align: right;\">\n",
       "      <th></th>\n",
       "      <th>gender</th>\n",
       "      <th>SeniorCitizen</th>\n",
       "      <th>Partner</th>\n",
       "      <th>Dependents</th>\n",
       "      <th>tenure</th>\n",
       "      <th>PhoneService</th>\n",
       "      <th>MultipleLines</th>\n",
       "      <th>InternetService</th>\n",
       "      <th>OnlineSecurity</th>\n",
       "      <th>OnlineBackup</th>\n",
       "      <th>DeviceProtection</th>\n",
       "      <th>TechSupport</th>\n",
       "      <th>StreamingTV</th>\n",
       "      <th>StreamingMovies</th>\n",
       "      <th>Contract</th>\n",
       "      <th>PaperlessBilling</th>\n",
       "      <th>MonthlyCharges</th>\n",
       "      <th>TotalCharges</th>\n",
       "      <th>Churn</th>\n",
       "      <th>PaymentMethod_Bank transfer (automatic)</th>\n",
       "      <th>PaymentMethod_Credit card (automatic)</th>\n",
       "      <th>PaymentMethod_Electronic check</th>\n",
       "      <th>PaymentMethod_Mailed check</th>\n",
       "    </tr>\n",
       "  </thead>\n",
       "  <tbody>\n",
       "    <tr>\n",
       "      <th>0</th>\n",
       "      <td>0</td>\n",
       "      <td>0</td>\n",
       "      <td>1</td>\n",
       "      <td>0</td>\n",
       "      <td>1</td>\n",
       "      <td>0</td>\n",
       "      <td>0</td>\n",
       "      <td>1</td>\n",
       "      <td>0</td>\n",
       "      <td>1</td>\n",
       "      <td>0</td>\n",
       "      <td>0</td>\n",
       "      <td>0</td>\n",
       "      <td>0</td>\n",
       "      <td>0</td>\n",
       "      <td>1</td>\n",
       "      <td>29.85</td>\n",
       "      <td>29.85</td>\n",
       "      <td>0</td>\n",
       "      <td>0</td>\n",
       "      <td>0</td>\n",
       "      <td>1</td>\n",
       "      <td>0</td>\n",
       "    </tr>\n",
       "    <tr>\n",
       "      <th>1</th>\n",
       "      <td>1</td>\n",
       "      <td>0</td>\n",
       "      <td>0</td>\n",
       "      <td>0</td>\n",
       "      <td>34</td>\n",
       "      <td>1</td>\n",
       "      <td>2</td>\n",
       "      <td>1</td>\n",
       "      <td>1</td>\n",
       "      <td>0</td>\n",
       "      <td>1</td>\n",
       "      <td>0</td>\n",
       "      <td>0</td>\n",
       "      <td>0</td>\n",
       "      <td>1</td>\n",
       "      <td>0</td>\n",
       "      <td>56.95</td>\n",
       "      <td>1889.50</td>\n",
       "      <td>0</td>\n",
       "      <td>0</td>\n",
       "      <td>0</td>\n",
       "      <td>0</td>\n",
       "      <td>1</td>\n",
       "    </tr>\n",
       "    <tr>\n",
       "      <th>2</th>\n",
       "      <td>1</td>\n",
       "      <td>0</td>\n",
       "      <td>0</td>\n",
       "      <td>0</td>\n",
       "      <td>2</td>\n",
       "      <td>1</td>\n",
       "      <td>2</td>\n",
       "      <td>1</td>\n",
       "      <td>1</td>\n",
       "      <td>1</td>\n",
       "      <td>0</td>\n",
       "      <td>0</td>\n",
       "      <td>0</td>\n",
       "      <td>0</td>\n",
       "      <td>0</td>\n",
       "      <td>1</td>\n",
       "      <td>53.85</td>\n",
       "      <td>108.15</td>\n",
       "      <td>1</td>\n",
       "      <td>0</td>\n",
       "      <td>0</td>\n",
       "      <td>0</td>\n",
       "      <td>1</td>\n",
       "    </tr>\n",
       "    <tr>\n",
       "      <th>3</th>\n",
       "      <td>1</td>\n",
       "      <td>0</td>\n",
       "      <td>0</td>\n",
       "      <td>0</td>\n",
       "      <td>45</td>\n",
       "      <td>0</td>\n",
       "      <td>0</td>\n",
       "      <td>1</td>\n",
       "      <td>1</td>\n",
       "      <td>0</td>\n",
       "      <td>1</td>\n",
       "      <td>1</td>\n",
       "      <td>0</td>\n",
       "      <td>0</td>\n",
       "      <td>1</td>\n",
       "      <td>0</td>\n",
       "      <td>42.30</td>\n",
       "      <td>1840.75</td>\n",
       "      <td>0</td>\n",
       "      <td>1</td>\n",
       "      <td>0</td>\n",
       "      <td>0</td>\n",
       "      <td>0</td>\n",
       "    </tr>\n",
       "    <tr>\n",
       "      <th>4</th>\n",
       "      <td>0</td>\n",
       "      <td>0</td>\n",
       "      <td>0</td>\n",
       "      <td>0</td>\n",
       "      <td>2</td>\n",
       "      <td>1</td>\n",
       "      <td>2</td>\n",
       "      <td>2</td>\n",
       "      <td>0</td>\n",
       "      <td>0</td>\n",
       "      <td>0</td>\n",
       "      <td>0</td>\n",
       "      <td>0</td>\n",
       "      <td>0</td>\n",
       "      <td>0</td>\n",
       "      <td>1</td>\n",
       "      <td>70.70</td>\n",
       "      <td>151.65</td>\n",
       "      <td>1</td>\n",
       "      <td>0</td>\n",
       "      <td>0</td>\n",
       "      <td>1</td>\n",
       "      <td>0</td>\n",
       "    </tr>\n",
       "  </tbody>\n",
       "</table>\n",
       "</div>"
      ],
      "text/plain": [
       "   gender  ...  PaymentMethod_Mailed check\n",
       "0       0  ...                           0\n",
       "1       1  ...                           1\n",
       "2       1  ...                           1\n",
       "3       1  ...                           0\n",
       "4       0  ...                           0\n",
       "\n",
       "[5 rows x 23 columns]"
      ]
     },
     "execution_count": 31,
     "metadata": {
      "tags": []
     },
     "output_type": "execute_result"
    }
   ],
   "source": [
    "data.head()"
   ]
  },
  {
   "cell_type": "code",
   "execution_count": null,
   "metadata": {
    "colab": {
     "base_uri": "https://localhost:8080/",
     "height": 305
    },
    "executionInfo": {
     "elapsed": 405,
     "status": "ok",
     "timestamp": 1623913482930,
     "user": {
      "displayName": "Saurabh Singh",
      "photoUrl": "",
      "userId": "17828593908952867657"
     },
     "user_tz": -330
    },
    "id": "s9JOUHLJwYPl",
    "outputId": "8ce42696-7831-4936-c925-86dc9c4de615"
   },
   "outputs": [
    {
     "data": {
      "text/html": [
       "<div>\n",
       "<style scoped>\n",
       "    .dataframe tbody tr th:only-of-type {\n",
       "        vertical-align: middle;\n",
       "    }\n",
       "\n",
       "    .dataframe tbody tr th {\n",
       "        vertical-align: top;\n",
       "    }\n",
       "\n",
       "    .dataframe thead th {\n",
       "        text-align: right;\n",
       "    }\n",
       "</style>\n",
       "<table border=\"1\" class=\"dataframe\">\n",
       "  <thead>\n",
       "    <tr style=\"text-align: right;\">\n",
       "      <th></th>\n",
       "      <th>customerID</th>\n",
       "      <th>gender</th>\n",
       "      <th>SeniorCitizen</th>\n",
       "      <th>Partner</th>\n",
       "      <th>Dependents</th>\n",
       "      <th>tenure</th>\n",
       "      <th>PhoneService</th>\n",
       "      <th>MultipleLines</th>\n",
       "      <th>InternetService</th>\n",
       "      <th>OnlineSecurity</th>\n",
       "      <th>OnlineBackup</th>\n",
       "      <th>DeviceProtection</th>\n",
       "      <th>TechSupport</th>\n",
       "      <th>StreamingTV</th>\n",
       "      <th>StreamingMovies</th>\n",
       "      <th>Contract</th>\n",
       "      <th>PaperlessBilling</th>\n",
       "      <th>PaymentMethod</th>\n",
       "      <th>MonthlyCharges</th>\n",
       "      <th>TotalCharges</th>\n",
       "      <th>Churn</th>\n",
       "    </tr>\n",
       "  </thead>\n",
       "  <tbody>\n",
       "    <tr>\n",
       "      <th>0</th>\n",
       "      <td>7590-VHVEG</td>\n",
       "      <td>Female</td>\n",
       "      <td>0</td>\n",
       "      <td>Yes</td>\n",
       "      <td>No</td>\n",
       "      <td>1</td>\n",
       "      <td>No</td>\n",
       "      <td>No phone service</td>\n",
       "      <td>DSL</td>\n",
       "      <td>No</td>\n",
       "      <td>Yes</td>\n",
       "      <td>No</td>\n",
       "      <td>No</td>\n",
       "      <td>No</td>\n",
       "      <td>No</td>\n",
       "      <td>Month-to-month</td>\n",
       "      <td>Yes</td>\n",
       "      <td>Electronic check</td>\n",
       "      <td>29.85</td>\n",
       "      <td>29.85</td>\n",
       "      <td>No</td>\n",
       "    </tr>\n",
       "    <tr>\n",
       "      <th>1</th>\n",
       "      <td>5575-GNVDE</td>\n",
       "      <td>Male</td>\n",
       "      <td>0</td>\n",
       "      <td>No</td>\n",
       "      <td>No</td>\n",
       "      <td>34</td>\n",
       "      <td>Yes</td>\n",
       "      <td>No</td>\n",
       "      <td>DSL</td>\n",
       "      <td>Yes</td>\n",
       "      <td>No</td>\n",
       "      <td>Yes</td>\n",
       "      <td>No</td>\n",
       "      <td>No</td>\n",
       "      <td>No</td>\n",
       "      <td>One year</td>\n",
       "      <td>No</td>\n",
       "      <td>Mailed check</td>\n",
       "      <td>56.95</td>\n",
       "      <td>1889.50</td>\n",
       "      <td>No</td>\n",
       "    </tr>\n",
       "    <tr>\n",
       "      <th>2</th>\n",
       "      <td>3668-QPYBK</td>\n",
       "      <td>Male</td>\n",
       "      <td>0</td>\n",
       "      <td>No</td>\n",
       "      <td>No</td>\n",
       "      <td>2</td>\n",
       "      <td>Yes</td>\n",
       "      <td>No</td>\n",
       "      <td>DSL</td>\n",
       "      <td>Yes</td>\n",
       "      <td>Yes</td>\n",
       "      <td>No</td>\n",
       "      <td>No</td>\n",
       "      <td>No</td>\n",
       "      <td>No</td>\n",
       "      <td>Month-to-month</td>\n",
       "      <td>Yes</td>\n",
       "      <td>Mailed check</td>\n",
       "      <td>53.85</td>\n",
       "      <td>108.15</td>\n",
       "      <td>Yes</td>\n",
       "    </tr>\n",
       "    <tr>\n",
       "      <th>3</th>\n",
       "      <td>7795-CFOCW</td>\n",
       "      <td>Male</td>\n",
       "      <td>0</td>\n",
       "      <td>No</td>\n",
       "      <td>No</td>\n",
       "      <td>45</td>\n",
       "      <td>No</td>\n",
       "      <td>No phone service</td>\n",
       "      <td>DSL</td>\n",
       "      <td>Yes</td>\n",
       "      <td>No</td>\n",
       "      <td>Yes</td>\n",
       "      <td>Yes</td>\n",
       "      <td>No</td>\n",
       "      <td>No</td>\n",
       "      <td>One year</td>\n",
       "      <td>No</td>\n",
       "      <td>Bank transfer (automatic)</td>\n",
       "      <td>42.30</td>\n",
       "      <td>1840.75</td>\n",
       "      <td>No</td>\n",
       "    </tr>\n",
       "    <tr>\n",
       "      <th>4</th>\n",
       "      <td>9237-HQITU</td>\n",
       "      <td>Female</td>\n",
       "      <td>0</td>\n",
       "      <td>No</td>\n",
       "      <td>No</td>\n",
       "      <td>2</td>\n",
       "      <td>Yes</td>\n",
       "      <td>No</td>\n",
       "      <td>Fiber optic</td>\n",
       "      <td>No</td>\n",
       "      <td>No</td>\n",
       "      <td>No</td>\n",
       "      <td>No</td>\n",
       "      <td>No</td>\n",
       "      <td>No</td>\n",
       "      <td>Month-to-month</td>\n",
       "      <td>Yes</td>\n",
       "      <td>Electronic check</td>\n",
       "      <td>70.70</td>\n",
       "      <td>151.65</td>\n",
       "      <td>Yes</td>\n",
       "    </tr>\n",
       "  </tbody>\n",
       "</table>\n",
       "</div>"
      ],
      "text/plain": [
       "   customerID  gender  SeniorCitizen  ... MonthlyCharges TotalCharges  Churn\n",
       "0  7590-VHVEG  Female              0  ...          29.85        29.85     No\n",
       "1  5575-GNVDE    Male              0  ...          56.95      1889.50     No\n",
       "2  3668-QPYBK    Male              0  ...          53.85       108.15    Yes\n",
       "3  7795-CFOCW    Male              0  ...          42.30      1840.75     No\n",
       "4  9237-HQITU  Female              0  ...          70.70       151.65    Yes\n",
       "\n",
       "[5 rows x 21 columns]"
      ]
     },
     "execution_count": 64,
     "metadata": {
      "tags": []
     },
     "output_type": "execute_result"
    }
   ],
   "source": [
    "data1.head()"
   ]
  },
  {
   "cell_type": "markdown",
   "metadata": {
    "id": "UiOfhKQu9-T4"
   },
   "source": [
    "* tenure and total charges are highly correlated\n",
    "* MonthlyCharges and TotalCharges are higly correlated\n"
   ]
  },
  {
   "cell_type": "markdown",
   "metadata": {
    "id": "HdXdLdAq-iy3"
   },
   "source": [
    "# **4. Data pre-processing:**\n",
    "* Segregate predictors vs target attributes\n",
    "* Check for target balancing and fix it if found imbalanced.\n",
    "* Perform train-test split.\n",
    "* Check if the train and test data have similar statistical characteristics when compared with original data.\n",
    "\n",
    "**Note:** Using dataframe data for pre processing."
   ]
  },
  {
   "cell_type": "code",
   "execution_count": 38,
   "metadata": {
    "colab": {
     "base_uri": "https://localhost:8080/"
    },
    "executionInfo": {
     "elapsed": 802,
     "status": "ok",
     "timestamp": 1624096045667,
     "user": {
      "displayName": "Saurabh Singh",
      "photoUrl": "",
      "userId": "17828593908952867657"
     },
     "user_tz": -330
    },
    "id": "J9XK_cSsy47N",
    "outputId": "cb5bbf61-4ff0-4588-ae27-7614b7081e98"
   },
   "outputs": [
    {
     "data": {
      "text/plain": [
       "0    5163\n",
       "1    1869\n",
       "Name: Churn, dtype: int64"
      ]
     },
     "execution_count": 38,
     "metadata": {
      "tags": []
     },
     "output_type": "execute_result"
    }
   ],
   "source": [
    "data.Churn.value_counts()"
   ]
  },
  {
   "cell_type": "markdown",
   "metadata": {
    "id": "amPon6sCzWea"
   },
   "source": [
    "* Target feature is imbalanced. Having huge difference in 0 an 1's count"
   ]
  },
  {
   "cell_type": "code",
   "execution_count": 39,
   "metadata": {
    "executionInfo": {
     "elapsed": 396,
     "status": "ok",
     "timestamp": 1624096074091,
     "user": {
      "displayName": "Saurabh Singh",
      "photoUrl": "",
      "userId": "17828593908952867657"
     },
     "user_tz": -330
    },
    "id": "wDMDsiepyvQw"
   },
   "outputs": [],
   "source": [
    "data_majority = data[data.Churn == 0]\n",
    "data_minority = data[data.Churn == 1]"
   ]
  },
  {
   "cell_type": "code",
   "execution_count": 40,
   "metadata": {
    "colab": {
     "base_uri": "https://localhost:8080/"
    },
    "executionInfo": {
     "elapsed": 12,
     "status": "ok",
     "timestamp": 1624096076767,
     "user": {
      "displayName": "Saurabh Singh",
      "photoUrl": "",
      "userId": "17828593908952867657"
     },
     "user_tz": -330
    },
    "id": "NYgqMSW20UVs",
    "outputId": "53107d44-4475-4d9e-8744-38f0292e2d62"
   },
   "outputs": [
    {
     "data": {
      "text/plain": [
       "(1869, 23)"
      ]
     },
     "execution_count": 40,
     "metadata": {
      "tags": []
     },
     "output_type": "execute_result"
    }
   ],
   "source": [
    "data_minority.shape"
   ]
  },
  {
   "cell_type": "code",
   "execution_count": 41,
   "metadata": {
    "executionInfo": {
     "elapsed": 8,
     "status": "ok",
     "timestamp": 1624096079377,
     "user": {
      "displayName": "Saurabh Singh",
      "photoUrl": "",
      "userId": "17828593908952867657"
     },
     "user_tz": -330
    },
    "id": "b86S4WM3zlB1"
   },
   "outputs": [],
   "source": [
    "data_minority_upsampled = resample(data_minority,replace=True,n_samples = 2200, random_state = 123)"
   ]
  },
  {
   "cell_type": "code",
   "execution_count": 42,
   "metadata": {
    "colab": {
     "base_uri": "https://localhost:8080/"
    },
    "executionInfo": {
     "elapsed": 441,
     "status": "ok",
     "timestamp": 1624096084196,
     "user": {
      "displayName": "Saurabh Singh",
      "photoUrl": "",
      "userId": "17828593908952867657"
     },
     "user_tz": -330
    },
    "id": "mHQ1cMqt0NjS",
    "outputId": "2bd4b127-2646-449d-8c98-3d50dc627a96"
   },
   "outputs": [
    {
     "data": {
      "text/plain": [
       "(2200, 23)"
      ]
     },
     "execution_count": 42,
     "metadata": {
      "tags": []
     },
     "output_type": "execute_result"
    }
   ],
   "source": [
    "data_minority_upsampled.shape"
   ]
  },
  {
   "cell_type": "code",
   "execution_count": 43,
   "metadata": {
    "executionInfo": {
     "elapsed": 645,
     "status": "ok",
     "timestamp": 1624096103245,
     "user": {
      "displayName": "Saurabh Singh",
      "photoUrl": "",
      "userId": "17828593908952867657"
     },
     "user_tz": -330
    },
    "id": "SFZePb1j0rhr"
   },
   "outputs": [],
   "source": [
    "data_upsampled = pd.concat([data_majority,data_minority_upsampled])"
   ]
  },
  {
   "cell_type": "code",
   "execution_count": 46,
   "metadata": {
    "colab": {
     "base_uri": "https://localhost:8080/"
    },
    "executionInfo": {
     "elapsed": 446,
     "status": "ok",
     "timestamp": 1624096115558,
     "user": {
      "displayName": "Saurabh Singh",
      "photoUrl": "",
      "userId": "17828593908952867657"
     },
     "user_tz": -330
    },
    "id": "GLorMb81069s",
    "outputId": "191e54ec-dba3-4e3f-9e54-c0b4f1e992a2"
   },
   "outputs": [
    {
     "data": {
      "text/plain": [
       "(7363, 23)"
      ]
     },
     "execution_count": 46,
     "metadata": {
      "tags": []
     },
     "output_type": "execute_result"
    }
   ],
   "source": [
    "data_upsampled.shape"
   ]
  },
  {
   "cell_type": "code",
   "execution_count": 47,
   "metadata": {
    "colab": {
     "base_uri": "https://localhost:8080/"
    },
    "executionInfo": {
     "elapsed": 657,
     "status": "ok",
     "timestamp": 1624096121088,
     "user": {
      "displayName": "Saurabh Singh",
      "photoUrl": "",
      "userId": "17828593908952867657"
     },
     "user_tz": -330
    },
    "id": "S_eDjRY73EK9",
    "outputId": "9453eae8-89df-43f8-ff22-fe0c4ac032e6"
   },
   "outputs": [
    {
     "data": {
      "text/plain": [
       "(7032, 23)"
      ]
     },
     "execution_count": 47,
     "metadata": {
      "tags": []
     },
     "output_type": "execute_result"
    }
   ],
   "source": [
    "data.shape"
   ]
  },
  {
   "cell_type": "code",
   "execution_count": 49,
   "metadata": {
    "executionInfo": {
     "elapsed": 397,
     "status": "ok",
     "timestamp": 1624096162208,
     "user": {
      "displayName": "Saurabh Singh",
      "photoUrl": "",
      "userId": "17828593908952867657"
     },
     "user_tz": -330
    },
    "id": "SNUC8SMg-vhd"
   },
   "outputs": [],
   "source": [
    "Y = data_upsampled['Churn']"
   ]
  },
  {
   "cell_type": "code",
   "execution_count": 50,
   "metadata": {
    "colab": {
     "base_uri": "https://localhost:8080/"
    },
    "executionInfo": {
     "elapsed": 740,
     "status": "ok",
     "timestamp": 1624096183692,
     "user": {
      "displayName": "Saurabh Singh",
      "photoUrl": "",
      "userId": "17828593908952867657"
     },
     "user_tz": -330
    },
    "id": "I5FBOo30BKVE",
    "outputId": "ffced8dc-6d70-4341-e2d4-8cf3a731ae84"
   },
   "outputs": [
    {
     "data": {
      "text/plain": [
       "(7363,)"
      ]
     },
     "execution_count": 50,
     "metadata": {
      "tags": []
     },
     "output_type": "execute_result"
    }
   ],
   "source": [
    "Y.shape"
   ]
  },
  {
   "cell_type": "code",
   "execution_count": 51,
   "metadata": {
    "executionInfo": {
     "elapsed": 403,
     "status": "ok",
     "timestamp": 1624096193955,
     "user": {
      "displayName": "Saurabh Singh",
      "photoUrl": "",
      "userId": "17828593908952867657"
     },
     "user_tz": -330
    },
    "id": "bVNhkSigBCjK"
   },
   "outputs": [],
   "source": [
    "X = data_upsampled.drop('Churn', axis=1)"
   ]
  },
  {
   "cell_type": "code",
   "execution_count": 52,
   "metadata": {
    "colab": {
     "base_uri": "https://localhost:8080/"
    },
    "executionInfo": {
     "elapsed": 15,
     "status": "ok",
     "timestamp": 1624096196880,
     "user": {
      "displayName": "Saurabh Singh",
      "photoUrl": "",
      "userId": "17828593908952867657"
     },
     "user_tz": -330
    },
    "id": "-r-5FLKs-VS0",
    "outputId": "ffa699e2-32cc-4b4a-bbd8-00b74a4a5be1"
   },
   "outputs": [
    {
     "data": {
      "text/plain": [
       "(7363, 22)"
      ]
     },
     "execution_count": 52,
     "metadata": {
      "tags": []
     },
     "output_type": "execute_result"
    }
   ],
   "source": [
    "X.shape"
   ]
  },
  {
   "cell_type": "code",
   "execution_count": 55,
   "metadata": {
    "executionInfo": {
     "elapsed": 407,
     "status": "ok",
     "timestamp": 1624096221574,
     "user": {
      "displayName": "Saurabh Singh",
      "photoUrl": "",
      "userId": "17828593908952867657"
     },
     "user_tz": -330
    },
    "id": "MXaKSmjnuqhY"
   },
   "outputs": [],
   "source": [
    "X_test,X_train,Y_test,Y_train = train_test_split(X,Y,test_size = 0.40, random_state=1)"
   ]
  },
  {
   "cell_type": "code",
   "execution_count": 56,
   "metadata": {
    "colab": {
     "base_uri": "https://localhost:8080/",
     "height": 754
    },
    "executionInfo": {
     "elapsed": 398,
     "status": "ok",
     "timestamp": 1624096226432,
     "user": {
      "displayName": "Saurabh Singh",
      "photoUrl": "",
      "userId": "17828593908952867657"
     },
     "user_tz": -330
    },
    "id": "Md0JHp974vXZ",
    "outputId": "d394ce80-8069-4b79-d36f-8fcfe59eaeab"
   },
   "outputs": [
    {
     "data": {
      "text/html": [
       "<div>\n",
       "<style scoped>\n",
       "    .dataframe tbody tr th:only-of-type {\n",
       "        vertical-align: middle;\n",
       "    }\n",
       "\n",
       "    .dataframe tbody tr th {\n",
       "        vertical-align: top;\n",
       "    }\n",
       "\n",
       "    .dataframe thead th {\n",
       "        text-align: right;\n",
       "    }\n",
       "</style>\n",
       "<table border=\"1\" class=\"dataframe\">\n",
       "  <thead>\n",
       "    <tr style=\"text-align: right;\">\n",
       "      <th></th>\n",
       "      <th>count</th>\n",
       "      <th>mean</th>\n",
       "      <th>std</th>\n",
       "      <th>min</th>\n",
       "      <th>25%</th>\n",
       "      <th>50%</th>\n",
       "      <th>75%</th>\n",
       "      <th>max</th>\n",
       "    </tr>\n",
       "  </thead>\n",
       "  <tbody>\n",
       "    <tr>\n",
       "      <th>gender</th>\n",
       "      <td>7032.0</td>\n",
       "      <td>0.504693</td>\n",
       "      <td>0.500014</td>\n",
       "      <td>0.00</td>\n",
       "      <td>0.0000</td>\n",
       "      <td>1.000</td>\n",
       "      <td>1.0000</td>\n",
       "      <td>1.00</td>\n",
       "    </tr>\n",
       "    <tr>\n",
       "      <th>SeniorCitizen</th>\n",
       "      <td>7032.0</td>\n",
       "      <td>0.162400</td>\n",
       "      <td>0.368844</td>\n",
       "      <td>0.00</td>\n",
       "      <td>0.0000</td>\n",
       "      <td>0.000</td>\n",
       "      <td>0.0000</td>\n",
       "      <td>1.00</td>\n",
       "    </tr>\n",
       "    <tr>\n",
       "      <th>Partner</th>\n",
       "      <td>7032.0</td>\n",
       "      <td>0.482509</td>\n",
       "      <td>0.499729</td>\n",
       "      <td>0.00</td>\n",
       "      <td>0.0000</td>\n",
       "      <td>0.000</td>\n",
       "      <td>1.0000</td>\n",
       "      <td>1.00</td>\n",
       "    </tr>\n",
       "    <tr>\n",
       "      <th>Dependents</th>\n",
       "      <td>7032.0</td>\n",
       "      <td>0.298493</td>\n",
       "      <td>0.457629</td>\n",
       "      <td>0.00</td>\n",
       "      <td>0.0000</td>\n",
       "      <td>0.000</td>\n",
       "      <td>1.0000</td>\n",
       "      <td>1.00</td>\n",
       "    </tr>\n",
       "    <tr>\n",
       "      <th>tenure</th>\n",
       "      <td>7032.0</td>\n",
       "      <td>32.421786</td>\n",
       "      <td>24.545260</td>\n",
       "      <td>1.00</td>\n",
       "      <td>9.0000</td>\n",
       "      <td>29.000</td>\n",
       "      <td>55.0000</td>\n",
       "      <td>72.00</td>\n",
       "    </tr>\n",
       "    <tr>\n",
       "      <th>PhoneService</th>\n",
       "      <td>7032.0</td>\n",
       "      <td>0.903299</td>\n",
       "      <td>0.295571</td>\n",
       "      <td>0.00</td>\n",
       "      <td>1.0000</td>\n",
       "      <td>1.000</td>\n",
       "      <td>1.0000</td>\n",
       "      <td>1.00</td>\n",
       "    </tr>\n",
       "    <tr>\n",
       "      <th>MultipleLines</th>\n",
       "      <td>7032.0</td>\n",
       "      <td>1.384670</td>\n",
       "      <td>0.655867</td>\n",
       "      <td>0.00</td>\n",
       "      <td>1.0000</td>\n",
       "      <td>1.000</td>\n",
       "      <td>2.0000</td>\n",
       "      <td>2.00</td>\n",
       "    </tr>\n",
       "    <tr>\n",
       "      <th>InternetService</th>\n",
       "      <td>7032.0</td>\n",
       "      <td>1.224118</td>\n",
       "      <td>0.778643</td>\n",
       "      <td>0.00</td>\n",
       "      <td>1.0000</td>\n",
       "      <td>1.000</td>\n",
       "      <td>2.0000</td>\n",
       "      <td>2.00</td>\n",
       "    </tr>\n",
       "    <tr>\n",
       "      <th>OnlineSecurity</th>\n",
       "      <td>7032.0</td>\n",
       "      <td>0.718857</td>\n",
       "      <td>0.796556</td>\n",
       "      <td>0.00</td>\n",
       "      <td>0.0000</td>\n",
       "      <td>1.000</td>\n",
       "      <td>1.0000</td>\n",
       "      <td>2.00</td>\n",
       "    </tr>\n",
       "    <tr>\n",
       "      <th>OnlineBackup</th>\n",
       "      <td>7032.0</td>\n",
       "      <td>0.777162</td>\n",
       "      <td>0.778188</td>\n",
       "      <td>0.00</td>\n",
       "      <td>0.0000</td>\n",
       "      <td>1.000</td>\n",
       "      <td>1.0000</td>\n",
       "      <td>2.00</td>\n",
       "    </tr>\n",
       "    <tr>\n",
       "      <th>DeviceProtection</th>\n",
       "      <td>7032.0</td>\n",
       "      <td>0.776166</td>\n",
       "      <td>0.778542</td>\n",
       "      <td>0.00</td>\n",
       "      <td>0.0000</td>\n",
       "      <td>1.000</td>\n",
       "      <td>1.0000</td>\n",
       "      <td>2.00</td>\n",
       "    </tr>\n",
       "    <tr>\n",
       "      <th>TechSupport</th>\n",
       "      <td>7032.0</td>\n",
       "      <td>0.722412</td>\n",
       "      <td>0.795571</td>\n",
       "      <td>0.00</td>\n",
       "      <td>0.0000</td>\n",
       "      <td>1.000</td>\n",
       "      <td>1.0000</td>\n",
       "      <td>2.00</td>\n",
       "    </tr>\n",
       "    <tr>\n",
       "      <th>StreamingTV</th>\n",
       "      <td>7032.0</td>\n",
       "      <td>0.816695</td>\n",
       "      <td>0.762952</td>\n",
       "      <td>0.00</td>\n",
       "      <td>0.0000</td>\n",
       "      <td>1.000</td>\n",
       "      <td>1.0000</td>\n",
       "      <td>2.00</td>\n",
       "    </tr>\n",
       "    <tr>\n",
       "      <th>StreamingMovies</th>\n",
       "      <td>7032.0</td>\n",
       "      <td>0.820677</td>\n",
       "      <td>0.761287</td>\n",
       "      <td>0.00</td>\n",
       "      <td>0.0000</td>\n",
       "      <td>1.000</td>\n",
       "      <td>1.0000</td>\n",
       "      <td>2.00</td>\n",
       "    </tr>\n",
       "    <tr>\n",
       "      <th>Contract</th>\n",
       "      <td>7032.0</td>\n",
       "      <td>0.688567</td>\n",
       "      <td>0.832934</td>\n",
       "      <td>0.00</td>\n",
       "      <td>0.0000</td>\n",
       "      <td>0.000</td>\n",
       "      <td>1.0000</td>\n",
       "      <td>2.00</td>\n",
       "    </tr>\n",
       "    <tr>\n",
       "      <th>PaperlessBilling</th>\n",
       "      <td>7032.0</td>\n",
       "      <td>0.592719</td>\n",
       "      <td>0.491363</td>\n",
       "      <td>0.00</td>\n",
       "      <td>0.0000</td>\n",
       "      <td>1.000</td>\n",
       "      <td>1.0000</td>\n",
       "      <td>1.00</td>\n",
       "    </tr>\n",
       "    <tr>\n",
       "      <th>MonthlyCharges</th>\n",
       "      <td>7032.0</td>\n",
       "      <td>64.798208</td>\n",
       "      <td>30.085974</td>\n",
       "      <td>18.25</td>\n",
       "      <td>35.5875</td>\n",
       "      <td>70.350</td>\n",
       "      <td>89.8625</td>\n",
       "      <td>118.75</td>\n",
       "    </tr>\n",
       "    <tr>\n",
       "      <th>TotalCharges</th>\n",
       "      <td>7032.0</td>\n",
       "      <td>2283.300441</td>\n",
       "      <td>2266.771362</td>\n",
       "      <td>18.80</td>\n",
       "      <td>401.4500</td>\n",
       "      <td>1397.475</td>\n",
       "      <td>3794.7375</td>\n",
       "      <td>8684.80</td>\n",
       "    </tr>\n",
       "    <tr>\n",
       "      <th>Churn</th>\n",
       "      <td>7032.0</td>\n",
       "      <td>0.265785</td>\n",
       "      <td>0.441782</td>\n",
       "      <td>0.00</td>\n",
       "      <td>0.0000</td>\n",
       "      <td>0.000</td>\n",
       "      <td>1.0000</td>\n",
       "      <td>1.00</td>\n",
       "    </tr>\n",
       "    <tr>\n",
       "      <th>PaymentMethod_Bank transfer (automatic)</th>\n",
       "      <td>7032.0</td>\n",
       "      <td>0.219283</td>\n",
       "      <td>0.413790</td>\n",
       "      <td>0.00</td>\n",
       "      <td>0.0000</td>\n",
       "      <td>0.000</td>\n",
       "      <td>0.0000</td>\n",
       "      <td>1.00</td>\n",
       "    </tr>\n",
       "    <tr>\n",
       "      <th>PaymentMethod_Credit card (automatic)</th>\n",
       "      <td>7032.0</td>\n",
       "      <td>0.216297</td>\n",
       "      <td>0.411748</td>\n",
       "      <td>0.00</td>\n",
       "      <td>0.0000</td>\n",
       "      <td>0.000</td>\n",
       "      <td>0.0000</td>\n",
       "      <td>1.00</td>\n",
       "    </tr>\n",
       "    <tr>\n",
       "      <th>PaymentMethod_Electronic check</th>\n",
       "      <td>7032.0</td>\n",
       "      <td>0.336320</td>\n",
       "      <td>0.472483</td>\n",
       "      <td>0.00</td>\n",
       "      <td>0.0000</td>\n",
       "      <td>0.000</td>\n",
       "      <td>1.0000</td>\n",
       "      <td>1.00</td>\n",
       "    </tr>\n",
       "    <tr>\n",
       "      <th>PaymentMethod_Mailed check</th>\n",
       "      <td>7032.0</td>\n",
       "      <td>0.228100</td>\n",
       "      <td>0.419637</td>\n",
       "      <td>0.00</td>\n",
       "      <td>0.0000</td>\n",
       "      <td>0.000</td>\n",
       "      <td>0.0000</td>\n",
       "      <td>1.00</td>\n",
       "    </tr>\n",
       "  </tbody>\n",
       "</table>\n",
       "</div>"
      ],
      "text/plain": [
       "                                          count  ...      max\n",
       "gender                                   7032.0  ...     1.00\n",
       "SeniorCitizen                            7032.0  ...     1.00\n",
       "Partner                                  7032.0  ...     1.00\n",
       "Dependents                               7032.0  ...     1.00\n",
       "tenure                                   7032.0  ...    72.00\n",
       "PhoneService                             7032.0  ...     1.00\n",
       "MultipleLines                            7032.0  ...     2.00\n",
       "InternetService                          7032.0  ...     2.00\n",
       "OnlineSecurity                           7032.0  ...     2.00\n",
       "OnlineBackup                             7032.0  ...     2.00\n",
       "DeviceProtection                         7032.0  ...     2.00\n",
       "TechSupport                              7032.0  ...     2.00\n",
       "StreamingTV                              7032.0  ...     2.00\n",
       "StreamingMovies                          7032.0  ...     2.00\n",
       "Contract                                 7032.0  ...     2.00\n",
       "PaperlessBilling                         7032.0  ...     1.00\n",
       "MonthlyCharges                           7032.0  ...   118.75\n",
       "TotalCharges                             7032.0  ...  8684.80\n",
       "Churn                                    7032.0  ...     1.00\n",
       "PaymentMethod_Bank transfer (automatic)  7032.0  ...     1.00\n",
       "PaymentMethod_Credit card (automatic)    7032.0  ...     1.00\n",
       "PaymentMethod_Electronic check           7032.0  ...     1.00\n",
       "PaymentMethod_Mailed check               7032.0  ...     1.00\n",
       "\n",
       "[23 rows x 8 columns]"
      ]
     },
     "execution_count": 56,
     "metadata": {
      "tags": []
     },
     "output_type": "execute_result"
    }
   ],
   "source": [
    "data.describe().transpose()"
   ]
  },
  {
   "cell_type": "code",
   "execution_count": 58,
   "metadata": {
    "colab": {
     "base_uri": "https://localhost:8080/",
     "height": 723
    },
    "executionInfo": {
     "elapsed": 705,
     "status": "ok",
     "timestamp": 1624096249347,
     "user": {
      "displayName": "Saurabh Singh",
      "photoUrl": "",
      "userId": "17828593908952867657"
     },
     "user_tz": -330
    },
    "id": "iZvZokQZ51lW",
    "outputId": "2cad39fa-68f0-4cad-8059-a5f72f9f6a52"
   },
   "outputs": [
    {
     "data": {
      "text/html": [
       "<div>\n",
       "<style scoped>\n",
       "    .dataframe tbody tr th:only-of-type {\n",
       "        vertical-align: middle;\n",
       "    }\n",
       "\n",
       "    .dataframe tbody tr th {\n",
       "        vertical-align: top;\n",
       "    }\n",
       "\n",
       "    .dataframe thead th {\n",
       "        text-align: right;\n",
       "    }\n",
       "</style>\n",
       "<table border=\"1\" class=\"dataframe\">\n",
       "  <thead>\n",
       "    <tr style=\"text-align: right;\">\n",
       "      <th></th>\n",
       "      <th>count</th>\n",
       "      <th>mean</th>\n",
       "      <th>std</th>\n",
       "      <th>min</th>\n",
       "      <th>25%</th>\n",
       "      <th>50%</th>\n",
       "      <th>75%</th>\n",
       "      <th>max</th>\n",
       "    </tr>\n",
       "  </thead>\n",
       "  <tbody>\n",
       "    <tr>\n",
       "      <th>gender</th>\n",
       "      <td>4417.0</td>\n",
       "      <td>0.502604</td>\n",
       "      <td>0.500050</td>\n",
       "      <td>0.00</td>\n",
       "      <td>0.0</td>\n",
       "      <td>1.00</td>\n",
       "      <td>1.00</td>\n",
       "      <td>1.00</td>\n",
       "    </tr>\n",
       "    <tr>\n",
       "      <th>SeniorCitizen</th>\n",
       "      <td>4417.0</td>\n",
       "      <td>0.164818</td>\n",
       "      <td>0.371058</td>\n",
       "      <td>0.00</td>\n",
       "      <td>0.0</td>\n",
       "      <td>0.00</td>\n",
       "      <td>0.00</td>\n",
       "      <td>1.00</td>\n",
       "    </tr>\n",
       "    <tr>\n",
       "      <th>Partner</th>\n",
       "      <td>4417.0</td>\n",
       "      <td>0.475209</td>\n",
       "      <td>0.499442</td>\n",
       "      <td>0.00</td>\n",
       "      <td>0.0</td>\n",
       "      <td>0.00</td>\n",
       "      <td>1.00</td>\n",
       "      <td>1.00</td>\n",
       "    </tr>\n",
       "    <tr>\n",
       "      <th>Dependents</th>\n",
       "      <td>4417.0</td>\n",
       "      <td>0.296808</td>\n",
       "      <td>0.456903</td>\n",
       "      <td>0.00</td>\n",
       "      <td>0.0</td>\n",
       "      <td>0.00</td>\n",
       "      <td>1.00</td>\n",
       "      <td>1.00</td>\n",
       "    </tr>\n",
       "    <tr>\n",
       "      <th>tenure</th>\n",
       "      <td>4417.0</td>\n",
       "      <td>31.647725</td>\n",
       "      <td>24.532411</td>\n",
       "      <td>1.00</td>\n",
       "      <td>8.0</td>\n",
       "      <td>27.00</td>\n",
       "      <td>54.00</td>\n",
       "      <td>72.00</td>\n",
       "    </tr>\n",
       "    <tr>\n",
       "      <th>PhoneService</th>\n",
       "      <td>4417.0</td>\n",
       "      <td>0.909441</td>\n",
       "      <td>0.287014</td>\n",
       "      <td>0.00</td>\n",
       "      <td>1.0</td>\n",
       "      <td>1.00</td>\n",
       "      <td>1.00</td>\n",
       "      <td>1.00</td>\n",
       "    </tr>\n",
       "    <tr>\n",
       "      <th>MultipleLines</th>\n",
       "      <td>4417.0</td>\n",
       "      <td>1.402536</td>\n",
       "      <td>0.649396</td>\n",
       "      <td>0.00</td>\n",
       "      <td>1.0</td>\n",
       "      <td>1.00</td>\n",
       "      <td>2.00</td>\n",
       "      <td>2.00</td>\n",
       "    </tr>\n",
       "    <tr>\n",
       "      <th>InternetService</th>\n",
       "      <td>4417.0</td>\n",
       "      <td>1.251302</td>\n",
       "      <td>0.777726</td>\n",
       "      <td>0.00</td>\n",
       "      <td>1.0</td>\n",
       "      <td>1.00</td>\n",
       "      <td>2.00</td>\n",
       "      <td>2.00</td>\n",
       "    </tr>\n",
       "    <tr>\n",
       "      <th>OnlineSecurity</th>\n",
       "      <td>4417.0</td>\n",
       "      <td>0.694815</td>\n",
       "      <td>0.792945</td>\n",
       "      <td>0.00</td>\n",
       "      <td>0.0</td>\n",
       "      <td>0.00</td>\n",
       "      <td>1.00</td>\n",
       "      <td>2.00</td>\n",
       "    </tr>\n",
       "    <tr>\n",
       "      <th>OnlineBackup</th>\n",
       "      <td>4417.0</td>\n",
       "      <td>0.761603</td>\n",
       "      <td>0.773480</td>\n",
       "      <td>0.00</td>\n",
       "      <td>0.0</td>\n",
       "      <td>1.00</td>\n",
       "      <td>1.00</td>\n",
       "      <td>2.00</td>\n",
       "    </tr>\n",
       "    <tr>\n",
       "      <th>DeviceProtection</th>\n",
       "      <td>4417.0</td>\n",
       "      <td>0.758207</td>\n",
       "      <td>0.774621</td>\n",
       "      <td>0.00</td>\n",
       "      <td>0.0</td>\n",
       "      <td>1.00</td>\n",
       "      <td>1.00</td>\n",
       "      <td>2.00</td>\n",
       "    </tr>\n",
       "    <tr>\n",
       "      <th>TechSupport</th>\n",
       "      <td>4417.0</td>\n",
       "      <td>0.706362</td>\n",
       "      <td>0.790018</td>\n",
       "      <td>0.00</td>\n",
       "      <td>0.0</td>\n",
       "      <td>0.00</td>\n",
       "      <td>1.00</td>\n",
       "      <td>2.00</td>\n",
       "    </tr>\n",
       "    <tr>\n",
       "      <th>StreamingTV</th>\n",
       "      <td>4417.0</td>\n",
       "      <td>0.799411</td>\n",
       "      <td>0.759642</td>\n",
       "      <td>0.00</td>\n",
       "      <td>0.0</td>\n",
       "      <td>1.00</td>\n",
       "      <td>1.00</td>\n",
       "      <td>2.00</td>\n",
       "    </tr>\n",
       "    <tr>\n",
       "      <th>StreamingMovies</th>\n",
       "      <td>4417.0</td>\n",
       "      <td>0.796015</td>\n",
       "      <td>0.760972</td>\n",
       "      <td>0.00</td>\n",
       "      <td>0.0</td>\n",
       "      <td>1.00</td>\n",
       "      <td>1.00</td>\n",
       "      <td>2.00</td>\n",
       "    </tr>\n",
       "    <tr>\n",
       "      <th>Contract</th>\n",
       "      <td>4417.0</td>\n",
       "      <td>0.667421</td>\n",
       "      <td>0.825110</td>\n",
       "      <td>0.00</td>\n",
       "      <td>0.0</td>\n",
       "      <td>0.00</td>\n",
       "      <td>1.00</td>\n",
       "      <td>2.00</td>\n",
       "    </tr>\n",
       "    <tr>\n",
       "      <th>PaperlessBilling</th>\n",
       "      <td>4417.0</td>\n",
       "      <td>0.601313</td>\n",
       "      <td>0.489684</td>\n",
       "      <td>0.00</td>\n",
       "      <td>0.0</td>\n",
       "      <td>1.00</td>\n",
       "      <td>1.00</td>\n",
       "      <td>1.00</td>\n",
       "    </tr>\n",
       "    <tr>\n",
       "      <th>MonthlyCharges</th>\n",
       "      <td>4417.0</td>\n",
       "      <td>65.409146</td>\n",
       "      <td>29.935455</td>\n",
       "      <td>18.25</td>\n",
       "      <td>39.1</td>\n",
       "      <td>71.15</td>\n",
       "      <td>89.95</td>\n",
       "      <td>118.75</td>\n",
       "    </tr>\n",
       "    <tr>\n",
       "      <th>TotalCharges</th>\n",
       "      <td>4417.0</td>\n",
       "      <td>2242.651121</td>\n",
       "      <td>2265.760029</td>\n",
       "      <td>18.90</td>\n",
       "      <td>365.4</td>\n",
       "      <td>1362.85</td>\n",
       "      <td>3694.70</td>\n",
       "      <td>8672.45</td>\n",
       "    </tr>\n",
       "    <tr>\n",
       "      <th>PaymentMethod_Bank transfer (automatic)</th>\n",
       "      <td>4417.0</td>\n",
       "      <td>0.212814</td>\n",
       "      <td>0.409344</td>\n",
       "      <td>0.00</td>\n",
       "      <td>0.0</td>\n",
       "      <td>0.00</td>\n",
       "      <td>0.00</td>\n",
       "      <td>1.00</td>\n",
       "    </tr>\n",
       "    <tr>\n",
       "      <th>PaymentMethod_Credit card (automatic)</th>\n",
       "      <td>4417.0</td>\n",
       "      <td>0.208286</td>\n",
       "      <td>0.406129</td>\n",
       "      <td>0.00</td>\n",
       "      <td>0.0</td>\n",
       "      <td>0.00</td>\n",
       "      <td>0.00</td>\n",
       "      <td>1.00</td>\n",
       "    </tr>\n",
       "    <tr>\n",
       "      <th>PaymentMethod_Electronic check</th>\n",
       "      <td>4417.0</td>\n",
       "      <td>0.349332</td>\n",
       "      <td>0.476813</td>\n",
       "      <td>0.00</td>\n",
       "      <td>0.0</td>\n",
       "      <td>0.00</td>\n",
       "      <td>1.00</td>\n",
       "      <td>1.00</td>\n",
       "    </tr>\n",
       "    <tr>\n",
       "      <th>PaymentMethod_Mailed check</th>\n",
       "      <td>4417.0</td>\n",
       "      <td>0.229568</td>\n",
       "      <td>0.420602</td>\n",
       "      <td>0.00</td>\n",
       "      <td>0.0</td>\n",
       "      <td>0.00</td>\n",
       "      <td>0.00</td>\n",
       "      <td>1.00</td>\n",
       "    </tr>\n",
       "  </tbody>\n",
       "</table>\n",
       "</div>"
      ],
      "text/plain": [
       "                                          count         mean  ...      75%      max\n",
       "gender                                   4417.0     0.502604  ...     1.00     1.00\n",
       "SeniorCitizen                            4417.0     0.164818  ...     0.00     1.00\n",
       "Partner                                  4417.0     0.475209  ...     1.00     1.00\n",
       "Dependents                               4417.0     0.296808  ...     1.00     1.00\n",
       "tenure                                   4417.0    31.647725  ...    54.00    72.00\n",
       "PhoneService                             4417.0     0.909441  ...     1.00     1.00\n",
       "MultipleLines                            4417.0     1.402536  ...     2.00     2.00\n",
       "InternetService                          4417.0     1.251302  ...     2.00     2.00\n",
       "OnlineSecurity                           4417.0     0.694815  ...     1.00     2.00\n",
       "OnlineBackup                             4417.0     0.761603  ...     1.00     2.00\n",
       "DeviceProtection                         4417.0     0.758207  ...     1.00     2.00\n",
       "TechSupport                              4417.0     0.706362  ...     1.00     2.00\n",
       "StreamingTV                              4417.0     0.799411  ...     1.00     2.00\n",
       "StreamingMovies                          4417.0     0.796015  ...     1.00     2.00\n",
       "Contract                                 4417.0     0.667421  ...     1.00     2.00\n",
       "PaperlessBilling                         4417.0     0.601313  ...     1.00     1.00\n",
       "MonthlyCharges                           4417.0    65.409146  ...    89.95   118.75\n",
       "TotalCharges                             4417.0  2242.651121  ...  3694.70  8672.45\n",
       "PaymentMethod_Bank transfer (automatic)  4417.0     0.212814  ...     0.00     1.00\n",
       "PaymentMethod_Credit card (automatic)    4417.0     0.208286  ...     0.00     1.00\n",
       "PaymentMethod_Electronic check           4417.0     0.349332  ...     1.00     1.00\n",
       "PaymentMethod_Mailed check               4417.0     0.229568  ...     0.00     1.00\n",
       "\n",
       "[22 rows x 8 columns]"
      ]
     },
     "execution_count": 58,
     "metadata": {
      "tags": []
     },
     "output_type": "execute_result"
    }
   ],
   "source": [
    "X_test.describe().transpose()"
   ]
  },
  {
   "cell_type": "code",
   "execution_count": null,
   "metadata": {
    "colab": {
     "base_uri": "https://localhost:8080/",
     "height": 723
    },
    "executionInfo": {
     "elapsed": 378,
     "status": "ok",
     "timestamp": 1623917549236,
     "user": {
      "displayName": "Saurabh Singh",
      "photoUrl": "",
      "userId": "17828593908952867657"
     },
     "user_tz": -330
    },
    "id": "DS5uQ5uk6XRB",
    "outputId": "47f8508b-6875-4188-c1dc-d8e8a2e87575"
   },
   "outputs": [
    {
     "data": {
      "text/html": [
       "<div>\n",
       "<style scoped>\n",
       "    .dataframe tbody tr th:only-of-type {\n",
       "        vertical-align: middle;\n",
       "    }\n",
       "\n",
       "    .dataframe tbody tr th {\n",
       "        vertical-align: top;\n",
       "    }\n",
       "\n",
       "    .dataframe thead th {\n",
       "        text-align: right;\n",
       "    }\n",
       "</style>\n",
       "<table border=\"1\" class=\"dataframe\">\n",
       "  <thead>\n",
       "    <tr style=\"text-align: right;\">\n",
       "      <th></th>\n",
       "      <th>count</th>\n",
       "      <th>mean</th>\n",
       "      <th>std</th>\n",
       "      <th>min</th>\n",
       "      <th>25%</th>\n",
       "      <th>50%</th>\n",
       "      <th>75%</th>\n",
       "      <th>max</th>\n",
       "    </tr>\n",
       "  </thead>\n",
       "  <tbody>\n",
       "    <tr>\n",
       "      <th>gender</th>\n",
       "      <td>2946.0</td>\n",
       "      <td>0.505092</td>\n",
       "      <td>0.500059</td>\n",
       "      <td>0.0</td>\n",
       "      <td>0.0000</td>\n",
       "      <td>1.000</td>\n",
       "      <td>1.0</td>\n",
       "      <td>1.00</td>\n",
       "    </tr>\n",
       "    <tr>\n",
       "      <th>SeniorCitizen</th>\n",
       "      <td>2946.0</td>\n",
       "      <td>0.167685</td>\n",
       "      <td>0.373650</td>\n",
       "      <td>0.0</td>\n",
       "      <td>0.0000</td>\n",
       "      <td>0.000</td>\n",
       "      <td>0.0</td>\n",
       "      <td>1.00</td>\n",
       "    </tr>\n",
       "    <tr>\n",
       "      <th>Partner</th>\n",
       "      <td>2946.0</td>\n",
       "      <td>0.469450</td>\n",
       "      <td>0.499151</td>\n",
       "      <td>0.0</td>\n",
       "      <td>0.0000</td>\n",
       "      <td>0.000</td>\n",
       "      <td>1.0</td>\n",
       "      <td>1.00</td>\n",
       "    </tr>\n",
       "    <tr>\n",
       "      <th>Dependents</th>\n",
       "      <td>2946.0</td>\n",
       "      <td>0.284114</td>\n",
       "      <td>0.451068</td>\n",
       "      <td>0.0</td>\n",
       "      <td>0.0000</td>\n",
       "      <td>0.000</td>\n",
       "      <td>1.0</td>\n",
       "      <td>1.00</td>\n",
       "    </tr>\n",
       "    <tr>\n",
       "      <th>tenure</th>\n",
       "      <td>2946.0</td>\n",
       "      <td>31.621181</td>\n",
       "      <td>24.616207</td>\n",
       "      <td>1.0</td>\n",
       "      <td>8.0000</td>\n",
       "      <td>27.000</td>\n",
       "      <td>55.0</td>\n",
       "      <td>72.00</td>\n",
       "    </tr>\n",
       "    <tr>\n",
       "      <th>PhoneService</th>\n",
       "      <td>2946.0</td>\n",
       "      <td>0.896470</td>\n",
       "      <td>0.304702</td>\n",
       "      <td>0.0</td>\n",
       "      <td>1.0000</td>\n",
       "      <td>1.000</td>\n",
       "      <td>1.0</td>\n",
       "      <td>1.00</td>\n",
       "    </tr>\n",
       "    <tr>\n",
       "      <th>MultipleLines</th>\n",
       "      <td>2946.0</td>\n",
       "      <td>1.377461</td>\n",
       "      <td>0.664977</td>\n",
       "      <td>0.0</td>\n",
       "      <td>1.0000</td>\n",
       "      <td>1.000</td>\n",
       "      <td>2.0</td>\n",
       "      <td>2.00</td>\n",
       "    </tr>\n",
       "    <tr>\n",
       "      <th>InternetService</th>\n",
       "      <td>2946.0</td>\n",
       "      <td>1.237271</td>\n",
       "      <td>0.773752</td>\n",
       "      <td>0.0</td>\n",
       "      <td>1.0000</td>\n",
       "      <td>1.000</td>\n",
       "      <td>2.0</td>\n",
       "      <td>2.00</td>\n",
       "    </tr>\n",
       "    <tr>\n",
       "      <th>OnlineSecurity</th>\n",
       "      <td>2946.0</td>\n",
       "      <td>0.697217</td>\n",
       "      <td>0.792991</td>\n",
       "      <td>0.0</td>\n",
       "      <td>0.0000</td>\n",
       "      <td>0.000</td>\n",
       "      <td>1.0</td>\n",
       "      <td>2.00</td>\n",
       "    </tr>\n",
       "    <tr>\n",
       "      <th>OnlineBackup</th>\n",
       "      <td>2946.0</td>\n",
       "      <td>0.765445</td>\n",
       "      <td>0.772824</td>\n",
       "      <td>0.0</td>\n",
       "      <td>0.0000</td>\n",
       "      <td>1.000</td>\n",
       "      <td>1.0</td>\n",
       "      <td>2.00</td>\n",
       "    </tr>\n",
       "    <tr>\n",
       "      <th>DeviceProtection</th>\n",
       "      <td>2946.0</td>\n",
       "      <td>0.751527</td>\n",
       "      <td>0.777467</td>\n",
       "      <td>0.0</td>\n",
       "      <td>0.0000</td>\n",
       "      <td>1.000</td>\n",
       "      <td>1.0</td>\n",
       "      <td>2.00</td>\n",
       "    </tr>\n",
       "    <tr>\n",
       "      <th>TechSupport</th>\n",
       "      <td>2946.0</td>\n",
       "      <td>0.689749</td>\n",
       "      <td>0.794811</td>\n",
       "      <td>0.0</td>\n",
       "      <td>0.0000</td>\n",
       "      <td>0.000</td>\n",
       "      <td>1.0</td>\n",
       "      <td>2.00</td>\n",
       "    </tr>\n",
       "    <tr>\n",
       "      <th>StreamingTV</th>\n",
       "      <td>2946.0</td>\n",
       "      <td>0.805160</td>\n",
       "      <td>0.758016</td>\n",
       "      <td>0.0</td>\n",
       "      <td>0.0000</td>\n",
       "      <td>1.000</td>\n",
       "      <td>1.0</td>\n",
       "      <td>2.00</td>\n",
       "    </tr>\n",
       "    <tr>\n",
       "      <th>StreamingMovies</th>\n",
       "      <td>2946.0</td>\n",
       "      <td>0.803802</td>\n",
       "      <td>0.758561</td>\n",
       "      <td>0.0</td>\n",
       "      <td>0.0000</td>\n",
       "      <td>1.000</td>\n",
       "      <td>1.0</td>\n",
       "      <td>2.00</td>\n",
       "    </tr>\n",
       "    <tr>\n",
       "      <th>Contract</th>\n",
       "      <td>2946.0</td>\n",
       "      <td>0.658520</td>\n",
       "      <td>0.830340</td>\n",
       "      <td>0.0</td>\n",
       "      <td>0.0000</td>\n",
       "      <td>0.000</td>\n",
       "      <td>1.0</td>\n",
       "      <td>2.00</td>\n",
       "    </tr>\n",
       "    <tr>\n",
       "      <th>PaperlessBilling</th>\n",
       "      <td>2946.0</td>\n",
       "      <td>0.593007</td>\n",
       "      <td>0.491357</td>\n",
       "      <td>0.0</td>\n",
       "      <td>0.0000</td>\n",
       "      <td>1.000</td>\n",
       "      <td>1.0</td>\n",
       "      <td>1.00</td>\n",
       "    </tr>\n",
       "    <tr>\n",
       "      <th>MonthlyCharges</th>\n",
       "      <td>2946.0</td>\n",
       "      <td>64.787559</td>\n",
       "      <td>29.704865</td>\n",
       "      <td>18.4</td>\n",
       "      <td>39.0125</td>\n",
       "      <td>70.250</td>\n",
       "      <td>89.5</td>\n",
       "      <td>118.65</td>\n",
       "    </tr>\n",
       "    <tr>\n",
       "      <th>TotalCharges</th>\n",
       "      <td>2946.0</td>\n",
       "      <td>2222.024728</td>\n",
       "      <td>2246.383027</td>\n",
       "      <td>18.8</td>\n",
       "      <td>370.5375</td>\n",
       "      <td>1337.125</td>\n",
       "      <td>3634.1</td>\n",
       "      <td>8564.75</td>\n",
       "    </tr>\n",
       "    <tr>\n",
       "      <th>PaymentMethod_Bank transfer (automatic)</th>\n",
       "      <td>2946.0</td>\n",
       "      <td>0.219280</td>\n",
       "      <td>0.413829</td>\n",
       "      <td>0.0</td>\n",
       "      <td>0.0000</td>\n",
       "      <td>0.000</td>\n",
       "      <td>0.0</td>\n",
       "      <td>1.00</td>\n",
       "    </tr>\n",
       "    <tr>\n",
       "      <th>PaymentMethod_Credit card (automatic)</th>\n",
       "      <td>2946.0</td>\n",
       "      <td>0.212831</td>\n",
       "      <td>0.409379</td>\n",
       "      <td>0.0</td>\n",
       "      <td>0.0000</td>\n",
       "      <td>0.000</td>\n",
       "      <td>0.0</td>\n",
       "      <td>1.00</td>\n",
       "    </tr>\n",
       "    <tr>\n",
       "      <th>PaymentMethod_Electronic check</th>\n",
       "      <td>2946.0</td>\n",
       "      <td>0.351324</td>\n",
       "      <td>0.477465</td>\n",
       "      <td>0.0</td>\n",
       "      <td>0.0000</td>\n",
       "      <td>0.000</td>\n",
       "      <td>1.0</td>\n",
       "      <td>1.00</td>\n",
       "    </tr>\n",
       "    <tr>\n",
       "      <th>PaymentMethod_Mailed check</th>\n",
       "      <td>2946.0</td>\n",
       "      <td>0.216565</td>\n",
       "      <td>0.411973</td>\n",
       "      <td>0.0</td>\n",
       "      <td>0.0000</td>\n",
       "      <td>0.000</td>\n",
       "      <td>0.0</td>\n",
       "      <td>1.00</td>\n",
       "    </tr>\n",
       "  </tbody>\n",
       "</table>\n",
       "</div>"
      ],
      "text/plain": [
       "                                          count         mean  ...     75%      max\n",
       "gender                                   2946.0     0.505092  ...     1.0     1.00\n",
       "SeniorCitizen                            2946.0     0.167685  ...     0.0     1.00\n",
       "Partner                                  2946.0     0.469450  ...     1.0     1.00\n",
       "Dependents                               2946.0     0.284114  ...     1.0     1.00\n",
       "tenure                                   2946.0    31.621181  ...    55.0    72.00\n",
       "PhoneService                             2946.0     0.896470  ...     1.0     1.00\n",
       "MultipleLines                            2946.0     1.377461  ...     2.0     2.00\n",
       "InternetService                          2946.0     1.237271  ...     2.0     2.00\n",
       "OnlineSecurity                           2946.0     0.697217  ...     1.0     2.00\n",
       "OnlineBackup                             2946.0     0.765445  ...     1.0     2.00\n",
       "DeviceProtection                         2946.0     0.751527  ...     1.0     2.00\n",
       "TechSupport                              2946.0     0.689749  ...     1.0     2.00\n",
       "StreamingTV                              2946.0     0.805160  ...     1.0     2.00\n",
       "StreamingMovies                          2946.0     0.803802  ...     1.0     2.00\n",
       "Contract                                 2946.0     0.658520  ...     1.0     2.00\n",
       "PaperlessBilling                         2946.0     0.593007  ...     1.0     1.00\n",
       "MonthlyCharges                           2946.0    64.787559  ...    89.5   118.65\n",
       "TotalCharges                             2946.0  2222.024728  ...  3634.1  8564.75\n",
       "PaymentMethod_Bank transfer (automatic)  2946.0     0.219280  ...     0.0     1.00\n",
       "PaymentMethod_Credit card (automatic)    2946.0     0.212831  ...     0.0     1.00\n",
       "PaymentMethod_Electronic check           2946.0     0.351324  ...     1.0     1.00\n",
       "PaymentMethod_Mailed check               2946.0     0.216565  ...     0.0     1.00\n",
       "\n",
       "[22 rows x 8 columns]"
      ]
     },
     "execution_count": 100,
     "metadata": {
      "tags": []
     },
     "output_type": "execute_result"
    }
   ],
   "source": [
    "X_train.describe().transpose()"
   ]
  },
  {
   "cell_type": "markdown",
   "metadata": {
    "id": "AF8mEmYz6q7k"
   },
   "source": [
    "**By comparing the above statistics of original dataframe data with X_test and X_train statistics is having very minute difference.**"
   ]
  },
  {
   "cell_type": "markdown",
   "metadata": {
    "id": "S0lb1JM87OpK"
   },
   "source": [
    "**5. Model training, testing and tuning:**\n",
    "* Display the classification accuracies for train and test data.\n",
    "* Apply all the possible tuning techniques to train the best model for the given data.\n",
    "* Suggestion: Use all possible hyper parameter combinations to extract the best accuracies.\n",
    "* Display and compare all the models designed with their train and test accuracies.\n",
    "* Select the final best trained model along with your detailed comments for selecting this model.\n",
    "* Pickle the selected model for future use."
   ]
  },
  {
   "cell_type": "code",
   "execution_count": 59,
   "metadata": {
    "executionInfo": {
     "elapsed": 416,
     "status": "ok",
     "timestamp": 1624096291242,
     "user": {
      "displayName": "Saurabh Singh",
      "photoUrl": "",
      "userId": "17828593908952867657"
     },
     "user_tz": -330
    },
    "id": "Z4WyOj1I7FHn"
   },
   "outputs": [],
   "source": [
    "from sklearn.tree import DecisionTreeClassifier\n",
    "from sklearn.ensemble import BaggingClassifier\n",
    "from sklearn import metrics\n",
    "from sklearn.metrics import classification_report\n"
   ]
  },
  {
   "cell_type": "markdown",
   "metadata": {
    "id": "rPSc9IKZAa4z"
   },
   "source": [
    "* Train and test all ensemble models taught in the learning module.Suggestion: Use standard ensembles available. Also you can design your own ensemble technique using weak classifiers.\n",
    "* Building decision tree model"
   ]
  },
  {
   "cell_type": "code",
   "execution_count": 60,
   "metadata": {
    "executionInfo": {
     "elapsed": 397,
     "status": "ok",
     "timestamp": 1624096311954,
     "user": {
      "displayName": "Saurabh Singh",
      "photoUrl": "",
      "userId": "17828593908952867657"
     },
     "user_tz": -330
    },
    "id": "50QzjVAWAZ8x"
   },
   "outputs": [],
   "source": [
    "dTree = DecisionTreeClassifier(criterion='gini',random_state = 1)"
   ]
  },
  {
   "cell_type": "code",
   "execution_count": 61,
   "metadata": {
    "colab": {
     "base_uri": "https://localhost:8080/"
    },
    "executionInfo": {
     "elapsed": 11,
     "status": "ok",
     "timestamp": 1624096313485,
     "user": {
      "displayName": "Saurabh Singh",
      "photoUrl": "",
      "userId": "17828593908952867657"
     },
     "user_tz": -330
    },
    "id": "Xs2g-VEwA1Ix",
    "outputId": "7c2cda60-97c4-4db2-e3c0-8ef07b695356"
   },
   "outputs": [
    {
     "data": {
      "text/plain": [
       "DecisionTreeClassifier(ccp_alpha=0.0, class_weight=None, criterion='gini',\n",
       "                       max_depth=None, max_features=None, max_leaf_nodes=None,\n",
       "                       min_impurity_decrease=0.0, min_impurity_split=None,\n",
       "                       min_samples_leaf=1, min_samples_split=2,\n",
       "                       min_weight_fraction_leaf=0.0, presort='deprecated',\n",
       "                       random_state=1, splitter='best')"
      ]
     },
     "execution_count": 61,
     "metadata": {
      "tags": []
     },
     "output_type": "execute_result"
    }
   ],
   "source": [
    "dTree.fit(X_train,Y_train)"
   ]
  },
  {
   "cell_type": "code",
   "execution_count": 62,
   "metadata": {
    "colab": {
     "base_uri": "https://localhost:8080/"
    },
    "executionInfo": {
     "elapsed": 443,
     "status": "ok",
     "timestamp": 1624096332604,
     "user": {
      "displayName": "Saurabh Singh",
      "photoUrl": "",
      "userId": "17828593908952867657"
     },
     "user_tz": -330
    },
    "id": "CKgPo5dfBAFg",
    "outputId": "1a83744b-3b68-4355-85b0-4cddd7cbc73f"
   },
   "outputs": [
    {
     "name": "stdout",
     "output_type": "stream",
     "text": [
      "0.9976238968092329\n",
      "0.786506678741227\n"
     ]
    }
   ],
   "source": [
    "print(dTree.score(X_train,Y_train))\n",
    "print(dTree.score(X_test,Y_test))"
   ]
  },
  {
   "cell_type": "markdown",
   "metadata": {
    "id": "in0ONTJVCIbj"
   },
   "source": [
    "* Decision Tree model seems to be overfit in training as we can see the huge difference in  train and test accuracies\n",
    "*Now by reducing complexity by restricting the number of depth, that also leads to reduced overfitting"
   ]
  },
  {
   "cell_type": "code",
   "execution_count": 63,
   "metadata": {
    "colab": {
     "base_uri": "https://localhost:8080/"
    },
    "executionInfo": {
     "elapsed": 404,
     "status": "ok",
     "timestamp": 1624096342241,
     "user": {
      "displayName": "Saurabh Singh",
      "photoUrl": "",
      "userId": "17828593908952867657"
     },
     "user_tz": -330
    },
    "id": "YSJlKR80CUHc",
    "outputId": "95589203-a7d1-454c-f62a-99089bb78cec"
   },
   "outputs": [
    {
     "name": "stdout",
     "output_type": "stream",
     "text": [
      "0.7797012898845893\n",
      "0.7749603803486529\n"
     ]
    }
   ],
   "source": [
    "dTreeR = DecisionTreeClassifier(criterion='gini',max_depth = 3,random_state = 1)\n",
    "dTreeR.fit(X_train,Y_train)\n",
    "print(dTreeR.score(X_train, Y_train))\n",
    "print(dTreeR.score(X_test,Y_test))"
   ]
  },
  {
   "cell_type": "markdown",
   "metadata": {
    "id": "U2s4M87ODAa8"
   },
   "source": [
    "* It seems by reducing the max depth to 3, model performs better. Overfitting problem of model is removed.\n",
    "\n",
    "* Importance of features in tree building. Total reduction of gini value by each feature."
   ]
  },
  {
   "cell_type": "code",
   "execution_count": 64,
   "metadata": {
    "colab": {
     "base_uri": "https://localhost:8080/"
    },
    "executionInfo": {
     "elapsed": 1705,
     "status": "ok",
     "timestamp": 1624096347298,
     "user": {
      "displayName": "Saurabh Singh",
      "photoUrl": "",
      "userId": "17828593908952867657"
     },
     "user_tz": -330
    },
    "id": "n13egcP3DQZs",
    "outputId": "bed96c6e-c963-430d-92d4-cdce84ddd7e1"
   },
   "outputs": [
    {
     "name": "stdout",
     "output_type": "stream",
     "text": [
      "                                              Imp\n",
      "gender                                   0.000000\n",
      "SeniorCitizen                            0.000000\n",
      "Partner                                  0.000000\n",
      "Dependents                               0.000000\n",
      "tenure                                   0.190935\n",
      "PhoneService                             0.000000\n",
      "MultipleLines                            0.000000\n",
      "InternetService                          0.185091\n",
      "OnlineSecurity                           0.000000\n",
      "OnlineBackup                             0.000000\n",
      "DeviceProtection                         0.000000\n",
      "TechSupport                              0.000000\n",
      "StreamingTV                              0.000000\n",
      "StreamingMovies                          0.000000\n",
      "Contract                                 0.599578\n",
      "PaperlessBilling                         0.000000\n",
      "MonthlyCharges                           0.024395\n",
      "TotalCharges                             0.000000\n",
      "PaymentMethod_Bank transfer (automatic)  0.000000\n",
      "PaymentMethod_Credit card (automatic)    0.000000\n",
      "PaymentMethod_Electronic check           0.000000\n",
      "PaymentMethod_Mailed check               0.000000\n"
     ]
    }
   ],
   "source": [
    "print(pd.DataFrame(dTreeR.feature_importances_, columns=['Imp'], index = X_train.columns))"
   ]
  },
  {
   "cell_type": "code",
   "execution_count": 65,
   "metadata": {
    "executionInfo": {
     "elapsed": 398,
     "status": "ok",
     "timestamp": 1624096357384,
     "user": {
      "displayName": "Saurabh Singh",
      "photoUrl": "",
      "userId": "17828593908952867657"
     },
     "user_tz": -330
    },
    "id": "4JzmsB5IFT5-"
   },
   "outputs": [],
   "source": [
    "Y_test_predict = dTreeR.predict(X_test)"
   ]
  },
  {
   "cell_type": "markdown",
   "metadata": {
    "id": "H8qrUEEcEIa7"
   },
   "source": [
    "* Confusion Matrix for Decision Tree"
   ]
  },
  {
   "cell_type": "code",
   "execution_count": 66,
   "metadata": {
    "colab": {
     "base_uri": "https://localhost:8080/",
     "height": 337
    },
    "executionInfo": {
     "elapsed": 1766,
     "status": "ok",
     "timestamp": 1624096375803,
     "user": {
      "displayName": "Saurabh Singh",
      "photoUrl": "",
      "userId": "17828593908952867657"
     },
     "user_tz": -330
    },
    "id": "hLwt4boJEM4v",
    "outputId": "22772305-40bf-4dd1-d972-c378a9617e57"
   },
   "outputs": [
    {
     "data": {
      "text/plain": [
       "<matplotlib.axes._subplots.AxesSubplot at 0x7fadb3b6fa10>"
      ]
     },
     "execution_count": 66,
     "metadata": {
      "tags": []
     },
     "output_type": "execute_result"
    },
    {
     "data": {
      "image/png": "[encoded data removed]",
      "text/plain": [
       "<Figure size 504x360 with 2 Axes>"
      ]
     },
     "metadata": {
      "needs_background": "light",
      "tags": []
     },
     "output_type": "display_data"
    }
   ],
   "source": [
    "cm = metrics.confusion_matrix(Y_test,Y_test_predict, labels=[0,1])\n",
    "df_cm = pd.DataFrame(cm, index = [i for i in ['No','Yes']],\n",
    "                     columns = [i for i in ['No','Yes']])\n",
    "plt.figure(figsize=(7,5))\n",
    "sns.heatmap(df_cm, annot=True, fmt = 'g')\n"
   ]
  },
  {
   "cell_type": "code",
   "execution_count": 67,
   "metadata": {
    "colab": {
     "base_uri": "https://localhost:8080/"
    },
    "executionInfo": {
     "elapsed": 37,
     "status": "ok",
     "timestamp": 1624096405079,
     "user": {
      "displayName": "Saurabh Singh",
      "photoUrl": "",
      "userId": "17828593908952867657"
     },
     "user_tz": -330
    },
    "id": "vVndnptECHuz",
    "outputId": "1d46b6ba-2428-45a1-e322-34f0febab87f"
   },
   "outputs": [
    {
     "name": "stdout",
     "output_type": "stream",
     "text": [
      "              precision    recall  f1-score   support\n",
      "\n",
      "           0       0.78      0.94      0.85      3104\n",
      "           1       0.73      0.39      0.51      1313\n",
      "\n",
      "    accuracy                           0.77      4417\n",
      "   macro avg       0.76      0.66      0.68      4417\n",
      "weighted avg       0.77      0.77      0.75      4417\n",
      "\n"
     ]
    }
   ],
   "source": [
    "print(classification_report(Y_test, Y_test_predict))"
   ]
  },
  {
   "cell_type": "code",
   "execution_count": 68,
   "metadata": {
    "executionInfo": {
     "elapsed": 1132,
     "status": "ok",
     "timestamp": 1624096418219,
     "user": {
      "displayName": "Saurabh Singh",
      "photoUrl": "",
      "userId": "17828593908952867657"
     },
     "user_tz": -330
    },
    "id": "8tu1xCOq592I"
   },
   "outputs": [],
   "source": [
    "from sklearn.metrics import accuracy_score\n",
    "acc_dTreeR = accuracy_score(Y_test, Y_test_predict)"
   ]
  },
  {
   "cell_type": "code",
   "execution_count": 69,
   "metadata": {
    "colab": {
     "base_uri": "https://localhost:8080/",
     "height": 78
    },
    "executionInfo": {
     "elapsed": 19,
     "status": "ok",
     "timestamp": 1624096423519,
     "user": {
      "displayName": "Saurabh Singh",
      "photoUrl": "",
      "userId": "17828593908952867657"
     },
     "user_tz": -330
    },
    "id": "h86lqbBl6Ra9",
    "outputId": "92f401b6-381c-419f-c14b-da5b1eb10a33"
   },
   "outputs": [
    {
     "data": {
      "text/html": [
       "<div>\n",
       "<style scoped>\n",
       "    .dataframe tbody tr th:only-of-type {\n",
       "        vertical-align: middle;\n",
       "    }\n",
       "\n",
       "    .dataframe tbody tr th {\n",
       "        vertical-align: top;\n",
       "    }\n",
       "\n",
       "    .dataframe thead th {\n",
       "        text-align: right;\n",
       "    }\n",
       "</style>\n",
       "<table border=\"1\" class=\"dataframe\">\n",
       "  <thead>\n",
       "    <tr style=\"text-align: right;\">\n",
       "      <th></th>\n",
       "      <th>Method</th>\n",
       "      <th>accuracy</th>\n",
       "    </tr>\n",
       "  </thead>\n",
       "  <tbody>\n",
       "    <tr>\n",
       "      <th>0</th>\n",
       "      <td>Decision Tree</td>\n",
       "      <td>0.77496</td>\n",
       "    </tr>\n",
       "  </tbody>\n",
       "</table>\n",
       "</div>"
      ],
      "text/plain": [
       "          Method  accuracy\n",
       "0  Decision Tree   0.77496"
      ]
     },
     "execution_count": 69,
     "metadata": {
      "tags": []
     },
     "output_type": "execute_result"
    }
   ],
   "source": [
    "resultsDf = pd.DataFrame({'Method':['Decision Tree'], 'accuracy': acc_dTreeR})\n",
    "resultsDf = resultsDf[['Method', 'accuracy']]\n",
    "resultsDf"
   ]
  },
  {
   "cell_type": "markdown",
   "metadata": {
    "id": "P42vOqdIK-Fn"
   },
   "source": [
    "* From the classification report, I am considering precision as we are more concerned about churn yes and Precison is best in this from the report for this model.\n",
    "\n",
    "* Precision — What percent of your predictions were correct?\n",
    "* Recall — What percent of the positive cases did you catch?\n",
    "* F1 score — What percent of positive predictions were correct?"
   ]
  },
  {
   "cell_type": "markdown",
   "metadata": {
    "id": "_7eso5GIPgy-"
   },
   "source": [
    "**Ensemble learning: Bagging**"
   ]
  },
  {
   "cell_type": "code",
   "execution_count": 71,
   "metadata": {
    "colab": {
     "base_uri": "https://localhost:8080/"
    },
    "executionInfo": {
     "elapsed": 1370,
     "status": "ok",
     "timestamp": 1624096663172,
     "user": {
      "displayName": "Saurabh Singh",
      "photoUrl": "",
      "userId": "17828593908952867657"
     },
     "user_tz": -330
    },
    "id": "6Qn1n-WGVrZ0",
    "outputId": "c4e9ef84-87d7-49b1-ff3b-bb2b5c03017a"
   },
   "outputs": [
    {
     "data": {
      "text/plain": [
       "BaggingClassifier(base_estimator=DecisionTreeClassifier(ccp_alpha=0.0,\n",
       "                                                        class_weight=None,\n",
       "                                                        criterion='gini',\n",
       "                                                        max_depth=None,\n",
       "                                                        max_features=None,\n",
       "                                                        max_leaf_nodes=None,\n",
       "                                                        min_impurity_decrease=0.0,\n",
       "                                                        min_impurity_split=None,\n",
       "                                                        min_samples_leaf=1,\n",
       "                                                        min_samples_split=2,\n",
       "                                                        min_weight_fraction_leaf=0.0,\n",
       "                                                        presort='deprecated',\n",
       "                                                        random_state=1,\n",
       "                                                        splitter='best'),\n",
       "                  bootstrap=True, bootstrap_features=False, max_features=1.0,\n",
       "                  max_samples=1.0, n_estimators=50, n_jobs=None,\n",
       "                  oob_score=False, random_state=1, verbose=0, warm_start=False)"
      ]
     },
     "execution_count": 71,
     "metadata": {
      "tags": []
     },
     "output_type": "execute_result"
    }
   ],
   "source": [
    "bgcl = BaggingClassifier(base_estimator = dTree, n_estimators=50, random_state = 1)\n",
    "bgcl.fit(X_train,Y_train)"
   ]
  },
  {
   "cell_type": "code",
   "execution_count": 72,
   "metadata": {
    "executionInfo": {
     "elapsed": 11,
     "status": "ok",
     "timestamp": 1624096665423,
     "user": {
      "displayName": "Saurabh Singh",
      "photoUrl": "",
      "userId": "17828593908952867657"
     },
     "user_tz": -330
    },
    "id": "pvSuib3oWX6p"
   },
   "outputs": [],
   "source": [
    "Y_train_predict_bgcl = bgcl.predict(X_train)\n",
    "Y_test_predict_bgcl = bgcl.predict(X_test)"
   ]
  },
  {
   "cell_type": "code",
   "execution_count": 73,
   "metadata": {
    "colab": {
     "base_uri": "https://localhost:8080/"
    },
    "executionInfo": {
     "elapsed": 435,
     "status": "ok",
     "timestamp": 1624096668785,
     "user": {
      "displayName": "Saurabh Singh",
      "photoUrl": "",
      "userId": "17828593908952867657"
     },
     "user_tz": -330
    },
    "id": "OeQQ1sNvcieR",
    "outputId": "697dce1b-b368-4add-cbbb-f831e8b57366"
   },
   "outputs": [
    {
     "data": {
      "text/plain": [
       "0.9976238968092329"
      ]
     },
     "execution_count": 73,
     "metadata": {
      "tags": []
     },
     "output_type": "execute_result"
    }
   ],
   "source": [
    "bgcl.score(X_train,Y_train)"
   ]
  },
  {
   "cell_type": "code",
   "execution_count": 74,
   "metadata": {
    "colab": {
     "base_uri": "https://localhost:8080/"
    },
    "executionInfo": {
     "elapsed": 395,
     "status": "ok",
     "timestamp": 1624096687164,
     "user": {
      "displayName": "Saurabh Singh",
      "photoUrl": "",
      "userId": "17828593908952867657"
     },
     "user_tz": -330
    },
    "id": "hx6DnQixPdq9",
    "outputId": "c4892687-d2a6-48d7-aac6-68c7fdf9c682"
   },
   "outputs": [
    {
     "data": {
      "text/plain": [
       "0.8317862802807335"
      ]
     },
     "execution_count": 74,
     "metadata": {
      "tags": []
     },
     "output_type": "execute_result"
    }
   ],
   "source": [
    "bgcl.score(X_test,Y_test)"
   ]
  },
  {
   "cell_type": "markdown",
   "metadata": {
    "id": "JlF0AptzcuZu"
   },
   "source": [
    "* From the above train and test score, I can conclude that Bagging model is better than Decison tree model"
   ]
  },
  {
   "cell_type": "markdown",
   "metadata": {
    "id": "6oyUBenkW-mh"
   },
   "source": [
    "* Confusion Matrix for Bagging model"
   ]
  },
  {
   "cell_type": "code",
   "execution_count": 75,
   "metadata": {
    "colab": {
     "base_uri": "https://localhost:8080/",
     "height": 337
    },
    "executionInfo": {
     "elapsed": 919,
     "status": "ok",
     "timestamp": 1624096721128,
     "user": {
      "displayName": "Saurabh Singh",
      "photoUrl": "",
      "userId": "17828593908952867657"
     },
     "user_tz": -330
    },
    "id": "SPPWI_76XIco",
    "outputId": "e9310581-cb09-43bc-805f-f3a32a9dadba"
   },
   "outputs": [
    {
     "data": {
      "text/plain": [
       "<matplotlib.axes._subplots.AxesSubplot at 0x7fada496ae10>"
      ]
     },
     "execution_count": 75,
     "metadata": {
      "tags": []
     },
     "output_type": "execute_result"
    },
    {
     "data": {
      "image/png": "[encoded data removed]",
      "text/plain": [
       "<Figure size 504x360 with 2 Axes>"
      ]
     },
     "metadata": {
      "needs_background": "light",
      "tags": []
     },
     "output_type": "display_data"
    }
   ],
   "source": [
    "cm = metrics.confusion_matrix(Y_test,Y_test_predict_bgcl, labels = [0,1])\n",
    "df_cm = pd.DataFrame(cm, index = [i for i in ['No','Yes']],\n",
    "                     columns = [i for i in ['No','Yes']])\n",
    "plt.figure(figsize=(7,5))\n",
    "sns.heatmap(df_cm, annot=True, fmt = 'g')"
   ]
  },
  {
   "cell_type": "code",
   "execution_count": 76,
   "metadata": {
    "colab": {
     "base_uri": "https://localhost:8080/"
    },
    "executionInfo": {
     "elapsed": 616,
     "status": "ok",
     "timestamp": 1624096739044,
     "user": {
      "displayName": "Saurabh Singh",
      "photoUrl": "",
      "userId": "17828593908952867657"
     },
     "user_tz": -330
    },
    "id": "qvj_eEPGXE7I",
    "outputId": "94e21e27-b2ec-4246-e686-b81fefe713fc"
   },
   "outputs": [
    {
     "name": "stdout",
     "output_type": "stream",
     "text": [
      "              precision    recall  f1-score   support\n",
      "\n",
      "           0       0.87      0.89      0.88      3104\n",
      "           1       0.73      0.69      0.71      1313\n",
      "\n",
      "    accuracy                           0.83      4417\n",
      "   macro avg       0.80      0.79      0.80      4417\n",
      "weighted avg       0.83      0.83      0.83      4417\n",
      "\n"
     ]
    }
   ],
   "source": [
    "print(classification_report(Y_test, Y_test_predict_bgcl))"
   ]
  },
  {
   "cell_type": "code",
   "execution_count": 77,
   "metadata": {
    "executionInfo": {
     "elapsed": 410,
     "status": "ok",
     "timestamp": 1624096743192,
     "user": {
      "displayName": "Saurabh Singh",
      "photoUrl": "",
      "userId": "17828593908952867657"
     },
     "user_tz": -330
    },
    "id": "G2P_JvOw6k71"
   },
   "outputs": [],
   "source": [
    "acc_bgcl = accuracy_score(Y_test, Y_test_predict_bgcl)"
   ]
  },
  {
   "cell_type": "code",
   "execution_count": 78,
   "metadata": {
    "colab": {
     "base_uri": "https://localhost:8080/",
     "height": 110
    },
    "executionInfo": {
     "elapsed": 433,
     "status": "ok",
     "timestamp": 1624096747781,
     "user": {
      "displayName": "Saurabh Singh",
      "photoUrl": "",
      "userId": "17828593908952867657"
     },
     "user_tz": -330
    },
    "id": "_L-z9mxc6wWq",
    "outputId": "be173ce1-7e99-4c59-f485-7ba2a7336f07"
   },
   "outputs": [
    {
     "data": {
      "text/html": [
       "<div>\n",
       "<style scoped>\n",
       "    .dataframe tbody tr th:only-of-type {\n",
       "        vertical-align: middle;\n",
       "    }\n",
       "\n",
       "    .dataframe tbody tr th {\n",
       "        vertical-align: top;\n",
       "    }\n",
       "\n",
       "    .dataframe thead th {\n",
       "        text-align: right;\n",
       "    }\n",
       "</style>\n",
       "<table border=\"1\" class=\"dataframe\">\n",
       "  <thead>\n",
       "    <tr style=\"text-align: right;\">\n",
       "      <th></th>\n",
       "      <th>Method</th>\n",
       "      <th>accuracy</th>\n",
       "    </tr>\n",
       "  </thead>\n",
       "  <tbody>\n",
       "    <tr>\n",
       "      <th>0</th>\n",
       "      <td>Decision Tree</td>\n",
       "      <td>0.774960</td>\n",
       "    </tr>\n",
       "    <tr>\n",
       "      <th>0</th>\n",
       "      <td>Bagging</td>\n",
       "      <td>0.831786</td>\n",
       "    </tr>\n",
       "  </tbody>\n",
       "</table>\n",
       "</div>"
      ],
      "text/plain": [
       "          Method  accuracy\n",
       "0  Decision Tree  0.774960\n",
       "0        Bagging  0.831786"
      ]
     },
     "execution_count": 78,
     "metadata": {
      "tags": []
     },
     "output_type": "execute_result"
    }
   ],
   "source": [
    "tempResultsDf = pd.DataFrame({'Method':['Bagging'], 'accuracy': [acc_bgcl]})\n",
    "resultsDf = pd.concat([resultsDf, tempResultsDf])\n",
    "resultsDf\n"
   ]
  },
  {
   "cell_type": "markdown",
   "metadata": {
    "id": "NwaYjbIpdh_m"
   },
   "source": [
    "* From the classification report, Bagging model is also having precision that performs better in predicting the churn yes category"
   ]
  },
  {
   "cell_type": "markdown",
   "metadata": {
    "id": "_imcSLyqeK19"
   },
   "source": [
    "**Ensemle Learning - Ada Boosting: It uses simple tree**"
   ]
  },
  {
   "cell_type": "code",
   "execution_count": 79,
   "metadata": {
    "executionInfo": {
     "elapsed": 403,
     "status": "ok",
     "timestamp": 1624096791468,
     "user": {
      "displayName": "Saurabh Singh",
      "photoUrl": "",
      "userId": "17828593908952867657"
     },
     "user_tz": -330
    },
    "id": "soBtwzMqd83r"
   },
   "outputs": [],
   "source": [
    "from sklearn.ensemble import AdaBoostClassifier"
   ]
  },
  {
   "cell_type": "code",
   "execution_count": 80,
   "metadata": {
    "colab": {
     "base_uri": "https://localhost:8080/"
    },
    "executionInfo": {
     "elapsed": 12,
     "status": "ok",
     "timestamp": 1624096794524,
     "user": {
      "displayName": "Saurabh Singh",
      "photoUrl": "",
      "userId": "17828593908952867657"
     },
     "user_tz": -330
    },
    "id": "5_SPTkLuW8uh",
    "outputId": "93976286-9ff8-467f-9811-72c09184b111"
   },
   "outputs": [
    {
     "data": {
      "text/plain": [
       "AdaBoostClassifier(algorithm='SAMME.R', base_estimator=None, learning_rate=1.0,\n",
       "                   n_estimators=10, random_state=1)"
      ]
     },
     "execution_count": 80,
     "metadata": {
      "tags": []
     },
     "output_type": "execute_result"
    }
   ],
   "source": [
    "abcl = AdaBoostClassifier(n_estimators=10, random_state=1)\n",
    "abcl.fit(X_train, Y_train)"
   ]
  },
  {
   "cell_type": "code",
   "execution_count": 81,
   "metadata": {
    "executionInfo": {
     "elapsed": 10,
     "status": "ok",
     "timestamp": 1624096797189,
     "user": {
      "displayName": "Saurabh Singh",
      "photoUrl": "",
      "userId": "17828593908952867657"
     },
     "user_tz": -330
    },
    "id": "5mMXNkMvLo8a"
   },
   "outputs": [],
   "source": [
    "Y_train_predict_abcl = abcl.predict(X_train)\n",
    "Y_test_predict_abcl = abcl.predict(X_test)"
   ]
  },
  {
   "cell_type": "code",
   "execution_count": 82,
   "metadata": {
    "colab": {
     "base_uri": "https://localhost:8080/"
    },
    "executionInfo": {
     "elapsed": 8,
     "status": "ok",
     "timestamp": 1624096798794,
     "user": {
      "displayName": "Saurabh Singh",
      "photoUrl": "",
      "userId": "17828593908952867657"
     },
     "user_tz": -330
    },
    "id": "zkllU_yRflzu",
    "outputId": "9a6671dc-e33d-4ed1-96b2-0f56aeb1aa04"
   },
   "outputs": [
    {
     "name": "stdout",
     "output_type": "stream",
     "text": [
      "0.7854718262050238\n"
     ]
    }
   ],
   "source": [
    "print(abcl.score(X_train,Y_train))"
   ]
  },
  {
   "cell_type": "code",
   "execution_count": 83,
   "metadata": {
    "colab": {
     "base_uri": "https://localhost:8080/"
    },
    "executionInfo": {
     "elapsed": 384,
     "status": "ok",
     "timestamp": 1624096806464,
     "user": {
      "displayName": "Saurabh Singh",
      "photoUrl": "",
      "userId": "17828593908952867657"
     },
     "user_tz": -330
    },
    "id": "CeHMzxRofTEv",
    "outputId": "4dae50ed-7e97-4f19-b8ac-73df2490c29e"
   },
   "outputs": [
    {
     "name": "stdout",
     "output_type": "stream",
     "text": [
      "0.7858274847181345\n"
     ]
    }
   ],
   "source": [
    "print(abcl.score(X_test,Y_test))"
   ]
  },
  {
   "cell_type": "markdown",
   "metadata": {
    "id": "qOsx80s7f3qy"
   },
   "source": [
    "* From the above, test and train scores of Adaboost model is having minimum difference from the bagging and decision tree model. Considering this as the best model till now."
   ]
  },
  {
   "cell_type": "markdown",
   "metadata": {
    "id": "KNqJNy9egTxc"
   },
   "source": [
    "**Confusion matrix for AdaBoost model**"
   ]
  },
  {
   "cell_type": "code",
   "execution_count": 84,
   "metadata": {
    "colab": {
     "base_uri": "https://localhost:8080/",
     "height": 337
    },
    "executionInfo": {
     "elapsed": 24,
     "status": "ok",
     "timestamp": 1624096809176,
     "user": {
      "displayName": "Saurabh Singh",
      "photoUrl": "",
      "userId": "17828593908952867657"
     },
     "user_tz": -330
    },
    "id": "F0qH1NwMgKfH",
    "outputId": "3b515bd6-146e-47c1-9544-b2bce186eb70"
   },
   "outputs": [
    {
     "data": {
      "text/plain": [
       "<matplotlib.axes._subplots.AxesSubplot at 0x7fadae511110>"
      ]
     },
     "execution_count": 84,
     "metadata": {
      "tags": []
     },
     "output_type": "execute_result"
    },
    {
     "data": {
      "image/png": "[encoded data removed]",
      "text/plain": [
       "<Figure size 504x360 with 2 Axes>"
      ]
     },
     "metadata": {
      "needs_background": "light",
      "tags": []
     },
     "output_type": "display_data"
    }
   ],
   "source": [
    "cm = metrics.confusion_matrix(Y_test,Y_test_predict_abcl, labels=[0,1])\n",
    "df_cm = pd.DataFrame(cm, index = [i for i in ['No','Yes']],\n",
    "                        columns = [i  for i in ['No','Yes']])\n",
    "plt.figure(figsize=(7,5))\n",
    "sns.heatmap(df_cm, annot=True, fmt='g')"
   ]
  },
  {
   "cell_type": "code",
   "execution_count": 86,
   "metadata": {
    "colab": {
     "base_uri": "https://localhost:8080/"
    },
    "executionInfo": {
     "elapsed": 497,
     "status": "ok",
     "timestamp": 1624096837069,
     "user": {
      "displayName": "Saurabh Singh",
      "photoUrl": "",
      "userId": "17828593908952867657"
     },
     "user_tz": -330
    },
    "id": "pwt_LCa_hXLz",
    "outputId": "9f49e6e0-f8e6-45fa-83bd-2f507f29dde7"
   },
   "outputs": [
    {
     "name": "stdout",
     "output_type": "stream",
     "text": [
      "              precision    recall  f1-score   support\n",
      "\n",
      "           0       0.86      0.83      0.85      3104\n",
      "           1       0.63      0.68      0.65      1313\n",
      "\n",
      "    accuracy                           0.79      4417\n",
      "   macro avg       0.74      0.75      0.75      4417\n",
      "weighted avg       0.79      0.79      0.79      4417\n",
      "\n"
     ]
    }
   ],
   "source": [
    "print(classification_report(Y_test, Y_test_predict_abcl))"
   ]
  },
  {
   "cell_type": "code",
   "execution_count": 87,
   "metadata": {
    "executionInfo": {
     "elapsed": 712,
     "status": "ok",
     "timestamp": 1624096839562,
     "user": {
      "displayName": "Saurabh Singh",
      "photoUrl": "",
      "userId": "17828593908952867657"
     },
     "user_tz": -330
    },
    "id": "Dkl7Ir7q8bxd"
   },
   "outputs": [],
   "source": [
    "acc_abcl = accuracy_score(Y_test, Y_test_predict_abcl)"
   ]
  },
  {
   "cell_type": "code",
   "execution_count": 89,
   "metadata": {
    "colab": {
     "base_uri": "https://localhost:8080/",
     "height": 171
    },
    "executionInfo": {
     "elapsed": 368,
     "status": "ok",
     "timestamp": 1624096923410,
     "user": {
      "displayName": "Saurabh Singh",
      "photoUrl": "",
      "userId": "17828593908952867657"
     },
     "user_tz": -330
    },
    "id": "nMUtuC7f8Zh4",
    "outputId": "16b301db-c9ae-4a91-dfb2-9a1ac167177a"
   },
   "outputs": [
    {
     "data": {
      "text/html": [
       "<div>\n",
       "<style scoped>\n",
       "    .dataframe tbody tr th:only-of-type {\n",
       "        vertical-align: middle;\n",
       "    }\n",
       "\n",
       "    .dataframe tbody tr th {\n",
       "        vertical-align: top;\n",
       "    }\n",
       "\n",
       "    .dataframe thead th {\n",
       "        text-align: right;\n",
       "    }\n",
       "</style>\n",
       "<table border=\"1\" class=\"dataframe\">\n",
       "  <thead>\n",
       "    <tr style=\"text-align: right;\">\n",
       "      <th></th>\n",
       "      <th>Method</th>\n",
       "      <th>accuracy</th>\n",
       "    </tr>\n",
       "  </thead>\n",
       "  <tbody>\n",
       "    <tr>\n",
       "      <th>0</th>\n",
       "      <td>Decision Tree</td>\n",
       "      <td>0.774960</td>\n",
       "    </tr>\n",
       "    <tr>\n",
       "      <th>0</th>\n",
       "      <td>Bagging</td>\n",
       "      <td>0.831786</td>\n",
       "    </tr>\n",
       "    <tr>\n",
       "      <th>0</th>\n",
       "      <td>AdaBoost</td>\n",
       "      <td>0.785827</td>\n",
       "    </tr>\n",
       "    <tr>\n",
       "      <th>0</th>\n",
       "      <td>AdaBoost</td>\n",
       "      <td>0.785827</td>\n",
       "    </tr>\n",
       "  </tbody>\n",
       "</table>\n",
       "</div>"
      ],
      "text/plain": [
       "          Method  accuracy\n",
       "0  Decision Tree  0.774960\n",
       "0        Bagging  0.831786\n",
       "0       AdaBoost  0.785827\n",
       "0       AdaBoost  0.785827"
      ]
     },
     "execution_count": 89,
     "metadata": {
      "tags": []
     },
     "output_type": "execute_result"
    }
   ],
   "source": [
    "tempResultsDf = pd.DataFrame({'Method':['AdaBoost'], 'accuracy': [acc_abcl]})\n",
    "resultsDf = pd.concat([resultsDf, tempResultsDf])\n",
    "\n",
    "resultsDf\n"
   ]
  },
  {
   "cell_type": "markdown",
   "metadata": {
    "id": "vv7JW1iQqjxQ"
   },
   "source": [
    "**Ensemble Learning - Gradient boosting: It uses complex tree to get good result**"
   ]
  },
  {
   "cell_type": "code",
   "execution_count": 90,
   "metadata": {
    "executionInfo": {
     "elapsed": 421,
     "status": "ok",
     "timestamp": 1624096935291,
     "user": {
      "displayName": "Saurabh Singh",
      "photoUrl": "",
      "userId": "17828593908952867657"
     },
     "user_tz": -330
    },
    "id": "S-ooS3hhqtIB"
   },
   "outputs": [],
   "source": [
    "from sklearn.ensemble import GradientBoostingClassifier\n"
   ]
  },
  {
   "cell_type": "code",
   "execution_count": 91,
   "metadata": {
    "executionInfo": {
     "elapsed": 674,
     "status": "ok",
     "timestamp": 1624096943794,
     "user": {
      "displayName": "Saurabh Singh",
      "photoUrl": "",
      "userId": "17828593908952867657"
     },
     "user_tz": -330
    },
    "id": "7-Fkemc9q_aw"
   },
   "outputs": [],
   "source": [
    "gbcl = GradientBoostingClassifier(n_estimators=50,random_state=1)\n"
   ]
  },
  {
   "cell_type": "code",
   "execution_count": 92,
   "metadata": {
    "colab": {
     "base_uri": "https://localhost:8080/"
    },
    "executionInfo": {
     "elapsed": 918,
     "status": "ok",
     "timestamp": 1624096947096,
     "user": {
      "displayName": "Saurabh Singh",
      "photoUrl": "",
      "userId": "17828593908952867657"
     },
     "user_tz": -330
    },
    "id": "3eAA8p-ct5nj",
    "outputId": "2c22b42c-b45d-4647-dd57-5f9fa14cfdde"
   },
   "outputs": [
    {
     "data": {
      "text/plain": [
       "GradientBoostingClassifier(ccp_alpha=0.0, criterion='friedman_mse', init=None,\n",
       "                           learning_rate=0.1, loss='deviance', max_depth=3,\n",
       "                           max_features=None, max_leaf_nodes=None,\n",
       "                           min_impurity_decrease=0.0, min_impurity_split=None,\n",
       "                           min_samples_leaf=1, min_samples_split=2,\n",
       "                           min_weight_fraction_leaf=0.0, n_estimators=50,\n",
       "                           n_iter_no_change=None, presort='deprecated',\n",
       "                           random_state=1, subsample=1.0, tol=0.0001,\n",
       "                           validation_fraction=0.1, verbose=0,\n",
       "                           warm_start=False)"
      ]
     },
     "execution_count": 92,
     "metadata": {
      "tags": []
     },
     "output_type": "execute_result"
    }
   ],
   "source": [
    "gbcl.fit(X_train,Y_train)"
   ]
  },
  {
   "cell_type": "code",
   "execution_count": 94,
   "metadata": {
    "executionInfo": {
     "elapsed": 656,
     "status": "ok",
     "timestamp": 1624096966223,
     "user": {
      "displayName": "Saurabh Singh",
      "photoUrl": "",
      "userId": "17828593908952867657"
     },
     "user_tz": -330
    },
    "id": "nkrOPSpXt-uc"
   },
   "outputs": [],
   "source": [
    "Y_train_predict_gbcl = gbcl.predict(X_train)\n",
    "Y_test_predict_gbcl = gbcl.predict(X_test)"
   ]
  },
  {
   "cell_type": "code",
   "execution_count": 95,
   "metadata": {
    "colab": {
     "base_uri": "https://localhost:8080/"
    },
    "executionInfo": {
     "elapsed": 12,
     "status": "ok",
     "timestamp": 1624096969066,
     "user": {
      "displayName": "Saurabh Singh",
      "photoUrl": "",
      "userId": "17828593908952867657"
     },
     "user_tz": -330
    },
    "id": "GGa6uOm1vNyU",
    "outputId": "4d6d5eee-aa63-4c11-b553-6f05c06e7b2b"
   },
   "outputs": [
    {
     "name": "stdout",
     "output_type": "stream",
     "text": [
      "0.8214528173794976\n",
      "0.8025809372877518\n"
     ]
    }
   ],
   "source": [
    "print(gbcl.score(X_train,Y_train))\n",
    "print(gbcl.score(X_test,Y_test))"
   ]
  },
  {
   "cell_type": "code",
   "execution_count": 96,
   "metadata": {
    "colab": {
     "base_uri": "https://localhost:8080/",
     "height": 337
    },
    "executionInfo": {
     "elapsed": 432,
     "status": "ok",
     "timestamp": 1624096991472,
     "user": {
      "displayName": "Saurabh Singh",
      "photoUrl": "",
      "userId": "17828593908952867657"
     },
     "user_tz": -330
    },
    "id": "0xw4b4SJv2Mp",
    "outputId": "ee632a9f-9c48-44d7-b9cd-2770ae51d93b"
   },
   "outputs": [
    {
     "data": {
      "text/plain": [
       "<matplotlib.axes._subplots.AxesSubplot at 0x7fada42b1150>"
      ]
     },
     "execution_count": 96,
     "metadata": {
      "tags": []
     },
     "output_type": "execute_result"
    },
    {
     "data": {
      "image/png": "[encoded data removed]",
      "text/plain": [
       "<Figure size 504x360 with 2 Axes>"
      ]
     },
     "metadata": {
      "needs_background": "light",
      "tags": []
     },
     "output_type": "display_data"
    }
   ],
   "source": [
    "cm = metrics.confusion_matrix(Y_test,Y_test_predict_gbcl, labels=[0,1])\n",
    "df_cm = pd.DataFrame(cm, index = [i for i in ['No','Yes']],\n",
    "                        columns = [i  for i in ['No','Yes']])\n",
    "plt.figure(figsize=(7,5))\n",
    "sns.heatmap(df_cm, annot=True, fmt='g')"
   ]
  },
  {
   "cell_type": "code",
   "execution_count": 97,
   "metadata": {
    "colab": {
     "base_uri": "https://localhost:8080/"
    },
    "executionInfo": {
     "elapsed": 449,
     "status": "ok",
     "timestamp": 1624097004887,
     "user": {
      "displayName": "Saurabh Singh",
      "photoUrl": "",
      "userId": "17828593908952867657"
     },
     "user_tz": -330
    },
    "id": "-wPQnuV8ukvw",
    "outputId": "f8aa4264-c4e4-4f20-d47e-b571e76348c1"
   },
   "outputs": [
    {
     "name": "stdout",
     "output_type": "stream",
     "text": [
      "0.8025809372877518\n",
      "0.8214528173794976\n"
     ]
    }
   ],
   "source": [
    "from sklearn.metrics import accuracy_score\n",
    "print(accuracy_score(Y_test,Y_test_predict_gbcl))\n",
    "print(accuracy_score(Y_train,Y_train_predict_gbcl))"
   ]
  },
  {
   "cell_type": "code",
   "execution_count": 98,
   "metadata": {
    "colab": {
     "base_uri": "https://localhost:8080/"
    },
    "executionInfo": {
     "elapsed": 410,
     "status": "ok",
     "timestamp": 1624097014766,
     "user": {
      "displayName": "Saurabh Singh",
      "photoUrl": "",
      "userId": "17828593908952867657"
     },
     "user_tz": -330
    },
    "id": "Xa15rEWvxR3L",
    "outputId": "d17c76b1-6e48-4cd3-ef30-049880f62038"
   },
   "outputs": [
    {
     "name": "stdout",
     "output_type": "stream",
     "text": [
      "              precision    recall  f1-score   support\n",
      "\n",
      "           0       0.84      0.89      0.86      3104\n",
      "           1       0.70      0.59      0.64      1313\n",
      "\n",
      "    accuracy                           0.80      4417\n",
      "   macro avg       0.77      0.74      0.75      4417\n",
      "weighted avg       0.80      0.80      0.80      4417\n",
      "\n"
     ]
    }
   ],
   "source": [
    "print(classification_report(Y_test, Y_test_predict_gbcl))"
   ]
  },
  {
   "cell_type": "code",
   "execution_count": 99,
   "metadata": {
    "colab": {
     "base_uri": "https://localhost:8080/",
     "height": 202
    },
    "executionInfo": {
     "elapsed": 466,
     "status": "ok",
     "timestamp": 1624097033555,
     "user": {
      "displayName": "Saurabh Singh",
      "photoUrl": "",
      "userId": "17828593908952867657"
     },
     "user_tz": -330
    },
    "id": "q_cdtNNf9HEU",
    "outputId": "26514bbc-4d35-40ae-bd7c-6a0a9b4dfc16"
   },
   "outputs": [
    {
     "data": {
      "text/html": [
       "<div>\n",
       "<style scoped>\n",
       "    .dataframe tbody tr th:only-of-type {\n",
       "        vertical-align: middle;\n",
       "    }\n",
       "\n",
       "    .dataframe tbody tr th {\n",
       "        vertical-align: top;\n",
       "    }\n",
       "\n",
       "    .dataframe thead th {\n",
       "        text-align: right;\n",
       "    }\n",
       "</style>\n",
       "<table border=\"1\" class=\"dataframe\">\n",
       "  <thead>\n",
       "    <tr style=\"text-align: right;\">\n",
       "      <th></th>\n",
       "      <th>Method</th>\n",
       "      <th>accuracy</th>\n",
       "    </tr>\n",
       "  </thead>\n",
       "  <tbody>\n",
       "    <tr>\n",
       "      <th>0</th>\n",
       "      <td>Decision Tree</td>\n",
       "      <td>0.774960</td>\n",
       "    </tr>\n",
       "    <tr>\n",
       "      <th>0</th>\n",
       "      <td>Bagging</td>\n",
       "      <td>0.831786</td>\n",
       "    </tr>\n",
       "    <tr>\n",
       "      <th>0</th>\n",
       "      <td>AdaBoost</td>\n",
       "      <td>0.785827</td>\n",
       "    </tr>\n",
       "    <tr>\n",
       "      <th>0</th>\n",
       "      <td>AdaBoost</td>\n",
       "      <td>0.785827</td>\n",
       "    </tr>\n",
       "    <tr>\n",
       "      <th>0</th>\n",
       "      <td>Gradient Boosting</td>\n",
       "      <td>0.802581</td>\n",
       "    </tr>\n",
       "  </tbody>\n",
       "</table>\n",
       "</div>"
      ],
      "text/plain": [
       "              Method  accuracy\n",
       "0      Decision Tree  0.774960\n",
       "0            Bagging  0.831786\n",
       "0           AdaBoost  0.785827\n",
       "0           AdaBoost  0.785827\n",
       "0  Gradient Boosting  0.802581"
      ]
     },
     "execution_count": 99,
     "metadata": {
      "tags": []
     },
     "output_type": "execute_result"
    }
   ],
   "source": [
    "acc_gbcl = accuracy_score(Y_test, Y_test_predict_gbcl)\n",
    "tempResultsDf = pd.DataFrame({'Method':['Gradient Boosting'], 'accuracy': [acc_gbcl]})\n",
    "resultsDf = pd.concat([resultsDf, tempResultsDf])\n",
    "\n",
    "resultsDf"
   ]
  },
  {
   "cell_type": "markdown",
   "metadata": {
    "id": "VtKGmkDC0Pyn"
   },
   "source": [
    "**Ensemble - Random Forest Classifier**"
   ]
  },
  {
   "cell_type": "code",
   "execution_count": 100,
   "metadata": {
    "executionInfo": {
     "elapsed": 884,
     "status": "ok",
     "timestamp": 1624097069434,
     "user": {
      "displayName": "Saurabh Singh",
      "photoUrl": "",
      "userId": "17828593908952867657"
     },
     "user_tz": -330
    },
    "id": "Z-eqZNdE0R1l"
   },
   "outputs": [],
   "source": [
    "from sklearn.ensemble import RandomForestClassifier"
   ]
  },
  {
   "cell_type": "code",
   "execution_count": 101,
   "metadata": {
    "colab": {
     "base_uri": "https://localhost:8080/"
    },
    "executionInfo": {
     "elapsed": 986,
     "status": "ok",
     "timestamp": 1624097070888,
     "user": {
      "displayName": "Saurabh Singh",
      "photoUrl": "",
      "userId": "17828593908952867657"
     },
     "user_tz": -330
    },
    "id": "V2suvjVq0Xry",
    "outputId": "bf98f381-2149-49f4-c349-b1239a47f65b"
   },
   "outputs": [
    {
     "data": {
      "text/plain": [
       "RandomForestClassifier(bootstrap=True, ccp_alpha=0.0, class_weight=None,\n",
       "                       criterion='gini', max_depth=None, max_features=12,\n",
       "                       max_leaf_nodes=None, max_samples=None,\n",
       "                       min_impurity_decrease=0.0, min_impurity_split=None,\n",
       "                       min_samples_leaf=1, min_samples_split=2,\n",
       "                       min_weight_fraction_leaf=0.0, n_estimators=50,\n",
       "                       n_jobs=None, oob_score=False, random_state=123,\n",
       "                       verbose=0, warm_start=False)"
      ]
     },
     "execution_count": 101,
     "metadata": {
      "tags": []
     },
     "output_type": "execute_result"
    }
   ],
   "source": [
    "rfcl = RandomForestClassifier(n_estimators = 50, random_state=123, max_features = 12)\n",
    "rfcl.fit(X_train,Y_train)"
   ]
  },
  {
   "cell_type": "code",
   "execution_count": 102,
   "metadata": {
    "executionInfo": {
     "elapsed": 11,
     "status": "ok",
     "timestamp": 1624097074129,
     "user": {
      "displayName": "Saurabh Singh",
      "photoUrl": "",
      "userId": "17828593908952867657"
     },
     "user_tz": -330
    },
    "id": "7ltRSsaQ0yp9"
   },
   "outputs": [],
   "source": [
    "Y_train_predict_rfcl = rfcl.predict(X_train)\n",
    "Y_test_predict_rfcl = rfcl.predict(X_test)"
   ]
  },
  {
   "cell_type": "code",
   "execution_count": 103,
   "metadata": {
    "colab": {
     "base_uri": "https://localhost:8080/"
    },
    "executionInfo": {
     "elapsed": 425,
     "status": "ok",
     "timestamp": 1624097081569,
     "user": {
      "displayName": "Saurabh Singh",
      "photoUrl": "",
      "userId": "17828593908952867657"
     },
     "user_tz": -330
    },
    "id": "LeVWKBgJ1QHT",
    "outputId": "e8ae6c9f-16a0-4996-ca59-6539a732e4e8"
   },
   "outputs": [
    {
     "name": "stdout",
     "output_type": "stream",
     "text": [
      "0.9976238968092329\n",
      "0.8306542902422459\n"
     ]
    }
   ],
   "source": [
    "print(rfcl.score(X_train,Y_train))\n",
    "print(rfcl.score(X_test,Y_test))"
   ]
  },
  {
   "cell_type": "markdown",
   "metadata": {
    "id": "Cr4UHJqR1sCB"
   },
   "source": [
    "* RandomForest model seems to be overfit"
   ]
  },
  {
   "cell_type": "markdown",
   "metadata": {
    "id": "detgJUAb1yoK"
   },
   "source": [
    "* Confusion Matrix"
   ]
  },
  {
   "cell_type": "code",
   "execution_count": 104,
   "metadata": {
    "colab": {
     "base_uri": "https://localhost:8080/",
     "height": 337
    },
    "executionInfo": {
     "elapsed": 726,
     "status": "ok",
     "timestamp": 1624097087873,
     "user": {
      "displayName": "Saurabh Singh",
      "photoUrl": "",
      "userId": "17828593908952867657"
     },
     "user_tz": -330
    },
    "id": "aeEzAKAc15kh",
    "outputId": "579ec508-f60d-454c-9a15-29a49dc346d6"
   },
   "outputs": [
    {
     "data": {
      "text/plain": [
       "<matplotlib.axes._subplots.AxesSubplot at 0x7fada436d390>"
      ]
     },
     "execution_count": 104,
     "metadata": {
      "tags": []
     },
     "output_type": "execute_result"
    },
    {
     "data": {
      "image/png": "[encoded data removed]",
      "text/plain": [
       "<Figure size 504x360 with 2 Axes>"
      ]
     },
     "metadata": {
      "needs_background": "light",
      "tags": []
     },
     "output_type": "display_data"
    }
   ],
   "source": [
    "cm = metrics.confusion_matrix(Y_test,Y_test_predict_rfcl, labels=[0,1])\n",
    "df_cm = pd.DataFrame(cm, index = [i for i in ['No','Yes']],\n",
    "                        columns = [i  for i in ['No','Yes']])\n",
    "plt.figure(figsize=(7,5))\n",
    "sns.heatmap(df_cm, annot=True, fmt='g')"
   ]
  },
  {
   "cell_type": "code",
   "execution_count": 105,
   "metadata": {
    "colab": {
     "base_uri": "https://localhost:8080/"
    },
    "executionInfo": {
     "elapsed": 464,
     "status": "ok",
     "timestamp": 1624097097560,
     "user": {
      "displayName": "Saurabh Singh",
      "photoUrl": "",
      "userId": "17828593908952867657"
     },
     "user_tz": -330
    },
    "id": "FQ2JWlJV12i7",
    "outputId": "18d149d7-91c4-4566-d074-830cfe43ced3"
   },
   "outputs": [
    {
     "name": "stdout",
     "output_type": "stream",
     "text": [
      "              precision    recall  f1-score   support\n",
      "\n",
      "           0       0.87      0.89      0.88      3104\n",
      "           1       0.73      0.68      0.71      1313\n",
      "\n",
      "    accuracy                           0.83      4417\n",
      "   macro avg       0.80      0.79      0.79      4417\n",
      "weighted avg       0.83      0.83      0.83      4417\n",
      "\n"
     ]
    }
   ],
   "source": [
    "print(classification_report(Y_test, Y_test_predict_rfcl))"
   ]
  },
  {
   "cell_type": "code",
   "execution_count": 106,
   "metadata": {
    "colab": {
     "base_uri": "https://localhost:8080/",
     "height": 232
    },
    "executionInfo": {
     "elapsed": 464,
     "status": "ok",
     "timestamp": 1624097105605,
     "user": {
      "displayName": "Saurabh Singh",
      "photoUrl": "",
      "userId": "17828593908952867657"
     },
     "user_tz": -330
    },
    "id": "M2ywnfvA1xHv",
    "outputId": "00078207-e417-4bcb-8ef3-93a8258cf985"
   },
   "outputs": [
    {
     "data": {
      "text/html": [
       "<div>\n",
       "<style scoped>\n",
       "    .dataframe tbody tr th:only-of-type {\n",
       "        vertical-align: middle;\n",
       "    }\n",
       "\n",
       "    .dataframe tbody tr th {\n",
       "        vertical-align: top;\n",
       "    }\n",
       "\n",
       "    .dataframe thead th {\n",
       "        text-align: right;\n",
       "    }\n",
       "</style>\n",
       "<table border=\"1\" class=\"dataframe\">\n",
       "  <thead>\n",
       "    <tr style=\"text-align: right;\">\n",
       "      <th></th>\n",
       "      <th>Method</th>\n",
       "      <th>accuracy</th>\n",
       "    </tr>\n",
       "  </thead>\n",
       "  <tbody>\n",
       "    <tr>\n",
       "      <th>0</th>\n",
       "      <td>Decision Tree</td>\n",
       "      <td>0.774960</td>\n",
       "    </tr>\n",
       "    <tr>\n",
       "      <th>0</th>\n",
       "      <td>Bagging</td>\n",
       "      <td>0.831786</td>\n",
       "    </tr>\n",
       "    <tr>\n",
       "      <th>0</th>\n",
       "      <td>AdaBoost</td>\n",
       "      <td>0.785827</td>\n",
       "    </tr>\n",
       "    <tr>\n",
       "      <th>0</th>\n",
       "      <td>AdaBoost</td>\n",
       "      <td>0.785827</td>\n",
       "    </tr>\n",
       "    <tr>\n",
       "      <th>0</th>\n",
       "      <td>Gradient Boosting</td>\n",
       "      <td>0.802581</td>\n",
       "    </tr>\n",
       "    <tr>\n",
       "      <th>0</th>\n",
       "      <td>Random Forest</td>\n",
       "      <td>0.830654</td>\n",
       "    </tr>\n",
       "  </tbody>\n",
       "</table>\n",
       "</div>"
      ],
      "text/plain": [
       "              Method  accuracy\n",
       "0      Decision Tree  0.774960\n",
       "0            Bagging  0.831786\n",
       "0           AdaBoost  0.785827\n",
       "0           AdaBoost  0.785827\n",
       "0  Gradient Boosting  0.802581\n",
       "0      Random Forest  0.830654"
      ]
     },
     "execution_count": 106,
     "metadata": {
      "tags": []
     },
     "output_type": "execute_result"
    }
   ],
   "source": [
    "acc_rfcl = accuracy_score(Y_test, Y_test_predict_rfcl)\n",
    "tempResultsDf = pd.DataFrame({'Method':['Random Forest'], 'accuracy': [acc_rfcl]})\n",
    "resultsDf = pd.concat([resultsDf, tempResultsDf])\n",
    "\n",
    "resultsDf"
   ]
  },
  {
   "cell_type": "markdown",
   "metadata": {
    "id": "zrMJujNv9xuo"
   },
   "source": [
    "**Bagging is having Highest accuracy. Therefore, Bagging model is the best one**"
   ]
  },
  {
   "cell_type": "markdown",
   "metadata": {
    "id": "viUXYqiKRfnK"
   },
   "source": [
    "**Hyperparameter tuning for Bagging model**"
   ]
  },
  {
   "cell_type": "markdown",
   "metadata": {
    "id": "xeaVgWBEm9fO"
   },
   "source": [
    "**Bagging model has **\n",
    "* base estimators : decision tree\n",
    "* n_estimators : let say n. So, I am going to hypertune this feature to get the best result.\n"
   ]
  },
  {
   "cell_type": "code",
   "execution_count": 107,
   "metadata": {
    "executionInfo": {
     "elapsed": 665,
     "status": "ok",
     "timestamp": 1624097123723,
     "user": {
      "displayName": "Saurabh Singh",
      "photoUrl": "",
      "userId": "17828593908952867657"
     },
     "user_tz": -330
    },
    "id": "ojOnpkUiVDWB"
   },
   "outputs": [],
   "source": [
    "    from sklearn import decomposition, datasets\n",
    "    from sklearn import tree\n",
    "    from sklearn.pipeline import Pipeline\n",
    "    from sklearn.model_selection import GridSearchCV\n",
    "    from sklearn.preprocessing import StandardScaler\n",
    "    from sklearn.model_selection import RepeatedStratifiedKFold\n",
    "    from sklearn.model_selection import cross_val_score\n",
    "    from numpy import mean\n",
    "    from numpy import std"
   ]
  },
  {
   "cell_type": "code",
   "execution_count": 108,
   "metadata": {
    "executionInfo": {
     "elapsed": 382,
     "status": "ok",
     "timestamp": 1624097133200,
     "user": {
      "displayName": "Saurabh Singh",
      "photoUrl": "",
      "userId": "17828593908952867657"
     },
     "user_tz": -330
    },
    "id": "39kF8AussBkx"
   },
   "outputs": [],
   "source": [
    "# get a list of models to evaluate\n",
    "def get_models():\n",
    "\tmodels = dict()\n",
    "\t# define number of trees to consider\n",
    "\tn_trees = [10, 50, 100, 150, 200]\n",
    "\tfor n in n_trees:\n",
    "\t\tmodels[str(n)] = BaggingClassifier(n_estimators=n)\n",
    "\treturn models"
   ]
  },
  {
   "cell_type": "code",
   "execution_count": 110,
   "metadata": {
    "executionInfo": {
     "elapsed": 381,
     "status": "ok",
     "timestamp": 1624097141030,
     "user": {
      "displayName": "Saurabh Singh",
      "photoUrl": "",
      "userId": "17828593908952867657"
     },
     "user_tz": -330
    },
    "id": "nYkreFQJt6it"
   },
   "outputs": [],
   "source": [
    "# evaluate a given model using cross-validation\n",
    "def evaluate_model(model, X, Y):\n",
    "\t# define the evaluation procedure\n",
    "\tcv = RepeatedStratifiedKFold(n_splits=10, n_repeats=3, random_state=1)\n",
    "\t# evaluate the model and collect the results\n",
    "\tscores = cross_val_score(model, X, Y, scoring='accuracy', cv=cv, n_jobs=-1)\n",
    "\treturn scores"
   ]
  },
  {
   "cell_type": "code",
   "execution_count": 111,
   "metadata": {
    "colab": {
     "base_uri": "https://localhost:8080/"
    },
    "executionInfo": {
     "elapsed": 255367,
     "status": "ok",
     "timestamp": 1624097400205,
     "user": {
      "displayName": "Saurabh Singh",
      "photoUrl": "",
      "userId": "17828593908952867657"
     },
     "user_tz": -330
    },
    "id": "2zoc7weWsyan",
    "outputId": "088b546f-f70f-4537-a6a5-d9d98a43ce83"
   },
   "outputs": [
    {
     "name": "stdout",
     "output_type": "stream",
     "text": [
      ">10 0.866 (0.015)\n",
      ">50 0.875 (0.011)\n",
      ">100 0.877 (0.013)\n",
      ">150 0.877 (0.013)\n",
      ">200 0.878 (0.011)\n"
     ]
    }
   ],
   "source": [
    "models = get_models()\n",
    "results, names = list(), list()\n",
    "# evaluate the models and store results\n",
    "results, names = list(), list()\n",
    "for name, model in models.items():\n",
    "\t# evaluate the model\n",
    "\tscores = evaluate_model(model, X, Y)\n",
    "\t# store the results\n",
    "\tresults.append(scores)\n",
    "\tnames.append(name)\n",
    " \t# summarize the performance along the way\n",
    "\tprint('>%s %.3f (%.3f)' % (name, mean(scores), std(scores)))"
   ]
  },
  {
   "cell_type": "markdown",
   "metadata": {
    "id": "epYqsYB6v8Ek"
   },
   "source": [
    "* Considering 50 as best because after that accuracy almost flatten."
   ]
  },
  {
   "cell_type": "code",
   "execution_count": 112,
   "metadata": {
    "executionInfo": {
     "elapsed": 410,
     "status": "ok",
     "timestamp": 1624099517351,
     "user": {
      "displayName": "Saurabh Singh",
      "photoUrl": "",
      "userId": "17828593908952867657"
     },
     "user_tz": -330
    },
    "id": "xS8fwH_JGddx"
   },
   "outputs": [],
   "source": [
    "import pickle\n",
    "# save the model to disk\n",
    "filename = 'bgcl_model.sav'\n",
    "pickle.dump(bgcl, open(filename, 'wb'))"
   ]
  },
  {
   "cell_type": "markdown",
   "metadata": {
    "id": "7fP-jiqU4mJc"
   },
   "source": [
    "**7. Conclusion and improvisation**\n",
    "* Write your conclusion on the results.\n",
    "* Detailed suggestions or improvements or on quality, quantity, variety, velocity, veracity etc. on the data points collected by the\n",
    "telecom operator to perform a better data analysis in future."
   ]
  },
  {
   "cell_type": "markdown",
   "metadata": {
    "id": "xipU2knF5WVZ"
   },
   "source": [
    "# Conclusion:\n",
    "\n",
    "Bagging model is having highest accuracy with n_estimators 50.\n"
   ]
  },
  {
   "cell_type": "markdown",
   "metadata": {
    "id": "zy8LQpYk5oLC"
   },
   "source": [
    "**Suggestion**\n",
    "* Quality: Data is good as it does not have many missing value(only 11 rows out of 7043)\n",
    "* Quantity: is good\n",
    "* Variety: Variety is ok as data is consistent.  \n",
    "* Veracity feature measures the accuracy of data and its potential use for analysis. Here data is accurate and good for analysis.\n",
    "* Visualising: Visualising data is about representing key information and knowledge more instinctively and effectively through using different visual formats such as in a pictorial or graphical layout This data has a good visualising power.\n",
    "* Class Imbalance issue is there. For better analysis, this issue of class Imbalance should be taken care in future."
   ]
  }
 ],
 "metadata": {
  "colab": {
   "authorship_tag": "ABX9TyODndhoOUS4yW5xHsS1Cg40",
   "collapsed_sections": [],
   "mount_file_id": "1QJThRRHcj5WgFU08kz5R28OZbjCF54_D",
   "name": "Ensemble Technique Assignment.ipynb",
   "provenance": []
  },
  "kernelspec": {
   "display_name": "Python 3",
   "language": "python",
   "name": "python3"
  },
  "language_info": {
   "codemirror_mode": {
    "name": "ipython",
    "version": 3
   },
   "file_extension": ".py",
   "mimetype": "text/x-python",
   "name": "python",
   "nbconvert_exporter": "python",
   "pygments_lexer": "ipython3",
   "version": "3.7.3"
  }
 },
 "nbformat": 4,
 "nbformat_minor": 1
}
